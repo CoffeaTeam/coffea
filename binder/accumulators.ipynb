{
 "cells": [
  {
   "cell_type": "markdown",
   "metadata": {},
   "source": [
    "# Accumulators\n",
    "\n",
    "Accumulators are abstract objects that enable the reduce stage of the typical map-reduce scaleout that we do in Coffea.  One concrete example is a histogram.  The idea is that an accumulator definition holds enough information to be able to create an empty accumulator (the `identity()`) and add two compatible accumulators together (the `add()`).  The former is not strictly necessary, but helps with book-keeping.  Here we show an example usage of a few accumulator types.  An arbitrary-depth nesting of dictionary accumulators is supported, much like the behavior of directories in ROOT `hadd`."
   ]
  },
  {
   "cell_type": "code",
   "execution_count": 1,
   "metadata": {},
   "outputs": [],
   "source": [
    "from coffea.processor import dict_accumulator, column_accumulator, defaultdict_accumulator\n",
    "from coffea.hist import Hist, Bin\n",
    "import numpy as np"
   ]
  },
  {
   "cell_type": "code",
   "execution_count": 2,
   "metadata": {},
   "outputs": [],
   "source": [
    "adef = dict_accumulator({\n",
    "    'cutflow': defaultdict_accumulator(int),\n",
    "    'pt': Hist(\"counts\", Bin(\"pt\", \"$p_T$\", 100, 0, 100)),\n",
    "    'final_pt': column_accumulator(np.zeros(shape=(0,))),\n",
    "})"
   ]
  },
  {
   "cell_type": "markdown",
   "metadata": {},
   "source": [
    "Notice that this cell and the following one have no dependencies on each other and could execute in parallel."
   ]
  },
  {
   "cell_type": "code",
   "execution_count": 3,
   "metadata": {},
   "outputs": [],
   "source": [
    "ptvals = np.random.exponential(scale=30, size=2000)\n",
    "cut = ptvals > 200.\n",
    "\n",
    "a0 = adef.identity()\n",
    "a0['cutflow']['pt>200'] += cut.sum()\n",
    "a0['pt'].fill(pt=ptvals)\n",
    "a0['final_pt'] += column_accumulator(ptvals[cut])"
   ]
  },
  {
   "cell_type": "code",
   "execution_count": 4,
   "metadata": {},
   "outputs": [],
   "source": [
    "ptvals = np.random.exponential(scale=30, size=2000)\n",
    "cut = ptvals > 200.\n",
    "\n",
    "a1 = adef.identity()\n",
    "a1['cutflow']['pt>200'] += cut.sum()\n",
    "a1['pt'].fill(pt=ptvals)\n",
    "a1['final_pt'] += column_accumulator(ptvals[cut])"
   ]
  },
  {
   "cell_type": "markdown",
   "metadata": {},
   "source": [
    "Now that we've completed our filling of two accumulators in parallel, we reduce the output to a single combined accumulator."
   ]
  },
  {
   "cell_type": "code",
   "execution_count": 5,
   "metadata": {},
   "outputs": [
    {
     "data": {
      "text/plain": [
       "{'cutflow': defaultdict_accumulator(int, {'pt>200': 4}),\n",
       " 'pt': <Hist (pt) instance at 0x121097160>,\n",
       " 'final_pt': column_accumulator(array([210.57565817, 209.35292604, 314.75790797, 219.19196919]))}"
      ]
     },
     "execution_count": 5,
     "metadata": {},
     "output_type": "execute_result"
    }
   ],
   "source": [
    "a = a0 + a1\n",
    "a"
   ]
  },
  {
   "cell_type": "code",
   "execution_count": null,
   "metadata": {},
   "outputs": [],
   "source": []
  }
 ],
 "metadata": {
  "kernelspec": {
   "display_name": "Python 3",
   "language": "python",
   "name": "python3"
  },
  "language_info": {
   "codemirror_mode": {
    "name": "ipython",
    "version": 3
   },
   "file_extension": ".py",
   "mimetype": "text/x-python",
   "name": "python",
   "nbconvert_exporter": "python",
   "pygments_lexer": "ipython3",
   "version": "3.7.2"
  }
 },
 "nbformat": 4,
 "nbformat_minor": 2
}
