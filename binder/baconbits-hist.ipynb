{
 "cells": [
  {
   "cell_type": "code",
   "execution_count": 1,
   "metadata": {},
   "outputs": [],
   "source": [
    "from __future__ import print_function, division\n",
    "import uproot\n",
    "import matplotlib.pyplot as plt\n",
    "import numpy as np\n",
    "import gzip\n",
    "\n",
    "%matplotlib inline\n",
    "from fnal_column_analysis_tools import hist"
   ]
  },
  {
   "cell_type": "code",
   "execution_count": 2,
   "metadata": {},
   "outputs": [],
   "source": [
    "flist = {\n",
    "    \"ZJetsToQQ_HT600to800_qc19_4j_TuneCP5_13TeV\": [\n",
    "        \"ZJetsToQQ_HT600to800_qc19_4j_TuneCP5_13TeV.root\",\n",
    "    ],\n",
    "    \"ZJetsToQQ_HT_800toInf_qc19_4j_TuneCP5_13TeV\": [\n",
    "        \"ZJetsToQQ_HT_800toInf_qc19_4j_TuneCP5_13TeV.root\",\n",
    "    ],\n",
    "    \"WJetsToQQ_HT600to800_qc19_3j_TuneCP5_13TeV\": [\n",
    "        \"WJetsToQQ_HT600to800_qc19_3j_TuneCP5_13TeV.root\",\n",
    "    ],\n",
    "    \"WJetsToQQ_HT_800toInf_qc19_3j_TuneCP5_13TeV\": [\n",
    "        \"WJetsToQQ_HT_800toInf_qc19_3j_TuneCP5_13TeV.root\",\n",
    "    ],\n",
    "}\n",
    "\n",
    "# [fb]\n",
    "dataset_xs = {\n",
    "    \"ZJetsToQQ_HT600to800_qc19_4j_TuneCP5_13TeV\": 34.0,\n",
    "    \"ZJetsToQQ_HT_800toInf_qc19_4j_TuneCP5_13TeV\": 18.67,\n",
    "    \"WJetsToQQ_HT600to800_qc19_3j_TuneCP5_13TeV\": 68.57,\n",
    "    \"WJetsToQQ_HT_800toInf_qc19_3j_TuneCP5_13TeV\": 34.9,\n",
    "}\n",
    "\n",
    "lumi = 1000.  # /fb"
   ]
  },
  {
   "cell_type": "code",
   "execution_count": 3,
   "metadata": {},
   "outputs": [],
   "source": [
    "final = hist.Hist(\"Events / bin\", \n",
    "              hist.Cat(\"dataset\", \"Dataset name\"),\n",
    "              hist.Bin(\"gencat\", \"Gen. boson type\", 4, 0, 4),\n",
    "              hist.Bin(\"doubleB\", \"DeepCSV double-B score\", 40, 0, 1), \n",
    "              hist.Bin(\"msd\", \"Soft-drop mass [GeV]\", 23, 40, 201),\n",
    "              hist.Bin(\"ptj\", \"Jet $p_T$ [GeV]\", [450, 500, 550, 600, 675, 800, 1000])\n",
    "            )"
   ]
  },
  {
   "cell_type": "code",
   "execution_count": 4,
   "metadata": {},
   "outputs": [
    {
     "name": "stdout",
     "output_type": "stream",
     "text": [
      "CPU times: user 11.2 s, sys: 1.67 s, total: 12.8 s\n",
      "Wall time: 18.5 s\n"
     ]
    }
   ],
   "source": [
    "%%time\n",
    "\n",
    "final.clear()\n",
    "fields = [\n",
    "    \"evtWeight\",\n",
    "    \"kfactor\",\n",
    "    \"kfactorNLO\",\n",
    "    \"AK8Puppijet0_doublecsv\",\n",
    "    \"AK8Puppijet0_msd\",\n",
    "    \"AK8Puppijet0_pt\",\n",
    "    \"AK8Puppijet0_isHadronicV\"\n",
    "]\n",
    "\n",
    "nevents = {}\n",
    "for dataset, files in flist.items():\n",
    "    for file in files:\n",
    "        baconbits = uproot.open(file)[\"Events\"]\n",
    "        nevents[dataset] = nevents.get(dataset, 0.) + baconbits.numentries\n",
    "        events = baconbits.arrays(fields, namedecode='ascii')\n",
    "        weight = events[\"evtWeight\"] * events[\"kfactor\"] * events[\"kfactorNLO\"]\n",
    "        final.fill(\n",
    "                dataset=dataset,\n",
    "                doubleB=events[\"AK8Puppijet0_doublecsv\"],\n",
    "                msd=events[\"AK8Puppijet0_msd\"], \n",
    "                ptj=events[\"AK8Puppijet0_pt\"],\n",
    "                gencat=events[\"AK8Puppijet0_isHadronicV\"],\n",
    "                weight=weight\n",
    "            )"
   ]
  },
  {
   "cell_type": "code",
   "execution_count": 5,
   "metadata": {},
   "outputs": [
    {
     "name": "stdout",
     "output_type": "stream",
     "text": [
      "Events processed: 10227949.0\n"
     ]
    }
   ],
   "source": [
    "scale = dict((ds, lumi * dataset_xs[ds] / nevents[ds]) for ds in dataset_xs.keys())\n",
    "final.scale(scale, axis=\"dataset\")\n",
    "print(\"Events processed:\", sum(n for n in nevents.values()))"
   ]
  },
  {
   "cell_type": "code",
   "execution_count": 6,
   "metadata": {},
   "outputs": [],
   "source": [
    "import pickle\n",
    "with gzip.open(\"final.pkl.gz\", \"wb\") as fout:\n",
    "    pickle.dump(final, fout)"
   ]
  },
  {
   "cell_type": "code",
   "execution_count": null,
   "metadata": {},
   "outputs": [],
   "source": []
  }
 ],
 "metadata": {
  "kernelspec": {
   "display_name": "Python 3",
   "language": "python",
   "name": "python3"
  },
  "language_info": {
   "codemirror_mode": {
    "name": "ipython",
    "version": 3
   },
   "file_extension": ".py",
   "mimetype": "text/x-python",
   "name": "python",
   "nbconvert_exporter": "python",
   "pygments_lexer": "ipython3",
   "version": "3.7.1"
  }
 },
 "nbformat": 4,
 "nbformat_minor": 2
}
