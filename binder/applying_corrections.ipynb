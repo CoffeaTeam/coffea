{
 "cells": [
  {
   "cell_type": "markdown",
   "metadata": {},
   "source": [
    "# Applying corrections to columnar data\n",
    "\n",
    "Here we will show how to use the lookup_tools package in fnal-column-analysis-tools (FCAT).\n",
    "It is able to read in a variety of correction files as lookup tables.\n",
    "We also cover here the CMS-specific JET-MET tools that are provided with FCAT."
   ]
  },
  {
   "cell_type": "markdown",
   "metadata": {},
   "source": [
    "**Testing Data Generators:**"
   ]
  },
  {
   "cell_type": "code",
   "execution_count": 1,
   "metadata": {},
   "outputs": [],
   "source": [
    "from coffea.util import awkward\n",
    "from coffea.util import numpy as np\n",
    "import uproot_methods\n",
    "\n",
    "\n",
    "def dummy_jagged_eta_pt():\n",
    "    np.random.seed(42)\n",
    "    counts = np.random.exponential(2, size=50).astype(int)\n",
    "    entries = np.sum(counts)\n",
    "    test_eta = np.random.uniform(-3., 3., size=entries)\n",
    "    test_pt = np.random.exponential(10., size=entries)+np.random.exponential(10, size=entries)\n",
    "    return (counts, test_eta, test_pt)\n",
    "\n",
    "def dummy_four_momenta():\n",
    "    np.random.seed(12345)\n",
    "    nrows = 1000\n",
    "    counts = np.minimum(np.random.exponential(0.5, size=nrows).astype(int), 20)\n",
    "    \n",
    "    px = np.random.normal(loc=20.0,scale=5.0,size=np.sum(counts))\n",
    "    py = np.random.normal(loc=20.0,scale=5.0,size=np.sum(counts))\n",
    "    pz = np.random.normal(loc=0, scale=55, size=np.sum(counts))\n",
    "    m_pi = np.full_like(px,fill_value=0.135)\n",
    "    energy = np.sqrt(px*px + py*py + pz*pz + m_pi*m_pi)\n",
    "    return (counts,px,py,pz,energy)\n",
    "\n",
    "def dummy_events():\n",
    "    counts, px, py, pz, energy = dummy_four_momenta()\n",
    "    thep4 = np.stack((px,py,pz,energy)).T\n",
    "\n",
    "    class obj(object):\n",
    "        def __init__(self):\n",
    "            self.p4 = thep4\n",
    "            self.px = px\n",
    "            self.py = py\n",
    "            self.pz = pz\n",
    "            self.en = energy\n",
    "            self.pt = np.hypot(px,py)\n",
    "            self.phi = np.arctan2(py,px)\n",
    "            self.eta = np.arctanh(pz/np.sqrt(px*px + py*py + pz*pz))\n",
    "            self.mass = np.sqrt(np.abs(energy*energy - (px*px + py*py + pz*pz)))\n",
    "            self.blah = energy*px\n",
    "            self.count = counts\n",
    "    \n",
    "    class events(object):\n",
    "        def __init__(self):\n",
    "            self.thing = obj()\n",
    "    \n",
    "    return events()\n",
    "\n",
    "def gen_reco_TLV():\n",
    "    gen_pt = awkward.JaggedArray.fromiter([[10.0, 20.0, 30.0], [], [40.0, 50.0]])\n",
    "    reco_pt = awkward.JaggedArray.fromiter([[20.2, 10.1, 30.3, 50.5], [50.5], [60]])\n",
    "\n",
    "    gen_eta = awkward.JaggedArray.fromiter([[-3.0, -2.0, 2.0], [], [-1.0, 1.0]])\n",
    "    reco_eta = awkward.JaggedArray.fromiter([[-2.2, -3.3, 2.2, 0.0], [0.0], [1.1]])\n",
    "\n",
    "    gen_phi = awkward.JaggedArray.fromiter([[-1.5, 0.0, 1.5], [], [0.78, -0.78]])\n",
    "    reco_phi = awkward.JaggedArray.fromiter([[ 0.1, -1.4, 1.4, 0.78], [0.78], [-0.77]])\n",
    "\n",
    "    gen = uproot_methods.TLorentzVectorArray.from_ptetaphim(gen_pt, gen_eta, gen_phi, 0.2)\n",
    "    reco = uproot_methods.TLorentzVectorArray.from_ptetaphim(reco_pt, reco_eta, reco_phi, 0.2)\n",
    "\n",
    "    return (gen, reco)"
   ]
  },
  {
   "cell_type": "code",
   "execution_count": 2,
   "metadata": {},
   "outputs": [],
   "source": [
    "from coffea.lookup_tools import extractor"
   ]
  },
  {
   "cell_type": "markdown",
   "metadata": {},
   "source": [
    "## Opening a root file and using it as a lookup table"
   ]
  },
  {
   "cell_type": "code",
   "execution_count": 3,
   "metadata": {},
   "outputs": [
    {
     "name": "stdout",
     "output_type": "stream",
     "text": [
      "['testSF2d']\n",
      "\n",
      "2 dimensional histogram with axes:\n",
      "\t1: [-2.5   -2.    -1.566 -1.444 -0.8    0.     0.8    1.444  1.566  2.\n",
      "  2.5  ]\n",
      "\t2: [ 10.  20.  35.  50.  90. 150. 500.]\n",
      "\n",
      "\n",
      "<class 'coffea.lookup_tools.dense_lookup.dense_lookup'>\n",
      "\n",
      "JAGGED SHAPE COMPARISON\n",
      "eta      : [0 6 2 1 0 0 0 4 1 2 0 7 3 0 0 0 0 1 1 0 1 0 0 0 1 3 0 1 1 0 1 0 0 5 6 3 0\n",
      " 0 2 1 0 1 0 4 0 2 0 1 1 0]\n",
      "pt     : [0 6 2 1 0 0 0 4 1 2 0 7 3 0 0 0 0 1 1 0 1 0 0 0 1 3 0 1 1 0 1 0 0 5 6 3 0\n",
      " 0 2 1 0 1 0 4 0 2 0 1 1 0]\n",
      "scaling : [0 6 2 1 0 0 0 4 1 2 0 7 3 0 0 0 0 1 1 0 1 0 0 0 1 3 0 1 1 0 1 0 0 5 6 3 0\n",
      " 0 2 1 0 1 0 4 0 2 0 1 1 0]\n",
      "output scaling : [[] [0.9078014 0.8274854 0.8633218 0.8633218 0.97981155 0.79701495] [0.88245934 0.82857144] ... [1.007752] [0.80655736] []]\n"
     ]
    }
   ],
   "source": [
    "ext = extractor()\n",
    "ext.add_weight_sets([\"testSF2d scalefactors_Tight_Electron ../tests/samples/testSF2d.histo.root\"])\n",
    "ext.finalize()\n",
    "\n",
    "evaluator = ext.make_evaluator()\n",
    "\n",
    "print(dir(evaluator))\n",
    "print()\n",
    "print(evaluator['testSF2d'])\n",
    "print()\n",
    "print(type(evaluator['testSF2d']))\n",
    "print()\n",
    "\n",
    "counts, test_eta, test_pt = dummy_jagged_eta_pt()\n",
    "\n",
    "# test flat eval\n",
    "test_out = evaluator[\"testSF2d\"](test_eta, test_pt)\n",
    "\n",
    "# test structured eval\n",
    "test_eta_jagged = awkward.JaggedArray.fromcounts(counts, test_eta)\n",
    "test_pt_jagged = awkward.JaggedArray.fromcounts(counts, test_pt)\n",
    "test_out_jagged = evaluator[\"testSF2d\"](test_eta_jagged, test_pt_jagged)\n",
    "\n",
    "print('JAGGED SHAPE COMPARISON')\n",
    "print('eta      :',test_eta_jagged.counts)\n",
    "print('pt     :',test_pt_jagged.counts)\n",
    "print('scaling :',test_out_jagged.counts)\n",
    "\n",
    "print('output scaling :',test_out_jagged)"
   ]
  },
  {
   "cell_type": "markdown",
   "metadata": {},
   "source": [
    "## Plotting with weights"
   ]
  },
  {
   "cell_type": "code",
   "execution_count": 4,
   "metadata": {},
   "outputs": [],
   "source": [
    "from coffea import hist\n",
    "\n",
    "weights_axis = hist.Cat(\"wgtname\", \"With/Without Weights\")\n",
    "eta_axis = hist.Bin(\"eta\", r\"$\\eta\", 20, -2.5, 2.5)\n",
    "pt_axis = hist.Bin(\"pt\", r\"$p_{T}$ [GeV]\", 20, 10, 30)\n",
    "\n",
    "eta_hist = hist.Hist(\"Counts\", weights_axis, eta_axis)\n",
    "pt_hist = hist.Hist(\"Counts\", weights_axis, pt_axis)\n",
    "\n",
    "eta_hist.fill(wgtname='weights',eta=test_eta_jagged.flatten(),weight=test_out_jagged.flatten())\n",
    "eta_hist.fill(wgtname='noweights',eta=test_eta_jagged.flatten())\n",
    "\n",
    "pt_hist.fill(wgtname='weights',pt=test_pt_jagged.flatten(),weight=test_out_jagged.flatten())\n",
    "pt_hist.fill(wgtname='noweights',pt=test_pt_jagged.flatten())"
   ]
  },
  {
   "cell_type": "code",
   "execution_count": 5,
   "metadata": {},
   "outputs": [],
   "source": [
    "fig, ax, _ = hist.plot1d(eta_hist, overlay='wgtname')\n"
   ]
  },
  {
   "cell_type": "code",
   "execution_count": 6,
   "metadata": {},
   "outputs": [
    {
     "data": {
      "image/png": "[encoded data removed]",
      "text/plain": [
       "<Figure size 432x288 with 1 Axes>"
      ]
     },
     "metadata": {},
     "output_type": "display_data"
    }
   ],
   "source": [
    "fig, ax, _ = hist.plot1d(pt_hist, overlay='wgtname')\n"
   ]
  },
  {
   "cell_type": "markdown",
   "metadata": {},
   "source": [
    "## Importing B-tagging Scale Factors"
   ]
  },
  {
   "cell_type": "code",
   "execution_count": 7,
   "metadata": {},
   "outputs": [
    {
     "name": "stdout",
     "output_type": "stream",
     "text": [
      "CSVv2;OperatingPoint, measurementType, sysType, jetFlavor, etaMin, etaMax, ptMin, ptMax, discrMin, discrMax, formula \r\n",
      "0, mujets, central, 1, -2.4, 2.4, 20, 1000, 0, 1, \"0.884016*((1.+(0.0331508*x))/(1.+(0.0285096*x)))\" \r\n",
      "0, mujets, central, 0, -2.4, 2.4, 20, 1000, 0, 1, \"0.884016*((1.+(0.0331508*x))/(1.+(0.0285096*x)))\" \r\n",
      "0, mujets, down, 1, -2.4, 2.4, 20, 30, 0, 1, \"(0.884016*((1.+(0.0331508*x))/(1.+(0.0285096*x))))-0.063606932759284973\" \r\n",
      "0, mujets, down, 1, -2.4, 2.4, 30, 50, 0, 1, \"(0.884016*((1.+(0.0331508*x))/(1.+(0.0285096*x))))-0.034989029169082642\" \r\n"
     ]
    }
   ],
   "source": [
    "%%bash\n",
    "head -5 ../tests/samples/testBTagSF.btag.csv"
   ]
  },
  {
   "cell_type": "code",
   "execution_count": 8,
   "metadata": {},
   "outputs": [
    {
     "name": "stdout",
     "output_type": "stream",
     "text": [
      "['testBTagCSVv2_0_comb_central_0', 'testBTagCSVv2_0_comb_central_1', 'testBTagCSVv2_0_comb_down_0', 'testBTagCSVv2_0_comb_down_1', 'testBTagCSVv2_0_comb_up_0', 'testBTagCSVv2_0_comb_up_1', 'testBTagCSVv2_0_incl_central_2', 'testBTagCSVv2_0_incl_down_2', 'testBTagCSVv2_0_incl_down_correlated_2', 'testBTagCSVv2_0_incl_down_uncorrelated_2', 'testBTagCSVv2_0_incl_up_2', 'testBTagCSVv2_0_incl_up_correlated_2', 'testBTagCSVv2_0_incl_up_uncorrelated_2', 'testBTagCSVv2_0_mujets_central_0', 'testBTagCSVv2_0_mujets_central_1', 'testBTagCSVv2_0_mujets_down_0', 'testBTagCSVv2_0_mujets_down_1', 'testBTagCSVv2_0_mujets_up_0', 'testBTagCSVv2_0_mujets_up_1', 'testBTagCSVv2_1_comb_central_0', 'testBTagCSVv2_1_comb_central_1', 'testBTagCSVv2_1_comb_down_0', 'testBTagCSVv2_1_comb_down_1', 'testBTagCSVv2_1_comb_up_0', 'testBTagCSVv2_1_comb_up_1', 'testBTagCSVv2_1_incl_central_2', 'testBTagCSVv2_1_incl_down_2', 'testBTagCSVv2_1_incl_down_correlated_2', 'testBTagCSVv2_1_incl_down_uncorrelated_2', 'testBTagCSVv2_1_incl_up_2', 'testBTagCSVv2_1_incl_up_correlated_2', 'testBTagCSVv2_1_incl_up_uncorrelated_2', 'testBTagCSVv2_1_mujets_central_0', 'testBTagCSVv2_1_mujets_central_1', 'testBTagCSVv2_1_mujets_down_0', 'testBTagCSVv2_1_mujets_down_1', 'testBTagCSVv2_1_mujets_up_0', 'testBTagCSVv2_1_mujets_up_1', 'testBTagCSVv2_2_comb_central_0', 'testBTagCSVv2_2_comb_central_1', 'testBTagCSVv2_2_comb_down_0', 'testBTagCSVv2_2_comb_down_1', 'testBTagCSVv2_2_comb_up_0', 'testBTagCSVv2_2_comb_up_1', 'testBTagCSVv2_2_incl_central_2', 'testBTagCSVv2_2_incl_down_2', 'testBTagCSVv2_2_incl_down_correlated_2', 'testBTagCSVv2_2_incl_down_uncorrelated_2', 'testBTagCSVv2_2_incl_up_2', 'testBTagCSVv2_2_incl_up_correlated_2', 'testBTagCSVv2_2_incl_up_uncorrelated_2', 'testBTagCSVv2_2_mujets_central_0', 'testBTagCSVv2_2_mujets_central_1', 'testBTagCSVv2_2_mujets_down_0', 'testBTagCSVv2_2_mujets_down_1', 'testBTagCSVv2_2_mujets_up_0', 'testBTagCSVv2_2_mujets_up_1', 'testBTagCSVv2_3_iterativefit_central_0', 'testBTagCSVv2_3_iterativefit_central_1', 'testBTagCSVv2_3_iterativefit_central_2', 'testBTagCSVv2_3_iterativefit_down_cferr1_1', 'testBTagCSVv2_3_iterativefit_down_cferr2_1', 'testBTagCSVv2_3_iterativefit_down_hf_2', 'testBTagCSVv2_3_iterativefit_down_hfstats1_0', 'testBTagCSVv2_3_iterativefit_down_hfstats2_0', 'testBTagCSVv2_3_iterativefit_down_jes_0', 'testBTagCSVv2_3_iterativefit_down_jes_2', 'testBTagCSVv2_3_iterativefit_down_lf_0', 'testBTagCSVv2_3_iterativefit_down_lfstats1_2', 'testBTagCSVv2_3_iterativefit_down_lfstats2_2', 'testBTagCSVv2_3_iterativefit_up_cferr1_1', 'testBTagCSVv2_3_iterativefit_up_cferr2_1', 'testBTagCSVv2_3_iterativefit_up_hf_2', 'testBTagCSVv2_3_iterativefit_up_hfstats1_0', 'testBTagCSVv2_3_iterativefit_up_hfstats2_0', 'testBTagCSVv2_3_iterativefit_up_jes_0', 'testBTagCSVv2_3_iterativefit_up_jes_2', 'testBTagCSVv2_3_iterativefit_up_lf_0', 'testBTagCSVv2_3_iterativefit_up_lfstats1_2', 'testBTagCSVv2_3_iterativefit_up_lfstats2_2']\n",
      "\n",
      "3 dimensional histogram with axes:\n",
      "\t1: [-2.4  2.4]\n",
      "\t2: [  20.   30.   50.   70.  100.  140.  200.  300.  600. 1000.]\n",
      "\t3: [0. 1.]\n",
      "\n",
      "\n",
      "<class 'coffea.lookup_tools.dense_evaluated_lookup.dense_evaluated_lookup'>\n",
      "\n",
      "[0.95128731 0.93342262 0.94581584 0.9562116  0.95935615 0.76909779\n",
      " 0.95884026 0.86764134 0.95776757 0.95909891 0.83883375 0.89613238\n",
      " 0.93807178 0.90847214 0.95407025 0.94804662 0.66976326 0.96614842\n",
      " 0.96327249 0.90059409 0.81412774 0.86120881 0.95694991 0.95922917\n",
      " 0.96462036 0.96067892 0.91540286 0.95080672 0.94797061 0.95715703\n",
      " 0.92310346 0.77273281 0.79229824 0.89050454 0.87318197 0.86511678\n",
      " 0.86207827 0.91682646 0.94775882 0.81131347 0.91070577 0.87291695\n",
      " 0.96171664 0.92458442 0.9453665  0.94590596 0.90687939 0.94466831\n",
      " 0.81711253 0.91420082 0.90475525 0.88336832 0.9515002  0.94970475\n",
      " 0.95800175 0.8967923  0.92337392 0.92165616 0.93935211 0.84100789\n",
      " 0.87202563 0.91877036]\n"
     ]
    }
   ],
   "source": [
    "ext = extractor()\n",
    "ext.add_weight_sets([\"testBTag * ../tests/samples/testBTagSF.btag.csv\"])\n",
    "ext.finalize()\n",
    "\n",
    "evaluator = ext.make_evaluator()\n",
    "\n",
    "print(dir(evaluator))\n",
    "print()\n",
    "print(evaluator['testBTagCSVv2_1_comb_up_0'])\n",
    "print()\n",
    "print(type(evaluator['testBTagCSVv2_1_comb_up_0']))\n",
    "print()\n",
    "\n",
    "counts, test_eta, test_pt = dummy_jagged_eta_pt()\n",
    "# discriminant used for reshaping, zero otherwise\n",
    "test_discr = np.zeros_like(test_eta)\n",
    "\n",
    "sf_out = evaluator['testBTagCSVv2_1_comb_up_0'](test_eta, test_pt, test_discr)\n",
    "print(sf_out)"
   ]
  },
  {
   "cell_type": "markdown",
   "metadata": {},
   "source": [
    "## Importing JSON-encoded histograms"
   ]
  },
  {
   "cell_type": "code",
   "execution_count": 9,
   "metadata": {},
   "outputs": [
    {
     "name": "stdout",
     "output_type": "stream",
     "text": [
      "{\n",
      "\t\"EIDISO_WH\" : {\n",
      "\t\t\"eta_pt_ratio\" : {\n",
      "\t\t\t\"eta:[ 0.00, 0.80]\":{\n",
      "\t\t\t\t\"pt:[25.00,27.00]\":{\n",
      "\t\t\t\t\t\"value\":0.903,\n",
      "\t\t\t\t\t\"error\":0.051\n",
      "\t\t\t\t},\n",
      "\t\t\t\t\"pt:[27.00,30.00]\":{\n",
      "\t\t\t\t\t\"value\":0.921,\n"
     ]
    }
   ],
   "source": [
    "%%bash\n",
    "head -10 ../tests/samples/EIDISO_WH_out.histo.json"
   ]
  },
  {
   "cell_type": "code",
   "execution_count": 10,
   "metadata": {},
   "outputs": [
    {
     "name": "stdout",
     "output_type": "stream",
     "text": [
      "['EIDISO_WH/eta_pt_ratio_error', 'EIDISO_WH/eta_pt_ratio_value']\n",
      "\n",
      "2 dimensional histogram with axes:\n",
      "\t1: [-2.5  -2.17 -1.8  -1.57 -1.44 -0.8   0.    0.8   1.44  1.57  1.8   2.17\n",
      "  2.5 ]\n",
      "\t2: [ 25.  27.  30.  32.  35.  40.  50. 200.]\n",
      "\n",
      "\n",
      "<class 'coffea.lookup_tools.dense_lookup.dense_lookup'>\n",
      "\n",
      "[0.771 0.83  0.709 0.709 0.935 0.709 0.788 0.771 0.828 0.904 0.862 0.851\n",
      " 0.791 0.851 0.851 0.903 0.771 0.793 0.774 0.709 0.83  0.771 0.828 0.791\n",
      " 0.886 0.886 0.83  0.791 0.889 0.788 0.709 0.903 0.851 0.788 0.851 0.851\n",
      " 0.867 0.867 0.748 0.862 0.788 0.867 0.    0.903 0.83  0.889 0.903 0.862\n",
      " 0.788 0.788 0.788 0.867 0.893 0.903 0.709 0.    0.862 0.    0.836 0.788\n",
      " 0.851 0.771]\n",
      "[0.029 0.035 0.186 0.186 0.009 0.186 0.186 0.027 0.024 0.008 0.051 0.078\n",
      " 0.027 0.078 0.078 0.051 0.027 0.061 0.036 0.186 0.035 0.027 0.024 0.027\n",
      " 0.04  0.04  0.035 0.029 0.027 0.186 0.186 0.051 0.078 0.186 0.078 0.078\n",
      " 0.078 0.078 0.104 0.051 0.186 0.078 0.    0.051 0.035 0.021 0.051 0.051\n",
      " 0.186 0.186 0.186 0.078 0.029 0.051 0.186 0.    0.051 0.    0.035 0.186\n",
      " 0.078 0.027]\n"
     ]
    }
   ],
   "source": [
    "ext = extractor()\n",
    "ext.add_weight_sets([\"* * ../tests/samples/EIDISO_WH_out.histo.json\"])\n",
    "ext.finalize()\n",
    "    \n",
    "evaluator = ext.make_evaluator()\n",
    "\n",
    "print(dir(evaluator))\n",
    "print()\n",
    "print(evaluator['EIDISO_WH/eta_pt_ratio_value'])\n",
    "print()\n",
    "print(type(evaluator['EIDISO_WH/eta_pt_ratio_value']))\n",
    "print()\n",
    "\n",
    "counts, test_eta, test_pt = dummy_jagged_eta_pt()\n",
    "    \n",
    "sf_out = evaluator['EIDISO_WH/eta_pt_ratio_value'](test_eta, test_pt)\n",
    "sf_err_out = evaluator['EIDISO_WH/eta_pt_ratio_error'](test_eta, test_pt)\n",
    "print(sf_out)\n",
    "print(sf_err_out)"
   ]
  },
  {
   "cell_type": "markdown",
   "metadata": {},
   "source": [
    "## Import Jet Energy Scales and Uncertainties"
   ]
  },
  {
   "cell_type": "code",
   "execution_count": 11,
   "metadata": {},
   "outputs": [
    {
     "name": "stdout",
     "output_type": "stream",
     "text": [
      "{2 JetEta JetPt 1 JetPt max(0.0001,[0]+((x-[1])*([2]+((x-[1])*([3]+((x-[1])*[4])))))) Correction L2Relative}\n",
      "  -5.191  -4.889     0.001   8.95328     7           8   8.9532766      2.638647259      7.816547526   -0.08418211224   -0.04894120539    0.03974185455\n",
      "  -5.191  -4.889   8.95328   10.4135     7   8.9532766   10.413492      2.538089424      8.953276588   -0.04139022814    0.03931172893   -0.02027504013\n",
      "  -5.191  -4.889   10.4135   12.1083     7   10.413492   12.108301      2.498345769        10.413492   -0.05627613174   -0.01124129111    0.00462608126\n",
      "  -5.191  -4.889   12.1083   14.3796     7   12.108301   14.379634      2.393199605      12.10830116   -0.05451625473 -0.0004401913391   0.001090215218\n"
     ]
    }
   ],
   "source": [
    "%%bash\n",
    "head -5 ../tests/samples/Fall17_17Nov2017_V32_MC_L2Relative_AK4PFPuppi.jec.txt"
   ]
  },
  {
   "cell_type": "code",
   "execution_count": 12,
   "metadata": {},
   "outputs": [
    {
     "name": "stdout",
     "output_type": "stream",
     "text": [
      "['Fall17_17Nov2017_V32_MC_L2Relative_AK4PFPuppi', 'Fall17_17Nov2017_V32_MC_Uncertainty_AK4PFPuppi']\n",
      "\n",
      "binned dims: ['JetEta', 'JetPt']\n",
      "eval vars  : ['JetPt']\n",
      "parameters : ['p0', 'p1', 'p2', 'p3', 'p4']\n",
      "formula    : max(0.0001,p0+((JetPt-p1)*(p2+((JetPt-p1)*(p3+((JetPt-p1)*p4))))))\n",
      "signature  : (JetEta,JetPt)\n",
      "\n",
      "\n",
      "binned dims   : ['JetEta']\n",
      "eval vars     : ['JetPt']\n",
      "signature     : (JetEta,JetPt)\n",
      "\n",
      "\n",
      "<class 'coffea.lookup_tools.jme_standard_function.jme_standard_function'>\n",
      "\n",
      "<class 'coffea.lookup_tools.jec_uncertainty_lookup.jec_uncertainty_lookup'>\n",
      "\n",
      "[1.45057193e+00 1.25585204e+00 1.64232333e+00 1.44857384e+00\n",
      " 1.10674860e+00 5.51830446e+01 1.43976124e+00 1.32015858e+00\n",
      " 1.40034850e+00 1.14325794e+00 1.16132973e+00 1.23727560e+00\n",
      " 1.37769766e+00 1.16260351e+00 1.22867873e+00 1.11476187e+00\n",
      " 1.00000000e-04 1.30881909e+00 1.49573656e+00 2.08331161e+00\n",
      " 1.11580486e+00 1.31960025e+00 1.50752870e+00 1.33073814e+00\n",
      " 1.20708889e+00 1.22506240e+00 1.26504714e+00 1.38301056e+00\n",
      " 1.13100769e+00 1.41293290e+00 1.50744071e+00 1.00000000e-04\n",
      " 1.13762966e+00 1.94032953e+00 1.22413629e+00 1.20099728e+00\n",
      " 1.23660312e+00 1.15130767e+00 1.36517306e+00 2.15859176e+00\n",
      " 1.49190352e+00 1.24133590e+00 1.21707778e+00 1.13372533e+00\n",
      " 1.25746869e+00 1.10787047e+00 1.14147547e+00 1.12870077e+00\n",
      " 3.99601852e+00 1.59488828e+00 2.09308520e+00 1.17529515e+00\n",
      " 1.14655837e+00 1.11473851e+00 1.44155395e+00 1.23518610e+00\n",
      " 1.14067907e+00 1.24435685e+00 1.25680743e+00 4.72142338e+00\n",
      " 1.25002771e+00 1.37279862e+00]\n",
      "[[1.11915907 0.88084093]\n",
      " [1.02700341 0.97299659]\n",
      " [1.13520128 0.86479872]\n",
      " [1.03966528 0.96033472]\n",
      " [1.0150645  0.9849355 ]\n",
      " [1.1499     0.8501    ]\n",
      " [1.07996061 0.92003939]\n",
      " [1.0412     0.9588    ]\n",
      " [1.12455323 0.87544677]\n",
      " [1.0147727  0.9852273 ]\n",
      " [1.0551     0.9449    ]\n",
      " [1.04383006 0.95616994]\n",
      " [1.03226187 0.96773813]\n",
      " [1.04098171 0.95901829]\n",
      " [1.02345675 0.97654325]\n",
      " [1.02371956 0.97628044]\n",
      " [1.0408     0.9592    ]\n",
      " [1.02851    0.97149   ]\n",
      " [1.07772071 0.92227929]\n",
      " [1.16931609 0.83068391]\n",
      " [1.044      0.956     ]\n",
      " [1.0412     0.9588    ]\n",
      " [1.1154504  0.8845496 ]\n",
      " [1.02883552 0.97116448]\n",
      " [1.0219841  0.9780159 ]\n",
      " [1.02258514 0.97741486]\n",
      " [1.03130382 0.96869618]\n",
      " [1.06918131 0.93081869]\n",
      " [1.01856829 0.98143171]\n",
      " [1.03454189 0.96545811]\n",
      " [1.04637015 0.95362985]\n",
      " [1.0549     0.9451    ]\n",
      " [1.0562     0.9438    ]\n",
      " [1.18030632 0.81969368]\n",
      " [1.05444569 0.94555431]\n",
      " [1.0562     0.9438    ]\n",
      " [1.0549     0.9451    ]\n",
      " [1.03870278 0.96129722]\n",
      " [1.03294431 0.96705569]\n",
      " [1.0551     0.9449    ]\n",
      " [1.04763247 0.95236753]\n",
      " [1.05349938 0.94650062]\n",
      " [1.01553045 0.98446955]\n",
      " [1.03171128 0.96828872]\n",
      " [1.02443119 0.97556881]\n",
      " [1.01980699 0.98019301]\n",
      " [1.04002754 0.95997246]\n",
      " [1.02474354 0.97525646]\n",
      " [1.2154     0.7846    ]\n",
      " [1.04711972 0.95288028]\n",
      " [1.17204418 0.82795582]\n",
      " [1.0533695  0.9466305 ]\n",
      " [1.01691896 0.98308104]\n",
      " [1.02463635 0.97536365]\n",
      " [1.08025526 0.91974474]\n",
      " [1.03986056 0.96013944]\n",
      " [1.03193999 0.96806001]\n",
      " [1.03222089 0.96777911]\n",
      " [1.02577794 0.97422206]\n",
      " [1.1517     0.8483    ]\n",
      " [1.05178494 0.94821506]\n",
      " [1.04198569 0.95801431]]\n"
     ]
    }
   ],
   "source": [
    "ext = extractor()\n",
    "ext.add_weight_sets([\n",
    "    \"* * ../tests/samples/Fall17_17Nov2017_V32_MC_L2Relative_AK4PFPuppi.jec.txt\",\n",
    "    \"* * ../tests/samples/Fall17_17Nov2017_V32_MC_Uncertainty_AK4PFPuppi.junc.txt\",\n",
    "])\n",
    "ext.finalize()\n",
    "\n",
    "evaluator = ext.make_evaluator()\n",
    "\n",
    "print(dir(evaluator))\n",
    "print()\n",
    "print(evaluator['Fall17_17Nov2017_V32_MC_L2Relative_AK4PFPuppi'])\n",
    "print()\n",
    "print(evaluator['Fall17_17Nov2017_V32_MC_Uncertainty_AK4PFPuppi'])\n",
    "print()\n",
    "print(type(evaluator['Fall17_17Nov2017_V32_MC_L2Relative_AK4PFPuppi']))\n",
    "print()\n",
    "print(type(evaluator['Fall17_17Nov2017_V32_MC_Uncertainty_AK4PFPuppi']))\n",
    "print()\n",
    "\n",
    "counts, test_eta, test_pt = dummy_jagged_eta_pt()\n",
    "    \n",
    "jec_out = evaluator['Fall17_17Nov2017_V32_MC_L2Relative_AK4PFPuppi'](test_eta,test_pt)\n",
    "\n",
    "print(jec_out)\n",
    "\n",
    "junc_out = evaluator['Fall17_17Nov2017_V32_MC_Uncertainty_AK4PFPuppi'](test_eta,test_pt)\n",
    "\n",
    "print(junc_out)"
   ]
  },
  {
   "cell_type": "code",
   "execution_count": 13,
   "metadata": {},
   "outputs": [
    {
     "name": "stdout",
     "output_type": "stream",
     "text": [
      "#Uncertainty sources for Autumn18_V5_DATA_AK4PFchs\n",
      "[AbsoluteStat]\n",
      "{1 JetEta 1 JetPt \"\" Correction JECSource}\n",
      "-5.4 -5.0 150 9.0 0.0037 0.0037 11.0 0.0035 0.0035 13.5 0.0033 0.0033 16.5 0.0031 0.0031 19.5 0.0030 0.0030 22.5 0.0029 0.0029 26.0 0.0028 0.0028 30.0 0.0027 0.0027 34.5 0.0027 0.0027 40.0 0.0026 0.0026 46.0 0.0025 0.0025 52.5 0.0025 0.0025 60.0 0.0025 0.0025 69.0 0.0024 0.0024 79.0 0.0024 0.0024 90.5 0.0024 0.0024 105.5 0.0024 0.0024 123.5 0.0024 0.0024 143.0 0.0025 0.0025 163.5 0.0025 0.0025 185.0 0.0025 0.0025 208.0 0.0025 0.0025 232.5 0.0025 0.0025 258.5 0.0026 0.0026 286.0 0.0026 0.0026 331.0 0.0027 0.0027 396.0 0.0027 0.0027 468.5 0.0028 0.0028 549.5 0.0028 0.0028 639.0 0.0029 0.0029 738.0 0.0029 0.0029 847.5 0.0030 0.0030 968.5 0.0031 0.0031 1102.0 0.0031 0.0031 1249.5 0.0032 0.0032 1412.0 0.0032 0.0032 1590.5 0.0033 0.0033 1787.0 0.0033 0.0033 2003.0 0.0034 0.0034 2241.0 0.0034 0.0034 2503.0 0.0035 0.0035 2790.5 0.0035 0.0035 3107.0 0.0035 0.0035 3455.0 0.0036 0.0036 3837.0 0.0036 0.0036 4257.0 0.0037 0.0037 4719.0 0.0037 0.0037 5226.5 0.0038 0.0038 5784.0 0.0038 0.0038 6538.0 0.0038 0.0038 \n"
     ]
    }
   ],
   "source": [
    "%%bash\n",
    "head -4 ../tests/samples/Autumn18_V8_MC_UncertaintySources_AK4PFchs.junc.txt"
   ]
  },
  {
   "cell_type": "code",
   "execution_count": 14,
   "metadata": {},
   "outputs": [
    {
     "name": "stdout",
     "output_type": "stream",
     "text": [
      "['Autumn18_V8_MC_UncertaintySources_AK4PFchs_AbsoluteFlavMap', 'Autumn18_V8_MC_UncertaintySources_AK4PFchs_AbsoluteMPFBias', 'Autumn18_V8_MC_UncertaintySources_AK4PFchs_AbsoluteSample', 'Autumn18_V8_MC_UncertaintySources_AK4PFchs_AbsoluteScale', 'Autumn18_V8_MC_UncertaintySources_AK4PFchs_AbsoluteStat', 'Autumn18_V8_MC_UncertaintySources_AK4PFchs_CorrelationGroupFlavor', 'Autumn18_V8_MC_UncertaintySources_AK4PFchs_CorrelationGroupIntercalibration', 'Autumn18_V8_MC_UncertaintySources_AK4PFchs_CorrelationGroupMPFInSitu', 'Autumn18_V8_MC_UncertaintySources_AK4PFchs_CorrelationGroupUncorrelated', 'Autumn18_V8_MC_UncertaintySources_AK4PFchs_CorrelationGroupbJES', 'Autumn18_V8_MC_UncertaintySources_AK4PFchs_FlavorPhotonJet', 'Autumn18_V8_MC_UncertaintySources_AK4PFchs_FlavorPureBottom', 'Autumn18_V8_MC_UncertaintySources_AK4PFchs_FlavorPureCharm', 'Autumn18_V8_MC_UncertaintySources_AK4PFchs_FlavorPureGluon', 'Autumn18_V8_MC_UncertaintySources_AK4PFchs_FlavorPureQuark', 'Autumn18_V8_MC_UncertaintySources_AK4PFchs_FlavorQCD', 'Autumn18_V8_MC_UncertaintySources_AK4PFchs_FlavorZJet', 'Autumn18_V8_MC_UncertaintySources_AK4PFchs_Fragmentation', 'Autumn18_V8_MC_UncertaintySources_AK4PFchs_PileUpDataMC', 'Autumn18_V8_MC_UncertaintySources_AK4PFchs_PileUpEnvelope', 'Autumn18_V8_MC_UncertaintySources_AK4PFchs_PileUpMuZero', 'Autumn18_V8_MC_UncertaintySources_AK4PFchs_PileUpPtBB', 'Autumn18_V8_MC_UncertaintySources_AK4PFchs_PileUpPtEC1', 'Autumn18_V8_MC_UncertaintySources_AK4PFchs_PileUpPtEC2', 'Autumn18_V8_MC_UncertaintySources_AK4PFchs_PileUpPtHF', 'Autumn18_V8_MC_UncertaintySources_AK4PFchs_PileUpPtRef', 'Autumn18_V8_MC_UncertaintySources_AK4PFchs_RelativeBal', 'Autumn18_V8_MC_UncertaintySources_AK4PFchs_RelativeFSR', 'Autumn18_V8_MC_UncertaintySources_AK4PFchs_RelativeJEREC1', 'Autumn18_V8_MC_UncertaintySources_AK4PFchs_RelativeJEREC2', 'Autumn18_V8_MC_UncertaintySources_AK4PFchs_RelativeJERHF', 'Autumn18_V8_MC_UncertaintySources_AK4PFchs_RelativePtBB', 'Autumn18_V8_MC_UncertaintySources_AK4PFchs_RelativePtEC1', 'Autumn18_V8_MC_UncertaintySources_AK4PFchs_RelativePtEC2', 'Autumn18_V8_MC_UncertaintySources_AK4PFchs_RelativePtHF', 'Autumn18_V8_MC_UncertaintySources_AK4PFchs_RelativeSample', 'Autumn18_V8_MC_UncertaintySources_AK4PFchs_RelativeStatEC', 'Autumn18_V8_MC_UncertaintySources_AK4PFchs_RelativeStatFSR', 'Autumn18_V8_MC_UncertaintySources_AK4PFchs_RelativeStatHF', 'Autumn18_V8_MC_UncertaintySources_AK4PFchs_SinglePionECAL', 'Autumn18_V8_MC_UncertaintySources_AK4PFchs_SinglePionHCAL', 'Autumn18_V8_MC_UncertaintySources_AK4PFchs_SubTotalAbsolute', 'Autumn18_V8_MC_UncertaintySources_AK4PFchs_SubTotalMC', 'Autumn18_V8_MC_UncertaintySources_AK4PFchs_SubTotalPileUp', 'Autumn18_V8_MC_UncertaintySources_AK4PFchs_SubTotalPt', 'Autumn18_V8_MC_UncertaintySources_AK4PFchs_SubTotalRelative', 'Autumn18_V8_MC_UncertaintySources_AK4PFchs_SubTotalScale', 'Autumn18_V8_MC_UncertaintySources_AK4PFchs_TimePtEta', 'Autumn18_V8_MC_UncertaintySources_AK4PFchs_Total', 'Autumn18_V8_MC_UncertaintySources_AK4PFchs_TotalNoFlavor', 'Autumn18_V8_MC_UncertaintySources_AK4PFchs_TotalNoFlavorNoTime', 'Autumn18_V8_MC_UncertaintySources_AK4PFchs_TotalNoTime']\n",
      "\n",
      "binned dims   : ['JetEta']\n",
      "eval vars     : ['JetPt']\n",
      "signature     : (JetEta,JetPt)\n",
      "\n",
      "\n",
      "<class 'coffea.lookup_tools.jec_uncertainty_lookup.jec_uncertainty_lookup'>\n",
      "\n",
      "[[1.001 0.999]\n",
      " [1.001 0.999]\n",
      " [1.001 0.999]\n",
      " [1.001 0.999]\n",
      " [1.001 0.999]\n",
      " [1.001 0.999]\n",
      " [1.001 0.999]\n",
      " [1.001 0.999]\n",
      " [1.001 0.999]\n",
      " [1.001 0.999]\n",
      " [1.001 0.999]\n",
      " [1.001 0.999]\n",
      " [1.001 0.999]\n",
      " [1.001 0.999]\n",
      " [1.001 0.999]\n",
      " [1.001 0.999]\n",
      " [1.001 0.999]\n",
      " [1.001 0.999]\n",
      " [1.001 0.999]\n",
      " [1.001 0.999]\n",
      " [1.001 0.999]\n",
      " [1.001 0.999]\n",
      " [1.001 0.999]\n",
      " [1.001 0.999]\n",
      " [1.001 0.999]\n",
      " [1.001 0.999]\n",
      " [1.001 0.999]\n",
      " [1.001 0.999]\n",
      " [1.001 0.999]\n",
      " [1.001 0.999]\n",
      " [1.001 0.999]\n",
      " [1.001 0.999]\n",
      " [1.001 0.999]\n",
      " [1.001 0.999]\n",
      " [1.001 0.999]\n",
      " [1.001 0.999]\n",
      " [1.001 0.999]\n",
      " [1.001 0.999]\n",
      " [1.001 0.999]\n",
      " [1.001 0.999]\n",
      " [1.001 0.999]\n",
      " [1.001 0.999]\n",
      " [1.001 0.999]\n",
      " [1.001 0.999]\n",
      " [1.001 0.999]\n",
      " [1.001 0.999]\n",
      " [1.001 0.999]\n",
      " [1.001 0.999]\n",
      " [1.001 0.999]\n",
      " [1.001 0.999]\n",
      " [1.001 0.999]\n",
      " [1.001 0.999]\n",
      " [1.001 0.999]\n",
      " [1.001 0.999]\n",
      " [1.001 0.999]\n",
      " [1.001 0.999]\n",
      " [1.001 0.999]\n",
      " [1.001 0.999]\n",
      " [1.001 0.999]\n",
      " [1.001 0.999]\n",
      " [1.001 0.999]\n",
      " [1.001 0.999]]\n"
     ]
    }
   ],
   "source": [
    "ext = extractor()\n",
    "ext.add_weight_sets([\n",
    "    \"* * ../tests/samples/Autumn18_V8_MC_UncertaintySources_AK4PFchs.junc.txt\",\n",
    "])\n",
    "ext.finalize()\n",
    "\n",
    "evaluator = ext.make_evaluator()\n",
    "\n",
    "print(dir(evaluator))\n",
    "print()\n",
    "print(evaluator['Autumn18_V8_MC_UncertaintySources_AK4PFchs_AbsoluteScale'])\n",
    "print()\n",
    "print(type(evaluator['Autumn18_V8_MC_UncertaintySources_AK4PFchs_AbsoluteScale']))\n",
    "print()\n",
    "\n",
    "bysource_junc_out = evaluator['Autumn18_V8_MC_UncertaintySources_AK4PFchs_AbsoluteScale'](test_eta,test_pt)\n",
    "print(bysource_junc_out)"
   ]
  },
  {
   "cell_type": "markdown",
   "metadata": {},
   "source": [
    "## Applying energy scale transformations to Jets"
   ]
  },
  {
   "cell_type": "code",
   "execution_count": 15,
   "metadata": {},
   "outputs": [
    {
     "name": "stdout",
     "output_type": "stream",
     "text": [
      "['Fall17_17Nov2017_V32_MC_L2Relative_AK4PFPuppi', 'Fall17_17Nov2017_V32_MC_Uncertainty_AK4PFPuppi']\n",
      "\n",
      "\n",
      "starting columns: ['p4', '__fast_pt', '__fast_eta', '__fast_phi', '__fast_mass', 'ptRaw', 'massRaw']\n",
      "\n",
      "untransformed pt ratios [[1.0] [] [] ... [] [] []]\n",
      "untransformed mass ratios [[1.0] [] [] ... [] [] []]\n",
      "transformed pt ratios [[1.1272528072650656] [] [] ... [] [] []]\n",
      "transformed mass ratios [[1.1272528072650656] [] [] ... [] [] []]\n",
      "\n",
      "transformed columns: ['p4', '__fast_pt', '__fast_eta', '__fast_phi', '__fast_mass', 'ptRaw', 'massRaw', 'pt_AK4PFPuppi_up', 'mass_AK4PFPuppi_up', 'pt_AK4PFPuppi_down', 'mass_AK4PFPuppi_down']\n",
      "\n",
      "JES UP pt ratio [[1.14899510679127] [] [] ... [] [] []]\n",
      "JET DOWN pt ratio [[1.105510507738861] [] [] ... [] [] []]\n"
     ]
    }
   ],
   "source": [
    "from coffea.analysis_objects import JaggedCandidateArray as CandArray\n",
    "from coffea.jetmet_tools import FactorizedJetCorrector,JetCorrectionUncertainty\n",
    "from coffea.jetmet_tools import JetTransformer\n",
    "\n",
    "ext = extractor()\n",
    "ext.add_weight_sets([\n",
    "    \"* * ../tests/samples/Fall17_17Nov2017_V32_MC_L2Relative_AK4PFPuppi.jec.txt\",\n",
    "    \"* * ../tests/samples/Fall17_17Nov2017_V32_MC_Uncertainty_AK4PFPuppi.junc.txt\",\n",
    "])\n",
    "ext.finalize()\n",
    "\n",
    "evaluator = ext.make_evaluator()\n",
    "\n",
    "print(dir(evaluator))\n",
    "print()\n",
    "\n",
    "counts, px, py, pz, E = dummy_four_momenta()\n",
    "\n",
    "jets = CandArray.candidatesfromcounts(counts,px=px,py=py,pz=pz,energy=E)\n",
    "jets.add_attributes(ptRaw=jets.pt,\n",
    "                    massRaw=jets.mass)\n",
    "\n",
    "jec_names = ['Fall17_17Nov2017_V32_MC_L2Relative_AK4PFPuppi']\n",
    "junc_names = ['Fall17_17Nov2017_V32_MC_Uncertainty_AK4PFPuppi']\n",
    "corrector = FactorizedJetCorrector(**{name: evaluator[name] for name in jec_names})\n",
    "uncertainties = JetCorrectionUncertainty(**{name:evaluator[name] for name in junc_names})\n",
    "\n",
    "transformer = JetTransformer(jec=corrector,junc=uncertainties)\n",
    "### more possibilities are available if you send in more pieces of the JEC stack\n",
    "# mc2016_ak8_jxform = JetTransformer(jec=MC_AK8JEC2016,junc=MC_AK8JUNC2016\n",
    "#                                    jer=MC_AK8JER2016,jersf=MC_AK8JERSF2016)\n",
    "\n",
    "print()\n",
    "print('starting columns:',jets.columns)\n",
    "print()\n",
    "\n",
    "print('untransformed pt ratios',jets.pt/jets.ptRaw)\n",
    "print('untransformed mass ratios',jets.mass/jets.massRaw)\n",
    "\n",
    "transformer.transform(jets)\n",
    "\n",
    "print('transformed pt ratios',jets.pt/jets.ptRaw)\n",
    "print('transformed mass ratios',jets.mass/jets.massRaw)\n",
    "\n",
    "print()\n",
    "print('transformed columns:',jets.columns)\n",
    "print()\n",
    "\n",
    "print('JES UP pt ratio',jets.pt_AK4PFPuppi_up/jets.ptRaw)\n",
    "print('JET DOWN pt ratio',jets.pt_AK4PFPuppi_down/jets.ptRaw)"
   ]
  },
  {
   "cell_type": "code",
   "execution_count": null,
   "metadata": {},
   "outputs": [],
   "source": []
  }
 ],
 "metadata": {
  "kernelspec": {
   "display_name": "Python 3",
   "language": "python",
   "name": "python3"
  },
  "language_info": {
   "codemirror_mode": {
    "name": "ipython",
    "version": 3
   },
   "file_extension": ".py",
   "mimetype": "text/x-python",
   "name": "python",
   "nbconvert_exporter": "python",
   "pygments_lexer": "ipython3",
   "version": "3.6.5"
  }
 },
 "nbformat": 4,
 "nbformat_minor": 2
}
