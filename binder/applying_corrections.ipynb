{
 "cells": [
  {
   "cell_type": "markdown",
   "metadata": {},
   "source": [
    "# Applying corrections to columnar data\n",
    "\n",
    "Here we will show how to apply corrections to columnar data using:\n",
    "\n",
    "- the `coffea.lookup_tools` package, which is designed to read in ROOT histograms and a variety of data file formats popular within CMS into a standardized lookup table format;\n",
    "- CMS-specific extensions to the above, for jet corrections (`coffea.jetmet_tools`) and b-tagging efficiencies/uncertainties (`coffea.btag_tools`);\n",
    "- the [correctionlib](https://cms-nanoaod.github.io/correctionlib/) package, which provides a experiment-agnostic serializable data format for common correction functions."
   ]
  },
  {
   "cell_type": "markdown",
   "metadata": {},
   "source": [
    "**Test data**:\n",
    "We'll use NanoEvents to construct some test data."
   ]
  },
  {
   "cell_type": "code",
   "execution_count": 1,
   "metadata": {},
   "outputs": [
    {
     "name": "stderr",
     "output_type": "stream",
     "text": [
      "/Users/saransh/Code/HEP/coffea/src/coffea/nanoevents/methods/candidate.py:11: FutureWarning: In version 2024.7.0 (target date: 2024-06-30 11:59:59-05:00), this will be an error.\n",
      "To raise these warnings as errors (and get stack traces to find out where they're called), run\n",
      "    import warnings\n",
      "    warnings.filterwarnings(\"error\", module=\"coffea.*\")\n",
      "after the first `import coffea` or use `@pytest.mark.filterwarnings(\"error:::coffea.*\")` in pytest.\n",
      "Issue: coffea.nanoevents.methods.vector will be removed and replaced with scikit-hep vector. Nanoevents schemas internal to coffea will be migrated. Otherwise please consider using that package!.\n",
      "  from coffea.nanoevents.methods import vector\n"
     ]
    }
   ],
   "source": [
    "import awkward as ak\n",
    "from coffea.nanoevents import NanoEventsFactory, NanoAODSchema\n",
    "\n",
    "NanoAODSchema.warn_missing_crossrefs = False\n",
    "\n",
    "fname = \"https://raw.githubusercontent.com/CoffeaTeam/coffea/master/tests/samples/nano_dy.root\"\n",
    "events = NanoEventsFactory.from_root(\n",
    "    {fname: \"Events\"},\n",
    "    schemaclass=NanoAODSchema,\n",
    "    metadata={\"dataset\": \"DYJets\"},\n",
    ").events()"
   ]
  },
  {
   "cell_type": "markdown",
   "metadata": {},
   "source": [
    "## Coffea lookup_tools\n",
    "\n",
    "The entrypoint for `coffea.lookup_tools` is the [extractor class](https://coffeateam.github.io/coffea/api/coffea.lookup_tools.extractor.html#coffea.lookup_tools.extractor)."
   ]
  },
  {
   "cell_type": "code",
   "execution_count": 2,
   "metadata": {},
   "outputs": [],
   "source": [
    "from coffea.lookup_tools import extractor"
   ]
  },
  {
   "cell_type": "code",
   "execution_count": 3,
   "metadata": {},
   "outputs": [
    {
     "name": "stdout",
     "output_type": "stream",
     "text": [
      "~/Code/HEP/coffea/binder/data ~/Code/HEP/coffea/binder\n",
      "~/Code/HEP/coffea/binder\n"
     ]
    }
   ],
   "source": [
    "%%bash\n",
    "# download some sample correction sources\n",
    "mkdir -p data\n",
    "pushd data\n",
    "PREFIX=https://raw.githubusercontent.com/CoffeaTeam/coffea/master/tests/samples\n",
    "curl -Os $PREFIX/testSF2d.histo.root\n",
    "curl -Os $PREFIX/Fall17_17Nov2017_V32_MC_L2Relative_AK4PFPuppi.jec.txt\n",
    "curl -Os $PREFIX/Fall17_17Nov2017_V32_MC_Uncertainty_AK4PFPuppi.junc.txt\n",
    "curl -Os $PREFIX/DeepCSV_102XSF_V1.btag.csv.gz\n",
    "popd"
   ]
  },
  {
   "cell_type": "markdown",
   "metadata": {},
   "source": [
    "### Opening a root file and using it as a lookup table\n",
    "\n",
    "In [tests/samples](https://github.com/CoffeaTeam/coffea/tree/master/tests/samples), there is an example file with a `TH2F` histogram named `scalefactors_Tight_Electron`. The following code reads that histogram into an [evaluator](https://coffeateam.github.io/coffea/api/coffea.lookup_tools.evaluator.html#coffea.lookup_tools.evaluator) instance, under the key `testSF2d` and applies it to some electrons."
   ]
  },
  {
   "cell_type": "code",
   "execution_count": 4,
   "metadata": {},
   "outputs": [
    {
     "name": "stdout",
     "output_type": "stream",
     "text": [
      "available evaluator keys:\n",
      "\t testSF2d\n",
      "testSF2d: <coffea.lookup_tools.dense_lookup.dense_lookup object at 0x31168b010> 2 dimensional histogram with axes:\n",
      "\t1: [-2.5   -2.    -1.566 -1.444 -0.8    0.     0.8    1.444  1.566  2.\n",
      "  2.5  ]\n",
      "\t2: [ 10.  20.  35.  50.  90. 150. 500.]\n",
      "\n",
      "type of testSF2d: <class 'coffea.lookup_tools.dense_lookup.dense_lookup'>\n"
     ]
    }
   ],
   "source": [
    "ext = extractor()\n",
    "# several histograms can be imported at once using wildcards (*)\n",
    "ext.add_weight_sets([\"testSF2d scalefactors_Tight_Electron data/testSF2d.histo.root\"])\n",
    "ext.finalize()\n",
    "\n",
    "evaluator = ext.make_evaluator()\n",
    "\n",
    "print(\"available evaluator keys:\")\n",
    "for key in evaluator.keys():\n",
    "    print(\"\\t\", key)\n",
    "print(\"testSF2d:\", evaluator['testSF2d'])\n",
    "print(\"type of testSF2d:\", type(evaluator['testSF2d']))"
   ]
  },
  {
   "cell_type": "code",
   "execution_count": 5,
   "metadata": {},
   "outputs": [
    {
     "name": "stdout",
     "output_type": "stream",
     "text": [
      "Electron eta: [[], [1.83], [-0.293, -0.904], [-2.19, 1.65], [], ..., [], [0.381], [], []]\n",
      "Electron pt: [[], [29.6], [60.1, 51.7], [10.7, 8.6], [], ..., [15.6], [], [7.68], [], []]\n",
      "Scale factor: [[], [0.909], [0.953, 0.972], [0.807, 0.827], [], ..., [], [0.946], [], []]\n"
     ]
    }
   ],
   "source": [
    "print(\"Electron eta:\", events.Electron.eta.compute())\n",
    "print(\"Electron pt:\", events.Electron.pt.compute())\n",
    "print(\"Scale factor:\", evaluator[\"testSF2d\"](events.Electron.eta, events.Electron.pt).compute())"
   ]
  },
  {
   "cell_type": "markdown",
   "metadata": {},
   "source": [
    "### Building and using your own correction from a histogram\n",
    "\n",
    "To use a histogram or ratio of histograms to build your own correction, you can use `lookup_tools` to simplify the implementation. Here we create some mock data for two slightly different pt and eta spectra (say, from two different generators) and derive a correction to reweight one sample to the other."
   ]
  },
  {
   "cell_type": "code",
   "execution_count": 6,
   "metadata": {},
   "outputs": [
    {
     "name": "stderr",
     "output_type": "stream",
     "text": [
      "/opt/homebrew/lib/python3.11/site-packages/mplhep/utils.py:197: RuntimeWarning: All sumw are zero!  Cannot compute meaningful error bars\n",
      "  return np.abs(method_fcn(self.values, variances) - self.values)\n"
     ]
    },
    {
     "data": {
      "text/plain": [
       "<matplotlib.legend.Legend at 0x306bbf5d0>"
      ]
     },
     "execution_count": 6,
     "metadata": {},
     "output_type": "execute_result"
    },
    {
     "data": {
      "image/png": "[encoded data removed]",
      "text/plain": [
       "<Figure size 640x480 with 1 Axes>"
      ]
     },
     "metadata": {},
     "output_type": "display_data"
    }
   ],
   "source": [
    "import numpy as np\n",
    "import hist\n",
    "import matplotlib.pyplot as plt\n",
    "\n",
    "dists = (\n",
    "    hist.Hist.new\n",
    "    .StrCat([\"gen1\", \"gen2\", \"gen2rwt\"], name=\"dataset\")\n",
    "    .Reg(20, 0, 100, name=\"pt\")\n",
    "    .Reg(4, -3, 3, name=\"eta\")\n",
    "    .Weight()\n",
    "    .fill(\n",
    "        dataset=\"gen1\",\n",
    "        pt=np.random.exponential(scale=10.0, size=10000) + np.random.exponential(scale=10.0, size=10000),\n",
    "        eta=np.random.normal(scale=1, size=10000)\n",
    "    )\n",
    "    .fill(\n",
    "        dataset=\"gen2\",\n",
    "        pt=np.random.exponential(scale=10.0, size=10000) + np.random.exponential(scale=15.0, size=10000),\n",
    "        eta=np.random.normal(scale=1.1, size=10000)\n",
    "    )\n",
    ")\n",
    "\n",
    "fig, ax = plt.subplots()\n",
    "dists[:, :, sum].plot1d(ax=ax)\n",
    "ax.legend(title=\"dataset\")"
   ]
  },
  {
   "cell_type": "markdown",
   "metadata": {},
   "source": [
    "Now we derive a correction as a function of $p_T$ and $\\eta$ to `gen2` such that it agrees with `gen1`. We'll set it to 1 anywhere we run out of statistics for the correction, to avoid divide by zero issues"
   ]
  },
  {
   "cell_type": "code",
   "execution_count": 7,
   "metadata": {},
   "outputs": [
    {
     "name": "stdout",
     "output_type": "stream",
     "text": [
      "<coffea.lookup_tools.dense_lookup.dense_lookup object at 0x17fe9fd10> 2 dimensional histogram with axes:\n",
      "\t1: [  0.   5.  10.  15.  20.  25.  30.  35.  40.  45.  50.  55.  60.  65.\n",
      "  70.  75.  80.  85.  90.  95. 100.]\n",
      "\t2: [-3.  -1.5  0.   1.5  3. ]\n",
      "\n"
     ]
    },
    {
     "data": {
      "text/plain": [
       "ColormeshArtists(pcolormesh=<matplotlib.collections.QuadMesh object at 0x31669c910>, cbar=<matplotlib.colorbar.Colorbar object at 0x316092990>, text=[])"
      ]
     },
     "execution_count": 7,
     "metadata": {},
     "output_type": "execute_result"
    },
    {
     "data": {
      "image/png": "[encoded data removed]",
      "text/plain": [
       "<Figure size 640x480 with 2 Axes>"
      ]
     },
     "metadata": {},
     "output_type": "display_data"
    }
   ],
   "source": [
    "from coffea.lookup_tools.dense_lookup import dense_lookup\n",
    "\n",
    "num = dists[\"gen1\", :, :].values()\n",
    "den = dists[\"gen2\", :, :].values()\n",
    "sf = np.where(\n",
    "    (num > 0) & (den > 0),\n",
    "    num / np.maximum(den, 1) * den.sum() / num.sum(),\n",
    "    1.0,\n",
    ")\n",
    "\n",
    "corr = dense_lookup(sf, [ax.edges for ax in dists.axes[1:]])\n",
    "print(corr)\n",
    "\n",
    "# a quick way to plot the scale factor is to steal the axis definitions from the input histograms:\n",
    "sfhist = hist.Hist(*dists.axes[1:], data=sf)\n",
    "sfhist.plot2d()"
   ]
  },
  {
   "cell_type": "markdown",
   "metadata": {},
   "source": [
    "Now we generate some new mock data as if it was drawn from `gen2` and reweight it with our `corr` to match `gen1`"
   ]
  },
  {
   "cell_type": "code",
   "execution_count": 8,
   "metadata": {},
   "outputs": [
    {
     "data": {
      "text/plain": [
       "<matplotlib.legend.Legend at 0x31669ebd0>"
      ]
     },
     "execution_count": 8,
     "metadata": {},
     "output_type": "execute_result"
    },
    {
     "data": {
      "image/png": "[encoded data removed]",
      "text/plain": [
       "<Figure size 640x480 with 1 Axes>"
      ]
     },
     "metadata": {},
     "output_type": "display_data"
    }
   ],
   "source": [
    "ptvals = np.random.exponential(scale=10.0, size=10000) + np.random.exponential(scale=15.0, size=10000)\n",
    "etavals = np.random.normal(scale=1.1, size=10000)\n",
    "\n",
    "dists.fill(\n",
    "    dataset=\"gen2rwt\",\n",
    "    pt=ptvals,\n",
    "    eta=etavals,\n",
    "    weight=corr(ptvals, etavals)\n",
    ")\n",
    "\n",
    "fig, ax = plt.subplots()\n",
    "dists[:, :, sum].plot1d(ax=ax)\n",
    "ax.legend(title=\"dataset\")"
   ]
  },
  {
   "cell_type": "markdown",
   "metadata": {},
   "source": [
    "Note that `corr()` can accept also jagged arrays if need be."
   ]
  },
  {
   "cell_type": "markdown",
   "metadata": {},
   "source": [
    "## CMS high-level tools\n",
    "\n",
    "### Applying energy scale transformations with jetmet_tools\n",
    "\n",
    "The `coffea.jetmet_tools` package provides a convenience class [JetTransformer](https://coffeateam.github.io/coffea/api/coffea.jetmet_tools.JetTransformer.html#coffea.jetmet_tools.JetTransformer) which applies specified corrections and computes uncertainties in one call. First we build the desired jet correction stack to apply. This will usually be some set of the various JEC and JER correction text files that depends on the jet cone size (AK4, AK8) and the pileup mitigation algorithm, as well as the data-taking year they are associated with."
   ]
  },
  {
   "cell_type": "code",
   "execution_count": 9,
   "metadata": {},
   "outputs": [
    {
     "name": "stdout",
     "output_type": "stream",
     "text": [
      "['Fall17_17Nov2017_V32_MC_L2Relative_AK4PFPuppi', 'Fall17_17Nov2017_V32_MC_Uncertainty_AK4PFPuppi']\n"
     ]
    }
   ],
   "source": [
    "from coffea.jetmet_tools import FactorizedJetCorrector, JetCorrectionUncertainty\n",
    "from coffea.jetmet_tools import JECStack, CorrectedJetsFactory\n",
    "import awkward as ak\n",
    "import numpy as np\n",
    "\n",
    "ext = extractor()\n",
    "ext.add_weight_sets([\n",
    "    \"* * data/Fall17_17Nov2017_V32_MC_L2Relative_AK4PFPuppi.jec.txt\",\n",
    "    \"* * data/Fall17_17Nov2017_V32_MC_Uncertainty_AK4PFPuppi.junc.txt\",\n",
    "])\n",
    "ext.finalize()\n",
    "\n",
    "jec_stack_names = [\n",
    "    \"Fall17_17Nov2017_V32_MC_L2Relative_AK4PFPuppi\",\n",
    "    \"Fall17_17Nov2017_V32_MC_Uncertainty_AK4PFPuppi\"\n",
    "]\n",
    "\n",
    "evaluator = ext.make_evaluator()\n",
    "\n",
    "jec_inputs = {name: evaluator[name] for name in jec_stack_names}\n",
    "jec_stack = JECStack(jec_inputs)\n",
    "### more possibilities are available if you send in more pieces of the JEC stack\n",
    "# mc2016_ak8_jxform = JECStack([\"more\", \"names\", \"of\", \"JEC parts\"])\n",
    "\n",
    "print(dir(evaluator))"
   ]
  },
  {
   "cell_type": "markdown",
   "metadata": {},
   "source": [
    "Now we prepare some auxilary variables that are used to parameterize the jet energy corrections, such as jet area, mass, and event $\\rho$ (mean pileup energy density), and pass all of these into the `CorrectedJetsFactory`:"
   ]
  },
  {
   "cell_type": "code",
   "execution_count": 10,
   "metadata": {},
   "outputs": [
    {
     "name": "stdout",
     "output_type": "stream",
     "text": [
      "starting columns: {'muEF', 'pt_gen', 'btagDeepB', 'mass', 'muonIdxG', 'btagCMVA', 'btagDeepFlavC', 'neHEF', 'rho', 'muonSubtrFactor', 'pt', 'genJetIdx', 'jercCHPUF', 'electronIdxG', 'genJetIdxG', 'btagDeepC', 'chHEF', 'btagDeepFlavB', 'mass_raw', 'muonIdx1G', 'electronIdx2G', 'area', 'electronIdx1G', 'eta', 'pt_raw', 'jercCHF', 'cleanmask', 'electronIdx2', 'muonIdx2G', 'hadronFlavour', 'chEmEF', 'partonFlavour', 'nMuons', 'btagCSVV2', 'nElectrons', 'nConstituents', 'bRegCorr', 'rawFactor', 'bRegRes', 'muonIdx1', 'muonIdx2', 'qgl', 'electronIdx1', 'puId', 'phi', 'neEmEF', 'jetId'}\n",
      "new columns: {'mass_jec', 'JES_jes', 'jet_energy_uncertainty_jes', 'pt_jec', 'mass_orig', 'jet_energy_correction', 'pt_orig'}\n"
     ]
    }
   ],
   "source": [
    "name_map = jec_stack.blank_name_map\n",
    "name_map['JetPt'] = 'pt'\n",
    "name_map['JetMass'] = 'mass'\n",
    "name_map['JetEta'] = 'eta'\n",
    "name_map['JetA'] = 'area'\n",
    "\n",
    "jets = events.Jet\n",
    "    \n",
    "jets['pt_raw'] = (1 - jets['rawFactor']) * jets['pt']\n",
    "jets['mass_raw'] = (1 - jets['rawFactor']) * jets['mass']\n",
    "jets['pt_gen'] = ak.values_astype(ak.fill_none(jets.matched_gen.pt, 0), np.float32)\n",
    "jets['rho'] = ak.broadcast_arrays(events.fixedGridRhoFastjetAll, jets.pt)[0]\n",
    "name_map['ptGenJet'] = 'pt_gen'\n",
    "name_map['ptRaw'] = 'pt_raw'\n",
    "name_map['massRaw'] = 'mass_raw'\n",
    "name_map['Rho'] = 'rho'\n",
    "    \n",
    "corrector = FactorizedJetCorrector(\n",
    "    Fall17_17Nov2017_V32_MC_L2Relative_AK4PFPuppi=evaluator['Fall17_17Nov2017_V32_MC_L2Relative_AK4PFPuppi'],\n",
    ")\n",
    "uncertainties = JetCorrectionUncertainty(\n",
    "    Fall17_17Nov2017_V32_MC_Uncertainty_AK4PFPuppi=evaluator['Fall17_17Nov2017_V32_MC_Uncertainty_AK4PFPuppi']\n",
    ")\n",
    "\n",
    "jet_factory = CorrectedJetsFactory(name_map, jec_stack)\n",
    "corrected_jets = jet_factory.build(jets)\n",
    "\n",
    "print('starting columns:', set(ak.fields(jets)))\n",
    "print('new columns:', set(ak.fields(corrected_jets)) - set(ak.fields(jets)))"
   ]
  },
  {
   "cell_type": "markdown",
   "metadata": {},
   "source": [
    "Below we show that the corrected jets indeed have a different $p_T$ and mass than we started with"
   ]
  },
  {
   "cell_type": "code",
   "execution_count": 11,
   "metadata": {},
   "outputs": [
    {
     "name": "stdout",
     "output_type": "stream",
     "text": [
      "untransformed pt ratios [[1.12, 1.09, 1.2, 1.35, 1.27], [1.03, 1.08, ..., 1, 0.918], ..., [1.13, 0.978]]\n",
      "untransformed mass ratios [[1.12, 1.09, 1.2, 1.35, 1.27], [1.03, 1.08, ..., 1, 0.918], ..., [1.13, 0.978]]\n",
      "transformed pt ratios [[1.2, 1.3, 1.46, 2.09, 2.1], [1.09, 1.29, ..., 1.22, 1.83], ..., [1.37, 1.15]]\n",
      "transformed mass ratios [[1.2, 1.3, 1.46, 2.09, 2.1], [1.09, 1.29, ..., 1.22, 1.83], ..., [1.37, 1.15]]\n",
      "JES UP pt ratio [[1.22, 1.35, 1.56, 2.34, 2.37], [1.1, 1.32, ..., 1.94], ..., [1.41, 1.17]]\n",
      "JES DOWN pt ratio [[1.19, 1.25, 1.35, 1.83, 1.83], [1.08, 1.26, ..., 1.73], ..., [1.33, 1.12]]\n"
     ]
    }
   ],
   "source": [
    "print('untransformed pt ratios', (jets.pt/jets.pt_raw).compute())\n",
    "print('untransformed mass ratios', (jets.mass/jets.mass_raw).compute())\n",
    "\n",
    "print('transformed pt ratios', (corrected_jets.pt/corrected_jets.pt_raw).compute())\n",
    "print('transformed mass ratios', (corrected_jets.mass/corrected_jets.mass_raw).compute())\n",
    "\n",
    "print('JES UP pt ratio', (corrected_jets.JES_jes.up.pt/corrected_jets.pt_raw).compute())\n",
    "print('JES DOWN pt ratio', (corrected_jets.JES_jes.down.pt/corrected_jets.pt_raw).compute())"
   ]
  },
  {
   "cell_type": "markdown",
   "metadata": {},
   "source": [
    "### Applying CMS b-tagging corrections with btag_tools\n",
    "The `coffea.btag_tools` module provides the high-level utility [BTagScaleFactor](https://coffeateam.github.io/coffea/api/coffea.btag_tools.BTagScaleFactor.html#coffea.btag_tools.BTagScaleFactor) which calculates per-jet weights for b-tagging as well as light flavor mis-tagging efficiencies. Uncertainties can be calculated as well."
   ]
  },
  {
   "cell_type": "code",
   "execution_count": 12,
   "metadata": {},
   "outputs": [
    {
     "name": "stderr",
     "output_type": "stream",
     "text": [
      "/Users/saransh/Code/HEP/coffea/src/coffea/lookup_tools/dense_mapped_lookup.py:31: NumbaDeprecationWarning: \u001b[1mThe 'nopython' keyword argument was not supplied to the 'numba.jit' decorator. The implicit default value for this argument is currently False, but it will be changed to True in Numba 0.59.0. See https://numba.readthedocs.io/en/stable/reference/deprecation.html#deprecation-of-object-mode-fall-back-behaviour-when-using-jit for details.\u001b[0m\n",
      "  out = numba.jit()(feval)\n",
      "/Users/saransh/Code/HEP/coffea/src/coffea/lookup_tools/dense_mapped_lookup.py:31: NumbaDeprecationWarning: \u001b[1mThe 'nopython' keyword argument was not supplied to the 'numba.jit' decorator. The implicit default value for this argument is currently False, but it will be changed to True in Numba 0.59.0. See https://numba.readthedocs.io/en/stable/reference/deprecation.html#deprecation-of-object-mode-fall-back-behaviour-when-using-jit for details.\u001b[0m\n",
      "  out = numba.jit()(feval)\n"
     ]
    },
    {
     "name": "stdout",
     "output_type": "stream",
     "text": [
      "SF: [[1.52, 1.56, 1.59, 1.6, 1.6], [0.969, 1.57, ..., 1.6, 1.6], ..., [1.6, 1.6]]\n"
     ]
    },
    {
     "name": "stderr",
     "output_type": "stream",
     "text": [
      "/Users/saransh/Code/HEP/coffea/src/coffea/lookup_tools/dense_mapped_lookup.py:31: NumbaDeprecationWarning: \u001b[1mThe 'nopython' keyword argument was not supplied to the 'numba.jit' decorator. The implicit default value for this argument is currently False, but it will be changed to True in Numba 0.59.0. See https://numba.readthedocs.io/en/stable/reference/deprecation.html#deprecation-of-object-mode-fall-back-behaviour-when-using-jit for details.\u001b[0m\n",
      "  out = numba.jit()(feval)\n",
      "/Users/saransh/Code/HEP/coffea/src/coffea/lookup_tools/dense_mapped_lookup.py:31: NumbaDeprecationWarning: \u001b[1mThe 'nopython' keyword argument was not supplied to the 'numba.jit' decorator. The implicit default value for this argument is currently False, but it will be changed to True in Numba 0.59.0. See https://numba.readthedocs.io/en/stable/reference/deprecation.html#deprecation-of-object-mode-fall-back-behaviour-when-using-jit for details.\u001b[0m\n",
      "  out = numba.jit()(feval)\n",
      "/Users/saransh/Code/HEP/coffea/src/coffea/lookup_tools/dense_mapped_lookup.py:31: NumbaDeprecationWarning: \u001b[1mThe 'nopython' keyword argument was not supplied to the 'numba.jit' decorator. The implicit default value for this argument is currently False, but it will be changed to True in Numba 0.59.0. See https://numba.readthedocs.io/en/stable/reference/deprecation.html#deprecation-of-object-mode-fall-back-behaviour-when-using-jit for details.\u001b[0m\n",
      "  out = numba.jit()(feval)\n",
      "/Users/saransh/Code/HEP/coffea/src/coffea/lookup_tools/dense_mapped_lookup.py:31: NumbaDeprecationWarning: \u001b[1mThe 'nopython' keyword argument was not supplied to the 'numba.jit' decorator. The implicit default value for this argument is currently False, but it will be changed to True in Numba 0.59.0. See https://numba.readthedocs.io/en/stable/reference/deprecation.html#deprecation-of-object-mode-fall-back-behaviour-when-using-jit for details.\u001b[0m\n",
      "  out = numba.jit()(feval)\n",
      "/Users/saransh/Code/HEP/coffea/src/coffea/lookup_tools/dense_mapped_lookup.py:31: NumbaDeprecationWarning: \u001b[1mThe 'nopython' keyword argument was not supplied to the 'numba.jit' decorator. The implicit default value for this argument is currently False, but it will be changed to True in Numba 0.59.0. See https://numba.readthedocs.io/en/stable/reference/deprecation.html#deprecation-of-object-mode-fall-back-behaviour-when-using-jit for details.\u001b[0m\n",
      "  out = numba.jit()(feval)\n"
     ]
    },
    {
     "name": "stdout",
     "output_type": "stream",
     "text": [
      "systematic +: [[1.72, 1.77, 1.79, 1.8, 1.8], [1.01, 1.78, ..., 1.8, 1.8], ..., [1.8, 1.8]]\n"
     ]
    },
    {
     "name": "stderr",
     "output_type": "stream",
     "text": [
      "/Users/saransh/Code/HEP/coffea/src/coffea/lookup_tools/dense_mapped_lookup.py:31: NumbaDeprecationWarning: \u001b[1mThe 'nopython' keyword argument was not supplied to the 'numba.jit' decorator. The implicit default value for this argument is currently False, but it will be changed to True in Numba 0.59.0. See https://numba.readthedocs.io/en/stable/reference/deprecation.html#deprecation-of-object-mode-fall-back-behaviour-when-using-jit for details.\u001b[0m\n",
      "  out = numba.jit()(feval)\n",
      "/Users/saransh/Code/HEP/coffea/src/coffea/lookup_tools/dense_mapped_lookup.py:31: NumbaDeprecationWarning: \u001b[1mThe 'nopython' keyword argument was not supplied to the 'numba.jit' decorator. The implicit default value for this argument is currently False, but it will be changed to True in Numba 0.59.0. See https://numba.readthedocs.io/en/stable/reference/deprecation.html#deprecation-of-object-mode-fall-back-behaviour-when-using-jit for details.\u001b[0m\n",
      "  out = numba.jit()(feval)\n"
     ]
    },
    {
     "name": "stdout",
     "output_type": "stream",
     "text": [
      "systematic -: [[1.31, 1.36, 1.38, 1.4, 1.4], [0.925, 1.37, ..., 1.4, 1.4], ..., [1.4, 1.4]]\n"
     ]
    },
    {
     "name": "stderr",
     "output_type": "stream",
     "text": [
      "/Users/saransh/Code/HEP/coffea/src/coffea/lookup_tools/dense_mapped_lookup.py:31: NumbaDeprecationWarning: \u001b[1mThe 'nopython' keyword argument was not supplied to the 'numba.jit' decorator. The implicit default value for this argument is currently False, but it will be changed to True in Numba 0.59.0. See https://numba.readthedocs.io/en/stable/reference/deprecation.html#deprecation-of-object-mode-fall-back-behaviour-when-using-jit for details.\u001b[0m\n",
      "  out = numba.jit()(feval)\n",
      "/Users/saransh/Code/HEP/coffea/src/coffea/lookup_tools/dense_mapped_lookup.py:31: NumbaDeprecationWarning: \u001b[1mThe 'nopython' keyword argument was not supplied to the 'numba.jit' decorator. The implicit default value for this argument is currently False, but it will be changed to True in Numba 0.59.0. See https://numba.readthedocs.io/en/stable/reference/deprecation.html#deprecation-of-object-mode-fall-back-behaviour-when-using-jit for details.\u001b[0m\n",
      "  out = numba.jit()(feval)\n",
      "/Users/saransh/Code/HEP/coffea/src/coffea/lookup_tools/dense_mapped_lookup.py:31: NumbaDeprecationWarning: \u001b[1mThe 'nopython' keyword argument was not supplied to the 'numba.jit' decorator. The implicit default value for this argument is currently False, but it will be changed to True in Numba 0.59.0. See https://numba.readthedocs.io/en/stable/reference/deprecation.html#deprecation-of-object-mode-fall-back-behaviour-when-using-jit for details.\u001b[0m\n",
      "  out = numba.jit()(feval)\n"
     ]
    }
   ],
   "source": [
    "from coffea.btag_tools import BTagScaleFactor\n",
    "\n",
    "btag_sf = BTagScaleFactor(\"data/DeepCSV_102XSF_V1.btag.csv.gz\", \"medium\")\n",
    "\n",
    "print(\"SF:\", btag_sf.eval(\"central\", events.Jet.hadronFlavour, abs(events.Jet.eta), events.Jet.pt).compute())\n",
    "print(\"systematic +:\", btag_sf.eval(\"up\", events.Jet.hadronFlavour, abs(events.Jet.eta), events.Jet.pt).compute())\n",
    "print(\"systematic -:\", btag_sf.eval(\"down\", events.Jet.hadronFlavour, abs(events.Jet.eta), events.Jet.pt).compute())"
   ]
  },
  {
   "cell_type": "markdown",
   "metadata": {},
   "source": [
    "## Using correctionlib\n",
    "\n",
    "For the most part, using correctionlib is straightforward. We'll show here how to convert the custom correction we derived earlier (`corr`) into a correctionlib object, and save it in the json format:"
   ]
  },
  {
   "cell_type": "code",
   "execution_count": 13,
   "metadata": {},
   "outputs": [
    {
     "data": {
      "text/html": [
       "<pre style=\"white-space:pre;overflow-x:auto;line-height:normal;font-family:Menlo,'DejaVu Sans Mono',consolas,'Courier New',monospace\"><span style=\"font-weight: bold\">CorrectionSet</span> (<span style=\"font-style: italic\">schema v2</span>)\n",
       "my custom corrections\n",
       "📂\n",
       "└── 📈 <span style=\"font-weight: bold\">gen2_to_gen1</span> (v0)\n",
       "    Reweights gen2 to agree with gen1\n",
       "    Node counts: <span style=\"font-weight: bold\">MultiBinning</span>: 1\n",
       "    ╭──────────── ▶ input ─────────────╮ ╭──────────── ▶ input ────────────╮\n",
       "    │ <span style=\"font-weight: bold\">pt</span> (real)                        │ │ <span style=\"font-weight: bold\">eta</span> (real)                      │\n",
       "    │ pt                               │ │ eta                             │\n",
       "    │ Range: [0.0, 100.0), overflow ok │ │ Range: [-3.0, 3.0), overflow ok │\n",
       "    ╰──────────────────────────────────╯ ╰─────────────────────────────────╯\n",
       "    ╭─── ◀ output ───╮\n",
       "    │ <span style=\"font-weight: bold\">out</span> (real)     │\n",
       "    │ <span style=\"font-style: italic\">No description</span> │\n",
       "    ╰────────────────╯\n",
       "</pre>\n"
      ],
      "text/plain": [
       "\u001b[1mCorrectionSet\u001b[0m (\u001b[3mschema v2\u001b[0m)\n",
       "my custom corrections\n",
       "📂\n",
       "└── 📈 \u001b[1mgen2_to_gen1\u001b[0m (v0)\n",
       "    Reweights gen2 to agree with gen1\n",
       "    Node counts: \u001b[1mMultiBinning\u001b[0m: 1\n",
       "    ╭──────────── ▶ input ─────────────╮ ╭──────────── ▶ input ────────────╮\n",
       "    │ \u001b[1mpt\u001b[0m (real)                        │ │ \u001b[1meta\u001b[0m (real)                      │\n",
       "    │ pt                               │ │ eta                             │\n",
       "    │ Range: [0.0, 100.0), overflow ok │ │ Range: [-3.0, 3.0), overflow ok │\n",
       "    ╰──────────────────────────────────╯ ╰─────────────────────────────────╯\n",
       "    ╭─── ◀ output ───╮\n",
       "    │ \u001b[1mout\u001b[0m (real)     │\n",
       "    │ \u001b[3mNo description\u001b[0m │\n",
       "    ╰────────────────╯\n"
      ]
     },
     "metadata": {},
     "output_type": "display_data"
    }
   ],
   "source": [
    "import correctionlib, rich\n",
    "import correctionlib.convert\n",
    "\n",
    "# without a name, the resulting object will fail validation\n",
    "sfhist.name = \"gen2_to_gen1\"\n",
    "sfhist.label = \"out\"\n",
    "clibcorr = correctionlib.convert.from_histogram(sfhist)\n",
    "clibcorr.description = \"Reweights gen2 to agree with gen1\"\n",
    "# set overflow bins behavior (default is to raise an error when out of bounds)\n",
    "clibcorr.data.flow = \"clamp\"\n",
    "\n",
    "cset = correctionlib.schemav2.CorrectionSet(\n",
    "    schema_version=2,\n",
    "    description=\"my custom corrections\",\n",
    "    corrections=[clibcorr],\n",
    ")\n",
    "rich.print(cset)\n",
    "\n",
    "with open(\"data/mycorrections.json\", \"w\") as fout:\n",
    "    fout.write(cset.json(exclude_unset=True))"
   ]
  },
  {
   "cell_type": "markdown",
   "metadata": {},
   "source": [
    "We can now use this new correction in a similar way to the original `corr()` object:"
   ]
  },
  {
   "cell_type": "code",
   "execution_count": 14,
   "metadata": {},
   "outputs": [
    {
     "data": {
      "text/plain": [
       "array([1.41372734, 1.08682997, 1.22735887, ..., 1.00116078, 1.20584835,\n",
       "       1.03047296])"
      ]
     },
     "execution_count": 14,
     "metadata": {},
     "output_type": "execute_result"
    }
   ],
   "source": [
    "ceval = cset.to_evaluator()\n",
    "\n",
    "ceval[\"gen2_to_gen1\"].evaluate(ptvals, etavals)"
   ]
  },
  {
   "attachments": {},
   "cell_type": "markdown",
   "metadata": {},
   "source": [
    "At the time of writing, `correctionlib` does not support jagged arrays. A `correctionlib_wrapper` provided in `coffea.lookup_tools` allows for the processing of jagged array inputs."
   ]
  },
  {
   "cell_type": "code",
   "execution_count": 15,
   "metadata": {},
   "outputs": [
    {
     "data": {
      "text/html": [
       "<pre>[[1, 0.691, 0.823, 0.719, 0.719],\n",
       " [0.994, 0.58, 1.03, 0.829, 0.719, 0.829, 1.09, 0.719],\n",
       " [1, 0.361, 0.534, 0.788, 0.691],\n",
       " [0.229, 0.358, 0.829],\n",
       " [0.199, 0.229, 0.823, 0.829, 0.829],\n",
       " [0.818, 0.58, 0.839, 0.813, 1.05, 0.829, 0.719, 1.21],\n",
       " [0.248, 0.73, 0.358, 0.745],\n",
       " [0.358, 0.745, 1.05, 0.829],\n",
       " [1.05],\n",
       " [0.11, 0.613, 0.58, 0.839, 0.745, 0.823, 0.719, 1.09, 0.719],\n",
       " ...,\n",
       " [0.756, 0.813],\n",
       " [1.05, 0.719, 0.719, 0.719],\n",
       " [0.691, 0.411, 0.745, 1.09, 1.21, 0.829, 1.09, 1.09, 0.719],\n",
       " [0.72, 0.823, 0.813],\n",
       " [1.09, 1.21],\n",
       " [1.03, 0.691, 1.21],\n",
       " [1.06],\n",
       " [0.852, 0.68, 0.691, 1.05, 0.691, 1.21],\n",
       " [0.829, 1.09]]\n",
       "--------------------------------------------------------------\n",
       "type: 40 * var * float64</pre>"
      ],
      "text/plain": [
       "<Array [[1, 0.691, 0.823, 0.719, 0.719], ..., [...]] type='40 * var * float64'>"
      ]
     },
     "execution_count": 15,
     "metadata": {},
     "output_type": "execute_result"
    }
   ],
   "source": [
    "from coffea.lookup_tools.correctionlib_wrapper import correctionlib_wrapper\n",
    "\n",
    "wrap_c = correctionlib_wrapper(ceval[\"gen2_to_gen1\"])\n",
    "wrap_c(events.Jet.pt, events.Jet.eta).compute()"
   ]
  },
  {
   "attachments": {},
   "cell_type": "markdown",
   "metadata": {},
   "source": [
    "Alternatively, we can use the awkward utilities `flatten` and `unflatten` to convert awkward arrays into numpy arrays for evaluation."
   ]
  },
  {
   "cell_type": "code",
   "execution_count": 16,
   "metadata": {},
   "outputs": [
    {
     "data": {
      "text/html": [
       "<pre>[[1, 0.691, 0.823, 0.719, 0.719],\n",
       " [0.994, 0.58, 1.03, 0.829, 0.719, 0.829, 1.09, 0.719],\n",
       " [1, 0.361, 0.534, 0.788, 0.691],\n",
       " [0.229, 0.358, 0.829],\n",
       " [0.199, 0.229, 0.823, 0.829, 0.829],\n",
       " [0.818, 0.58, 0.839, 0.813, 1.05, 0.829, 0.719, 1.21],\n",
       " [0.248, 0.73, 0.358, 0.745],\n",
       " [0.358, 0.745, 1.05, 0.829],\n",
       " [1.05],\n",
       " [0.11, 0.613, 0.58, 0.839, 0.745, 0.823, 0.719, 1.09, 0.719],\n",
       " ...,\n",
       " [0.756, 0.813],\n",
       " [1.05, 0.719, 0.719, 0.719],\n",
       " [0.691, 0.411, 0.745, 1.09, 1.21, 0.829, 1.09, 1.09, 0.719],\n",
       " [0.72, 0.823, 0.813],\n",
       " [1.09, 1.21],\n",
       " [1.03, 0.691, 1.21],\n",
       " [1.06],\n",
       " [0.852, 0.68, 0.691, 1.05, 0.691, 1.21],\n",
       " [0.829, 1.09]]\n",
       "--------------------------------------------------------------\n",
       "type: 40 * var * float64</pre>"
      ],
      "text/plain": [
       "<Array [[1, 0.691, 0.823, 0.719, 0.719], ..., [...]] type='40 * var * float64'>"
      ]
     },
     "execution_count": 16,
     "metadata": {},
     "output_type": "execute_result"
    }
   ],
   "source": [
    "def myJetSF(jets):\n",
    "    j, nj = ak.flatten(jets), ak.num(jets)\n",
    "    sf = ceval[\"gen2_to_gen1\"].evaluate(np.array(j.pt), np.array(j.eta))\n",
    "    return ak.unflatten(sf, nj)\n",
    "\n",
    "myJetSF(events.Jet.compute())"
   ]
  },
  {
   "cell_type": "code",
   "execution_count": null,
   "metadata": {},
   "outputs": [],
   "source": []
  }
 ],
 "metadata": {
  "kernelspec": {
   "display_name": "Python 3 (ipykernel)",
   "language": "python",
   "name": "python3"
  },
  "language_info": {
   "codemirror_mode": {
    "name": "ipython",
    "version": 3
   },
   "file_extension": ".py",
   "mimetype": "text/x-python",
   "name": "python",
   "nbconvert_exporter": "python",
   "pygments_lexer": "ipython3",
   "version": "3.11.5"
  }
 },
 "nbformat": 4,
 "nbformat_minor": 4
}
