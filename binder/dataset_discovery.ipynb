{
 "cells": [
  {
   "cell_type": "markdown",
   "id": "c5754206-f41b-4e08-bc4d-496df85e8194",
   "metadata": {},
   "source": [
    "# Dataset discovery tools\n",
    "\n",
    "This notebook shows some features to make the dataset discovery for CMS analysis easier. \n",
    "The rucio sytem is queried to look for dataset and access to the list of all available file replicas.\n",
    "\n",
    "Users can exploit these tools at 2 different levels:\n",
    "- low level: use the `rucio_utils` module directly to just query rucio\n",
    "- high level: use the `DataDiscoveryCLI` class to simplify dataset query, replicas filters and uproot preprocessing with dask"
   ]
  },
  {
   "cell_type": "markdown",
   "id": "42242097-c04e-459e-9f3a-1d746df4e9dd",
   "metadata": {},
   "source": [
    "# Using Rucio utils directly"
   ]
  },
  {
   "cell_type": "code",
   "execution_count": 1,
   "id": "09103c77-b8e6-4d61-920b-b1ff8fba8791",
   "metadata": {},
   "outputs": [],
   "source": [
    "from coffea.dataset_tools import rucio_utils\n",
    "from coffea.dataset_tools.dataset_query import print_dataset_query\n",
    "from rich.console import Console\n",
    "from rich.table import Table"
   ]
  },
  {
   "cell_type": "code",
   "execution_count": 2,
   "id": "d62b43cb-53c0-4e2d-b571-1a0683e34dc5",
   "metadata": {},
   "outputs": [
    {
     "data": {
      "text/plain": [
       "<rucio.client.client.Client at 0x7f9bd2277fd0>"
      ]
     },
     "execution_count": 2,
     "metadata": {},
     "output_type": "execute_result"
    }
   ],
   "source": [
    "client = rucio_utils.get_rucio_client()\n",
    "client"
   ]
  },
  {
   "cell_type": "code",
   "execution_count": 3,
   "id": "0359afc0-fc98-4aa8-acf4-288ef19ac7db",
   "metadata": {},
   "outputs": [],
   "source": [
    "query = \"/TTToSemiLeptonic_*_13TeV-powheg-pythia8/RunIISummer20UL18NanoAODv9*/NANOAODSIM\""
   ]
  },
  {
   "cell_type": "code",
   "execution_count": 4,
   "id": "659bee88-9fb0-4d1a-9544-a97372595f18",
   "metadata": {},
   "outputs": [
    {
     "data": {
      "text/plain": [
       "['/TTToSemiLeptonic_TuneCP5CR1_erdON_13TeV-powheg-pythia8/RunIISummer20UL18NanoAODv9-106X_upgrade2018_realistic_v16_L1v1-v1/NANOAODSIM',\n",
       " '/TTToSemiLeptonic_TuneCP5CR2_13TeV-powheg-pythia8/RunIISummer20UL18NanoAODv9-106X_upgrade2018_realistic_v16_L1v1-v2/NANOAODSIM',\n",
       " '/TTToSemiLeptonic_TuneCP5_13TeV-powheg-pythia8/RunIISummer20UL18NanoAODv9-106X_upgrade2018_realistic_v16_L1v1-v1/NANOAODSIM',\n",
       " '/TTToSemiLeptonic_TuneCP5_13TeV-powheg-pythia8/RunIISummer20UL18NanoAODv9-20UL18JMENano_106X_upgrade2018_realistic_v16_L1v1-v1/NANOAODSIM']"
      ]
     },
     "execution_count": 4,
     "metadata": {},
     "output_type": "execute_result"
    }
   ],
   "source": [
    "outlist, outtree = rucio_utils.query_dataset(\n",
    "                query,\n",
    "                client=client,\n",
    "                tree=True,\n",
    "                scope=\"cms\",  \n",
    "            )\n",
    "\n",
    "outlist[1:5]"
   ]
  },
  {
   "cell_type": "markdown",
   "id": "9bc2a454-4915-4366-9c02-2e389e9eb6fb",
   "metadata": {},
   "source": [
    "Let's now pretty-print the results in a table using an utility function in the `dataset_query` module."
   ]
  },
  {
   "cell_type": "code",
   "execution_count": 6,
   "id": "4487d997-dc22-4a47-87df-4da14fa5b35a",
   "metadata": {},
   "outputs": [
    {
     "data": {
      "text/html": [
       "<pre style=\"white-space:pre;overflow-x:auto;line-height:normal;font-family:Menlo,'DejaVu Sans Mono',consolas,'Courier New',monospace\"><span style=\"font-style: italic\">              Query: </span><span style=\"color: #800000; text-decoration-color: #800000; font-weight: bold; font-style: italic\">/TTToSemiLeptonic_*_13TeV-powheg-pythia8/RunIISummer20UL18NanoAODv9*/NANOAODSIM</span><span style=\"font-style: italic\">               </span>\n",
       "┏━━━━━━━━━━━━━━━━━━━━━━━━━━━━━━━━━━━┳━━━━━━━━━━━━━━━━━━━━━━━━━━━━━━━━━━━━━━━━━━━━━━━━━━━━━━━━━━━━━━━━━━━━━━━━━━━━┳┓\n",
       "┃<span style=\"font-weight: bold\"> Name                              </span>┃<span style=\"font-weight: bold\"> Tag                                                                        </span>┃<span style=\"font-weight: bold\"></span>┃\n",
       "┡━━━━━━━━━━━━━━━━━━━━━━━━━━━━━━━━━━━╇━━━━━━━━━━━━━━━━━━━━━━━━━━━━━━━━━━━━━━━━━━━━━━━━━━━━━━━━━━━━━━━━━━━━━━━━━━━━╇┩\n",
       "│<span style=\"color: #7fbfbf; text-decoration-color: #7fbfbf\"> TTToSemiLeptonic_TuneCP5CR1_13Te… </span>│<span style=\"color: #bf7fbf; text-decoration-color: #bf7fbf\"> </span><span style=\"color: #bf7fbf; text-decoration-color: #bf7fbf; font-weight: bold\">(1)</span><span style=\"color: #bf7fbf; text-decoration-color: #bf7fbf\"> RunIISummer20UL18NanoAODv9-106X_upgrade2018_realistic_v16_L1v1-v2/NAN… </span>│<span style=\"color: #7f7f7f; text-decoration-color: #7f7f7f\"></span>│\n",
       "├───────────────────────────────────┼────────────────────────────────────────────────────────────────────────────┼┤\n",
       "│<span style=\"color: #008080; text-decoration-color: #008080\"> TTToSemiLeptonic_TuneCP5CR1_erdO… </span>│<span style=\"color: #800080; text-decoration-color: #800080\"> </span><span style=\"color: #800080; text-decoration-color: #800080; font-weight: bold\">(2)</span><span style=\"color: #800080; text-decoration-color: #800080\"> RunIISummer20UL18NanoAODv9-106X_upgrade2018_realistic_v16_L1v1-v1/NAN… </span>││\n",
       "├───────────────────────────────────┼────────────────────────────────────────────────────────────────────────────┼┤\n",
       "│<span style=\"color: #7fbfbf; text-decoration-color: #7fbfbf\"> TTToSemiLeptonic_TuneCP5CR2_13Te… </span>│<span style=\"color: #bf7fbf; text-decoration-color: #bf7fbf\"> </span><span style=\"color: #bf7fbf; text-decoration-color: #bf7fbf; font-weight: bold\">(3)</span><span style=\"color: #bf7fbf; text-decoration-color: #bf7fbf\"> RunIISummer20UL18NanoAODv9-106X_upgrade2018_realistic_v16_L1v1-v2/NAN… </span>│<span style=\"color: #7f7f7f; text-decoration-color: #7f7f7f\"></span>│\n",
       "├───────────────────────────────────┼────────────────────────────────────────────────────────────────────────────┼┤\n",
       "│<span style=\"color: #008080; text-decoration-color: #008080\"> TTToSemiLeptonic_TuneCP5_13TeV-p… </span>│<span style=\"color: #800080; text-decoration-color: #800080\"> </span><span style=\"color: #800080; text-decoration-color: #800080; font-weight: bold\">(4)</span><span style=\"color: #800080; text-decoration-color: #800080\"> RunIISummer20UL18NanoAODv9-106X_upgrade2018_realistic_v16_L1v1-v1/NAN… </span>││\n",
       "│<span style=\"color: #7fbfbf; text-decoration-color: #7fbfbf\">                                   </span>│<span style=\"color: #bf7fbf; text-decoration-color: #bf7fbf\"> </span><span style=\"color: #bf7fbf; text-decoration-color: #bf7fbf; font-weight: bold\">(5)</span><span style=\"color: #bf7fbf; text-decoration-color: #bf7fbf\"> RunIISummer20UL18NanoAODv9-20UL18JMENano_106X_upgrade2018_realistic_v… </span>│<span style=\"color: #7f7f7f; text-decoration-color: #7f7f7f\"></span>│\n",
       "│<span style=\"color: #008080; text-decoration-color: #008080\">                                   </span>│<span style=\"color: #800080; text-decoration-color: #800080\"> </span><span style=\"color: #800080; text-decoration-color: #800080; font-weight: bold\">(6)</span><span style=\"color: #800080; text-decoration-color: #800080\"> RunIISummer20UL18NanoAODv9-PUForMUOVal_106X_upgrade2018_realistic_v16… </span>││\n",
       "│<span style=\"color: #7fbfbf; text-decoration-color: #7fbfbf\">                                   </span>│<span style=\"color: #bf7fbf; text-decoration-color: #bf7fbf\"> </span><span style=\"color: #bf7fbf; text-decoration-color: #bf7fbf; font-weight: bold\">(7)</span><span style=\"color: #bf7fbf; text-decoration-color: #bf7fbf\"> RunIISummer20UL18NanoAODv9-PUForTRK_TRK_106X_upgrade2018_realistic_v1… </span>│<span style=\"color: #7f7f7f; text-decoration-color: #7f7f7f\"></span>│\n",
       "│<span style=\"color: #008080; text-decoration-color: #008080\">                                   </span>│<span style=\"color: #800080; text-decoration-color: #800080\"> </span><span style=\"color: #800080; text-decoration-color: #800080; font-weight: bold\">(8)</span><span style=\"color: #800080; text-decoration-color: #800080\"> RunIISummer20UL18NanoAODv9-PUForTRKv2_TRKv2_106X_upgrade2018_realisti… </span>││\n",
       "├───────────────────────────────────┼────────────────────────────────────────────────────────────────────────────┼┤\n",
       "│<span style=\"color: #7fbfbf; text-decoration-color: #7fbfbf\"> TTToSemiLeptonic_TuneCP5_erdON_1… </span>│<span style=\"color: #bf7fbf; text-decoration-color: #bf7fbf\"> </span><span style=\"color: #bf7fbf; text-decoration-color: #bf7fbf; font-weight: bold\">(9)</span><span style=\"color: #bf7fbf; text-decoration-color: #bf7fbf\"> RunIISummer20UL18NanoAODv9-106X_upgrade2018_realistic_v16_L1v1-v1/NAN… </span>│<span style=\"color: #7f7f7f; text-decoration-color: #7f7f7f\"></span>│\n",
       "├───────────────────────────────────┼────────────────────────────────────────────────────────────────────────────┼┤\n",
       "│<span style=\"color: #008080; text-decoration-color: #008080\"> TTToSemiLeptonic_TuneCP5down_13T… </span>│<span style=\"color: #800080; text-decoration-color: #800080\"> </span><span style=\"color: #800080; text-decoration-color: #800080; font-weight: bold\">(10)</span><span style=\"color: #800080; text-decoration-color: #800080\"> RunIISummer20UL18NanoAODv9-106X_upgrade2018_realistic_v16_L1v1-v1/NA… </span>││\n",
       "├───────────────────────────────────┼────────────────────────────────────────────────────────────────────────────┼┤\n",
       "│<span style=\"color: #7fbfbf; text-decoration-color: #7fbfbf\"> TTToSemiLeptonic_TuneCP5up_13TeV… </span>│<span style=\"color: #bf7fbf; text-decoration-color: #bf7fbf\"> </span><span style=\"color: #bf7fbf; text-decoration-color: #bf7fbf; font-weight: bold\">(11)</span><span style=\"color: #bf7fbf; text-decoration-color: #bf7fbf\"> RunIISummer20UL18NanoAODv9-106X_upgrade2018_realistic_v16_L1v1-v1/NA… </span>│<span style=\"color: #7f7f7f; text-decoration-color: #7f7f7f\"></span>│\n",
       "├───────────────────────────────────┼────────────────────────────────────────────────────────────────────────────┼┤\n",
       "│<span style=\"color: #008080; text-decoration-color: #008080\"> TTToSemiLeptonic_Vcb_TuneCP5_13T… </span>│<span style=\"color: #800080; text-decoration-color: #800080\"> </span><span style=\"color: #800080; text-decoration-color: #800080; font-weight: bold\">(12)</span><span style=\"color: #800080; text-decoration-color: #800080\"> RunIISummer20UL18NanoAODv9-106X_upgrade2018_realistic_v16_L1v1-v2/NA… </span>││\n",
       "├───────────────────────────────────┼────────────────────────────────────────────────────────────────────────────┼┤\n",
       "│<span style=\"color: #7fbfbf; text-decoration-color: #7fbfbf\"> TTToSemiLeptonic_hdampDOWN_TuneC… </span>│<span style=\"color: #bf7fbf; text-decoration-color: #bf7fbf\"> </span><span style=\"color: #bf7fbf; text-decoration-color: #bf7fbf; font-weight: bold\">(13)</span><span style=\"color: #bf7fbf; text-decoration-color: #bf7fbf\"> RunIISummer20UL18NanoAODv9-106X_upgrade2018_realistic_v16_L1v1-v1/NA… </span>│<span style=\"color: #7f7f7f; text-decoration-color: #7f7f7f\"></span>│\n",
       "├───────────────────────────────────┼────────────────────────────────────────────────────────────────────────────┼┤\n",
       "│<span style=\"color: #008080; text-decoration-color: #008080\"> TTToSemiLeptonic_hdampUP_TuneCP5… </span>│<span style=\"color: #800080; text-decoration-color: #800080\"> </span><span style=\"color: #800080; text-decoration-color: #800080; font-weight: bold\">(14)</span><span style=\"color: #800080; text-decoration-color: #800080\"> RunIISummer20UL18NanoAODv9-106X_upgrade2018_realistic_v16_L1v1-v1/NA… </span>││\n",
       "├───────────────────────────────────┼────────────────────────────────────────────────────────────────────────────┼┤\n",
       "│<span style=\"color: #7fbfbf; text-decoration-color: #7fbfbf\"> TTToSemiLeptonic_mtop166p5_TuneC… </span>│<span style=\"color: #bf7fbf; text-decoration-color: #bf7fbf\"> </span><span style=\"color: #bf7fbf; text-decoration-color: #bf7fbf; font-weight: bold\">(15)</span><span style=\"color: #bf7fbf; text-decoration-color: #bf7fbf\"> RunIISummer20UL18NanoAODv9-106X_upgrade2018_realistic_v16_L1v1-v1/NA… </span>│<span style=\"color: #7f7f7f; text-decoration-color: #7f7f7f\"></span>│\n",
       "├───────────────────────────────────┼────────────────────────────────────────────────────────────────────────────┼┤\n",
       "│<span style=\"color: #008080; text-decoration-color: #008080\"> TTToSemiLeptonic_mtop169p5_TuneC… </span>│<span style=\"color: #800080; text-decoration-color: #800080\"> </span><span style=\"color: #800080; text-decoration-color: #800080; font-weight: bold\">(16)</span><span style=\"color: #800080; text-decoration-color: #800080\"> RunIISummer20UL18NanoAODv9-106X_upgrade2018_realistic_v16_L1v1-v1/NA… </span>││\n",
       "├───────────────────────────────────┼────────────────────────────────────────────────────────────────────────────┼┤\n",
       "│<span style=\"color: #7fbfbf; text-decoration-color: #7fbfbf\"> TTToSemiLeptonic_mtop171p5_TuneC… </span>│<span style=\"color: #bf7fbf; text-decoration-color: #bf7fbf\"> </span><span style=\"color: #bf7fbf; text-decoration-color: #bf7fbf; font-weight: bold\">(17)</span><span style=\"color: #bf7fbf; text-decoration-color: #bf7fbf\"> RunIISummer20UL18NanoAODv9-106X_upgrade2018_realistic_v16_L1v1-v1/NA… </span>│<span style=\"color: #7f7f7f; text-decoration-color: #7f7f7f\"></span>│\n",
       "├───────────────────────────────────┼────────────────────────────────────────────────────────────────────────────┼┤\n",
       "│<span style=\"color: #008080; text-decoration-color: #008080\"> TTToSemiLeptonic_mtop173p5_TuneC… </span>│<span style=\"color: #800080; text-decoration-color: #800080\"> </span><span style=\"color: #800080; text-decoration-color: #800080; font-weight: bold\">(18)</span><span style=\"color: #800080; text-decoration-color: #800080\"> RunIISummer20UL18NanoAODv9-106X_upgrade2018_realistic_v16_L1v1-v1/NA… </span>││\n",
       "├───────────────────────────────────┼────────────────────────────────────────────────────────────────────────────┼┤\n",
       "│<span style=\"color: #7fbfbf; text-decoration-color: #7fbfbf\"> TTToSemiLeptonic_mtop175p5_TuneC… </span>│<span style=\"color: #bf7fbf; text-decoration-color: #bf7fbf\"> </span><span style=\"color: #bf7fbf; text-decoration-color: #bf7fbf; font-weight: bold\">(19)</span><span style=\"color: #bf7fbf; text-decoration-color: #bf7fbf\"> RunIISummer20UL18NanoAODv9-106X_upgrade2018_realistic_v16_L1v1-v1/NA… </span>│<span style=\"color: #7f7f7f; text-decoration-color: #7f7f7f\"></span>│\n",
       "├───────────────────────────────────┼────────────────────────────────────────────────────────────────────────────┼┤\n",
       "│<span style=\"color: #008080; text-decoration-color: #008080\"> TTToSemiLeptonic_mtop178p5_TuneC… </span>│<span style=\"color: #800080; text-decoration-color: #800080\"> </span><span style=\"color: #800080; text-decoration-color: #800080; font-weight: bold\">(20)</span><span style=\"color: #800080; text-decoration-color: #800080\"> RunIISummer20UL18NanoAODv9-106X_upgrade2018_realistic_v16_L1v1-v1/NA… </span>││\n",
       "├───────────────────────────────────┼────────────────────────────────────────────────────────────────────────────┼┤\n",
       "│<span style=\"color: #7fbfbf; text-decoration-color: #7fbfbf\"> TTToSemiLeptonic_widthx0p55_Tune… </span>│<span style=\"color: #bf7fbf; text-decoration-color: #bf7fbf\"> </span><span style=\"color: #bf7fbf; text-decoration-color: #bf7fbf; font-weight: bold\">(21)</span><span style=\"color: #bf7fbf; text-decoration-color: #bf7fbf\"> RunIISummer20UL18NanoAODv9-106X_upgrade2018_realistic_v16_L1v1-v1/NA… </span>│<span style=\"color: #7f7f7f; text-decoration-color: #7f7f7f\"></span>│\n",
       "├───────────────────────────────────┼────────────────────────────────────────────────────────────────────────────┼┤\n",
       "│<span style=\"color: #008080; text-decoration-color: #008080\"> TTToSemiLeptonic_widthx0p7_TuneC… </span>│<span style=\"color: #800080; text-decoration-color: #800080\"> </span><span style=\"color: #800080; text-decoration-color: #800080; font-weight: bold\">(22)</span><span style=\"color: #800080; text-decoration-color: #800080\"> RunIISummer20UL18NanoAODv9-106X_upgrade2018_realistic_v16_L1v1-v1/NA… </span>││\n",
       "├───────────────────────────────────┼────────────────────────────────────────────────────────────────────────────┼┤\n",
       "│<span style=\"color: #7fbfbf; text-decoration-color: #7fbfbf\"> TTToSemiLeptonic_widthx0p85_Tune… </span>│<span style=\"color: #bf7fbf; text-decoration-color: #bf7fbf\"> </span><span style=\"color: #bf7fbf; text-decoration-color: #bf7fbf; font-weight: bold\">(23)</span><span style=\"color: #bf7fbf; text-decoration-color: #bf7fbf\"> RunIISummer20UL18NanoAODv9-106X_upgrade2018_realistic_v16_L1v1-v1/NA… </span>│<span style=\"color: #7f7f7f; text-decoration-color: #7f7f7f\"></span>│\n",
       "├───────────────────────────────────┼────────────────────────────────────────────────────────────────────────────┼┤\n",
       "│<span style=\"color: #008080; text-decoration-color: #008080\"> TTToSemiLeptonic_widthx1p15_Tune… </span>│<span style=\"color: #800080; text-decoration-color: #800080\"> </span><span style=\"color: #800080; text-decoration-color: #800080; font-weight: bold\">(24)</span><span style=\"color: #800080; text-decoration-color: #800080\"> RunIISummer20UL18NanoAODv9-106X_upgrade2018_realistic_v16_L1v1-v1/NA… </span>││\n",
       "├───────────────────────────────────┼────────────────────────────────────────────────────────────────────────────┼┤\n",
       "│<span style=\"color: #7fbfbf; text-decoration-color: #7fbfbf\"> TTToSemiLeptonic_widthx1p3_TuneC… </span>│<span style=\"color: #bf7fbf; text-decoration-color: #bf7fbf\"> </span><span style=\"color: #bf7fbf; text-decoration-color: #bf7fbf; font-weight: bold\">(25)</span><span style=\"color: #bf7fbf; text-decoration-color: #bf7fbf\"> RunIISummer20UL18NanoAODv9-106X_upgrade2018_realistic_v16_L1v1-v1/NA… </span>│<span style=\"color: #7f7f7f; text-decoration-color: #7f7f7f\"></span>│\n",
       "├───────────────────────────────────┼────────────────────────────────────────────────────────────────────────────┼┤\n",
       "│<span style=\"color: #008080; text-decoration-color: #008080\"> TTToSemiLeptonic_widthx1p45_Tune… </span>│<span style=\"color: #800080; text-decoration-color: #800080\"> </span><span style=\"color: #800080; text-decoration-color: #800080; font-weight: bold\">(26)</span><span style=\"color: #800080; text-decoration-color: #800080\"> RunIISummer20UL18NanoAODv9-106X_upgrade2018_realistic_v16_L1v1-v1/NA… </span>││\n",
       "└───────────────────────────────────┴────────────────────────────────────────────────────────────────────────────┴┘\n",
       "</pre>\n"
      ],
      "text/plain": [
       "\u001b[3m              Query: \u001b[0m\u001b[1;3;31m/TTToSemiLeptonic_*_13TeV-powheg-pythia8/RunIISummer20UL18NanoAODv9*/NANOAODSIM\u001b[0m\u001b[3m               \u001b[0m\n",
       "┏━━━━━━━━━━━━━━━━━━━━━━━━━━━━━━━━━━━┳━━━━━━━━━━━━━━━━━━━━━━━━━━━━━━━━━━━━━━━━━━━━━━━━━━━━━━━━━━━━━━━━━━━━━━━━━━━━┳┓\n",
       "┃\u001b[1m \u001b[0m\u001b[1mName                             \u001b[0m\u001b[1m \u001b[0m┃\u001b[1m \u001b[0m\u001b[1mTag                                                                       \u001b[0m\u001b[1m \u001b[0m┃┃\n",
       "┡━━━━━━━━━━━━━━━━━━━━━━━━━━━━━━━━━━━╇━━━━━━━━━━━━━━━━━━━━━━━━━━━━━━━━━━━━━━━━━━━━━━━━━━━━━━━━━━━━━━━━━━━━━━━━━━━━╇┩\n",
       "│\u001b[2;36m \u001b[0m\u001b[2;36mTTToSemiLeptonic_TuneCP5CR1_13Te…\u001b[0m\u001b[2;36m \u001b[0m│\u001b[2;35m \u001b[0m\u001b[1;2;35m(1)\u001b[0m\u001b[2;35m RunIISummer20UL18NanoAODv9-106X_upgrade2018_realistic_v16_L1v1-v2/NAN…\u001b[0m\u001b[2;35m \u001b[0m││\n",
       "├───────────────────────────────────┼────────────────────────────────────────────────────────────────────────────┼┤\n",
       "│\u001b[36m \u001b[0m\u001b[36mTTToSemiLeptonic_TuneCP5CR1_erdO…\u001b[0m\u001b[36m \u001b[0m│\u001b[35m \u001b[0m\u001b[1;35m(2)\u001b[0m\u001b[35m RunIISummer20UL18NanoAODv9-106X_upgrade2018_realistic_v16_L1v1-v1/NAN…\u001b[0m\u001b[35m \u001b[0m││\n",
       "├───────────────────────────────────┼────────────────────────────────────────────────────────────────────────────┼┤\n",
       "│\u001b[2;36m \u001b[0m\u001b[2;36mTTToSemiLeptonic_TuneCP5CR2_13Te…\u001b[0m\u001b[2;36m \u001b[0m│\u001b[2;35m \u001b[0m\u001b[1;2;35m(3)\u001b[0m\u001b[2;35m RunIISummer20UL18NanoAODv9-106X_upgrade2018_realistic_v16_L1v1-v2/NAN…\u001b[0m\u001b[2;35m \u001b[0m││\n",
       "├───────────────────────────────────┼────────────────────────────────────────────────────────────────────────────┼┤\n",
       "│\u001b[36m \u001b[0m\u001b[36mTTToSemiLeptonic_TuneCP5_13TeV-p…\u001b[0m\u001b[36m \u001b[0m│\u001b[35m \u001b[0m\u001b[1;35m(4)\u001b[0m\u001b[35m RunIISummer20UL18NanoAODv9-106X_upgrade2018_realistic_v16_L1v1-v1/NAN…\u001b[0m\u001b[35m \u001b[0m││\n",
       "│\u001b[2;36m \u001b[0m\u001b[2;36m                                 \u001b[0m\u001b[2;36m \u001b[0m│\u001b[2;35m \u001b[0m\u001b[1;2;35m(5)\u001b[0m\u001b[2;35m RunIISummer20UL18NanoAODv9-20UL18JMENano_106X_upgrade2018_realistic_v…\u001b[0m\u001b[2;35m \u001b[0m││\n",
       "│\u001b[36m \u001b[0m\u001b[36m                                 \u001b[0m\u001b[36m \u001b[0m│\u001b[35m \u001b[0m\u001b[1;35m(6)\u001b[0m\u001b[35m RunIISummer20UL18NanoAODv9-PUForMUOVal_106X_upgrade2018_realistic_v16…\u001b[0m\u001b[35m \u001b[0m││\n",
       "│\u001b[2;36m \u001b[0m\u001b[2;36m                                 \u001b[0m\u001b[2;36m \u001b[0m│\u001b[2;35m \u001b[0m\u001b[1;2;35m(7)\u001b[0m\u001b[2;35m RunIISummer20UL18NanoAODv9-PUForTRK_TRK_106X_upgrade2018_realistic_v1…\u001b[0m\u001b[2;35m \u001b[0m││\n",
       "│\u001b[36m \u001b[0m\u001b[36m                                 \u001b[0m\u001b[36m \u001b[0m│\u001b[35m \u001b[0m\u001b[1;35m(8)\u001b[0m\u001b[35m RunIISummer20UL18NanoAODv9-PUForTRKv2_TRKv2_106X_upgrade2018_realisti…\u001b[0m\u001b[35m \u001b[0m││\n",
       "├───────────────────────────────────┼────────────────────────────────────────────────────────────────────────────┼┤\n",
       "│\u001b[2;36m \u001b[0m\u001b[2;36mTTToSemiLeptonic_TuneCP5_erdON_1…\u001b[0m\u001b[2;36m \u001b[0m│\u001b[2;35m \u001b[0m\u001b[1;2;35m(9)\u001b[0m\u001b[2;35m RunIISummer20UL18NanoAODv9-106X_upgrade2018_realistic_v16_L1v1-v1/NAN…\u001b[0m\u001b[2;35m \u001b[0m││\n",
       "├───────────────────────────────────┼────────────────────────────────────────────────────────────────────────────┼┤\n",
       "│\u001b[36m \u001b[0m\u001b[36mTTToSemiLeptonic_TuneCP5down_13T…\u001b[0m\u001b[36m \u001b[0m│\u001b[35m \u001b[0m\u001b[1;35m(10)\u001b[0m\u001b[35m RunIISummer20UL18NanoAODv9-106X_upgrade2018_realistic_v16_L1v1-v1/NA…\u001b[0m\u001b[35m \u001b[0m││\n",
       "├───────────────────────────────────┼────────────────────────────────────────────────────────────────────────────┼┤\n",
       "│\u001b[2;36m \u001b[0m\u001b[2;36mTTToSemiLeptonic_TuneCP5up_13TeV…\u001b[0m\u001b[2;36m \u001b[0m│\u001b[2;35m \u001b[0m\u001b[1;2;35m(11)\u001b[0m\u001b[2;35m RunIISummer20UL18NanoAODv9-106X_upgrade2018_realistic_v16_L1v1-v1/NA…\u001b[0m\u001b[2;35m \u001b[0m││\n",
       "├───────────────────────────────────┼────────────────────────────────────────────────────────────────────────────┼┤\n",
       "│\u001b[36m \u001b[0m\u001b[36mTTToSemiLeptonic_Vcb_TuneCP5_13T…\u001b[0m\u001b[36m \u001b[0m│\u001b[35m \u001b[0m\u001b[1;35m(12)\u001b[0m\u001b[35m RunIISummer20UL18NanoAODv9-106X_upgrade2018_realistic_v16_L1v1-v2/NA…\u001b[0m\u001b[35m \u001b[0m││\n",
       "├───────────────────────────────────┼────────────────────────────────────────────────────────────────────────────┼┤\n",
       "│\u001b[2;36m \u001b[0m\u001b[2;36mTTToSemiLeptonic_hdampDOWN_TuneC…\u001b[0m\u001b[2;36m \u001b[0m│\u001b[2;35m \u001b[0m\u001b[1;2;35m(13)\u001b[0m\u001b[2;35m RunIISummer20UL18NanoAODv9-106X_upgrade2018_realistic_v16_L1v1-v1/NA…\u001b[0m\u001b[2;35m \u001b[0m││\n",
       "├───────────────────────────────────┼────────────────────────────────────────────────────────────────────────────┼┤\n",
       "│\u001b[36m \u001b[0m\u001b[36mTTToSemiLeptonic_hdampUP_TuneCP5…\u001b[0m\u001b[36m \u001b[0m│\u001b[35m \u001b[0m\u001b[1;35m(14)\u001b[0m\u001b[35m RunIISummer20UL18NanoAODv9-106X_upgrade2018_realistic_v16_L1v1-v1/NA…\u001b[0m\u001b[35m \u001b[0m││\n",
       "├───────────────────────────────────┼────────────────────────────────────────────────────────────────────────────┼┤\n",
       "│\u001b[2;36m \u001b[0m\u001b[2;36mTTToSemiLeptonic_mtop166p5_TuneC…\u001b[0m\u001b[2;36m \u001b[0m│\u001b[2;35m \u001b[0m\u001b[1;2;35m(15)\u001b[0m\u001b[2;35m RunIISummer20UL18NanoAODv9-106X_upgrade2018_realistic_v16_L1v1-v1/NA…\u001b[0m\u001b[2;35m \u001b[0m││\n",
       "├───────────────────────────────────┼────────────────────────────────────────────────────────────────────────────┼┤\n",
       "│\u001b[36m \u001b[0m\u001b[36mTTToSemiLeptonic_mtop169p5_TuneC…\u001b[0m\u001b[36m \u001b[0m│\u001b[35m \u001b[0m\u001b[1;35m(16)\u001b[0m\u001b[35m RunIISummer20UL18NanoAODv9-106X_upgrade2018_realistic_v16_L1v1-v1/NA…\u001b[0m\u001b[35m \u001b[0m││\n",
       "├───────────────────────────────────┼────────────────────────────────────────────────────────────────────────────┼┤\n",
       "│\u001b[2;36m \u001b[0m\u001b[2;36mTTToSemiLeptonic_mtop171p5_TuneC…\u001b[0m\u001b[2;36m \u001b[0m│\u001b[2;35m \u001b[0m\u001b[1;2;35m(17)\u001b[0m\u001b[2;35m RunIISummer20UL18NanoAODv9-106X_upgrade2018_realistic_v16_L1v1-v1/NA…\u001b[0m\u001b[2;35m \u001b[0m││\n",
       "├───────────────────────────────────┼────────────────────────────────────────────────────────────────────────────┼┤\n",
       "│\u001b[36m \u001b[0m\u001b[36mTTToSemiLeptonic_mtop173p5_TuneC…\u001b[0m\u001b[36m \u001b[0m│\u001b[35m \u001b[0m\u001b[1;35m(18)\u001b[0m\u001b[35m RunIISummer20UL18NanoAODv9-106X_upgrade2018_realistic_v16_L1v1-v1/NA…\u001b[0m\u001b[35m \u001b[0m││\n",
       "├───────────────────────────────────┼────────────────────────────────────────────────────────────────────────────┼┤\n",
       "│\u001b[2;36m \u001b[0m\u001b[2;36mTTToSemiLeptonic_mtop175p5_TuneC…\u001b[0m\u001b[2;36m \u001b[0m│\u001b[2;35m \u001b[0m\u001b[1;2;35m(19)\u001b[0m\u001b[2;35m RunIISummer20UL18NanoAODv9-106X_upgrade2018_realistic_v16_L1v1-v1/NA…\u001b[0m\u001b[2;35m \u001b[0m││\n",
       "├───────────────────────────────────┼────────────────────────────────────────────────────────────────────────────┼┤\n",
       "│\u001b[36m \u001b[0m\u001b[36mTTToSemiLeptonic_mtop178p5_TuneC…\u001b[0m\u001b[36m \u001b[0m│\u001b[35m \u001b[0m\u001b[1;35m(20)\u001b[0m\u001b[35m RunIISummer20UL18NanoAODv9-106X_upgrade2018_realistic_v16_L1v1-v1/NA…\u001b[0m\u001b[35m \u001b[0m││\n",
       "├───────────────────────────────────┼────────────────────────────────────────────────────────────────────────────┼┤\n",
       "│\u001b[2;36m \u001b[0m\u001b[2;36mTTToSemiLeptonic_widthx0p55_Tune…\u001b[0m\u001b[2;36m \u001b[0m│\u001b[2;35m \u001b[0m\u001b[1;2;35m(21)\u001b[0m\u001b[2;35m RunIISummer20UL18NanoAODv9-106X_upgrade2018_realistic_v16_L1v1-v1/NA…\u001b[0m\u001b[2;35m \u001b[0m││\n",
       "├───────────────────────────────────┼────────────────────────────────────────────────────────────────────────────┼┤\n",
       "│\u001b[36m \u001b[0m\u001b[36mTTToSemiLeptonic_widthx0p7_TuneC…\u001b[0m\u001b[36m \u001b[0m│\u001b[35m \u001b[0m\u001b[1;35m(22)\u001b[0m\u001b[35m RunIISummer20UL18NanoAODv9-106X_upgrade2018_realistic_v16_L1v1-v1/NA…\u001b[0m\u001b[35m \u001b[0m││\n",
       "├───────────────────────────────────┼────────────────────────────────────────────────────────────────────────────┼┤\n",
       "│\u001b[2;36m \u001b[0m\u001b[2;36mTTToSemiLeptonic_widthx0p85_Tune…\u001b[0m\u001b[2;36m \u001b[0m│\u001b[2;35m \u001b[0m\u001b[1;2;35m(23)\u001b[0m\u001b[2;35m RunIISummer20UL18NanoAODv9-106X_upgrade2018_realistic_v16_L1v1-v1/NA…\u001b[0m\u001b[2;35m \u001b[0m││\n",
       "├───────────────────────────────────┼────────────────────────────────────────────────────────────────────────────┼┤\n",
       "│\u001b[36m \u001b[0m\u001b[36mTTToSemiLeptonic_widthx1p15_Tune…\u001b[0m\u001b[36m \u001b[0m│\u001b[35m \u001b[0m\u001b[1;35m(24)\u001b[0m\u001b[35m RunIISummer20UL18NanoAODv9-106X_upgrade2018_realistic_v16_L1v1-v1/NA…\u001b[0m\u001b[35m \u001b[0m││\n",
       "├───────────────────────────────────┼────────────────────────────────────────────────────────────────────────────┼┤\n",
       "│\u001b[2;36m \u001b[0m\u001b[2;36mTTToSemiLeptonic_widthx1p3_TuneC…\u001b[0m\u001b[2;36m \u001b[0m│\u001b[2;35m \u001b[0m\u001b[1;2;35m(25)\u001b[0m\u001b[2;35m RunIISummer20UL18NanoAODv9-106X_upgrade2018_realistic_v16_L1v1-v1/NA…\u001b[0m\u001b[2;35m \u001b[0m││\n",
       "├───────────────────────────────────┼────────────────────────────────────────────────────────────────────────────┼┤\n",
       "│\u001b[36m \u001b[0m\u001b[36mTTToSemiLeptonic_widthx1p45_Tune…\u001b[0m\u001b[36m \u001b[0m│\u001b[35m \u001b[0m\u001b[1;35m(26)\u001b[0m\u001b[35m RunIISummer20UL18NanoAODv9-106X_upgrade2018_realistic_v16_L1v1-v1/NA…\u001b[0m\u001b[35m \u001b[0m││\n",
       "└───────────────────────────────────┴────────────────────────────────────────────────────────────────────────────┴┘\n"
      ]
     },
     "metadata": {},
     "output_type": "display_data"
    }
   ],
   "source": [
    "console = Console()\n",
    "print_dataset_query(query, outtree, console)"
   ]
  },
  {
   "cell_type": "markdown",
   "id": "c213d5fc-6424-4cdf-8751-88ced7987a59",
   "metadata": {},
   "source": [
    "### Dataset replicas"
   ]
  },
  {
   "cell_type": "markdown",
   "id": "961b4ad8-e3d6-49b1-a2ce-7cad49b46f06",
   "metadata": {},
   "source": [
    "Let's select one dataset and look for available replicas"
   ]
  },
  {
   "cell_type": "code",
   "execution_count": 7,
   "id": "d08fd6ed-4b3a-4e9f-994a-d1bd529421a7",
   "metadata": {},
   "outputs": [
    {
     "data": {
      "text/plain": [
       "'/TTToSemiLeptonic_TuneCP5CR1_13TeV-powheg-pythia8/RunIISummer20UL18NanoAODv9-106X_upgrade2018_realistic_v16_L1v1-v2/NANOAODSIM'"
      ]
     },
     "execution_count": 7,
     "metadata": {},
     "output_type": "execute_result"
    }
   ],
   "source": [
    "dataset = outlist[0]\n",
    "dataset"
   ]
  },
  {
   "cell_type": "markdown",
   "id": "a605fb64-6e0b-4fbe-8807-84b9d75f2d53",
   "metadata": {},
   "source": [
    "Using the option `mode='full'` in the function `rucio_utils.get_dataset_file_replicas()` one gets all the available replicas. "
   ]
  },
  {
   "cell_type": "code",
   "execution_count": 8,
   "id": "2d64069e-ea8f-48c2-bd33-43fc555f6ec8",
   "metadata": {},
   "outputs": [],
   "source": [
    "try:\n",
    "    (\n",
    "        outfiles,\n",
    "        outsites,\n",
    "        sites_counts,\n",
    "    ) = rucio_utils.get_dataset_files_replicas(\n",
    "        dataset,\n",
    "        allowlist_sites=[],\n",
    "        blocklist_sites=[],\n",
    "        regex_sites=[],\n",
    "        mode=\"full\",   # full or first. \"full\"==all the available replicas\n",
    "        client=client,\n",
    "    )\n",
    "except Exception as e:\n",
    "    print(f\"\\n[red bold] Exception: {e}[/]\")"
   ]
  },
  {
   "cell_type": "code",
   "execution_count": 9,
   "id": "3e4fc6c2-f378-40d2-a4ea-f265b6c18887",
   "metadata": {},
   "outputs": [],
   "source": [
    "def print_replicas(sites_counts):\n",
    "    console.print(f\"[cyan]Sites availability for dataset: [red]{dataset}\")\n",
    "    table = Table(title=\"Available replicas\")\n",
    "    table.add_column(\"Index\", justify=\"center\")\n",
    "    table.add_column(\"Site\", justify=\"left\", style=\"cyan\", no_wrap=True)\n",
    "    table.add_column(\"Files\", style=\"magenta\", no_wrap=True)\n",
    "    table.add_column(\"Availability\", justify=\"center\")\n",
    "    table.row_styles = [\"dim\", \"none\"]\n",
    "    Nfiles = len(outfiles)\n",
    "    \n",
    "    sorted_sites = dict(\n",
    "        sorted(sites_counts.items(), key=lambda x: x[1], reverse=True)\n",
    "    )\n",
    "    for i, (site, stat) in enumerate(sorted_sites.items()):\n",
    "        table.add_row(\n",
    "            str(i), site, f\"{stat} / {Nfiles}\", f\"{stat*100/Nfiles:.1f}%\"\n",
    "        )\n",
    "    console.print(table)"
   ]
  },
  {
   "cell_type": "code",
   "execution_count": 10,
   "id": "79c68044-dc3b-4dd5-a0d3-c3f6ddd0bea1",
   "metadata": {},
   "outputs": [
    {
     "data": {
      "text/html": [
       "<pre style=\"white-space:pre;overflow-x:auto;line-height:normal;font-family:Menlo,'DejaVu Sans Mono',consolas,'Courier New',monospace\"><span style=\"color: #008080; text-decoration-color: #008080\">Sites availability for dataset: </span>\n",
       "<span style=\"color: #800000; text-decoration-color: #800000\">/TTToSemiLeptonic_TuneCP5CR1_13TeV-powheg-pythia8/RunIISummer20UL18NanoAODv9-106X_upgrade2018_realistic_v16_L1v1-v2</span>\n",
       "<span style=\"color: #800000; text-decoration-color: #800000\">/NANOAODSIM</span>\n",
       "</pre>\n"
      ],
      "text/plain": [
       "\u001b[36mSites availability for dataset: \u001b[0m\n",
       "\u001b[31m/TTToSemiLeptonic_TuneCP5CR1_13TeV-powheg-pythia8/RunIISummer20UL18NanoAODv9-106X_upgrade2018_realistic_v16_L1v1-v2\u001b[0m\n",
       "\u001b[31m/\u001b[0m\u001b[31mNANOAODSIM\u001b[0m\n"
      ]
     },
     "metadata": {},
     "output_type": "display_data"
    },
    {
     "data": {
      "text/html": [
       "<pre style=\"white-space:pre;overflow-x:auto;line-height:normal;font-family:Menlo,'DejaVu Sans Mono',consolas,'Courier New',monospace\"><span style=\"font-style: italic\">                    Available replicas                    </span>\n",
       "┏━━━━━━━┳━━━━━━━━━━━━━━━━━━━━━┳━━━━━━━━━━━┳━━━━━━━━━━━━━━┓\n",
       "┃<span style=\"font-weight: bold\"> Index </span>┃<span style=\"font-weight: bold\"> Site                </span>┃<span style=\"font-weight: bold\"> Files     </span>┃<span style=\"font-weight: bold\"> Availability </span>┃\n",
       "┡━━━━━━━╇━━━━━━━━━━━━━━━━━━━━━╇━━━━━━━━━━━╇━━━━━━━━━━━━━━┩\n",
       "│<span style=\"color: #7f7f7f; text-decoration-color: #7f7f7f\">   0   </span>│<span style=\"color: #7fbfbf; text-decoration-color: #7fbfbf\"> T2_DE_DESY          </span>│<span style=\"color: #bf7fbf; text-decoration-color: #bf7fbf\"> 294 / 294 </span>│<span style=\"color: #7f7f7f; text-decoration-color: #7f7f7f\">    100.0%    </span>│\n",
       "│   1   │<span style=\"color: #008080; text-decoration-color: #008080\"> T1_DE_KIT_Disk      </span>│<span style=\"color: #800080; text-decoration-color: #800080\"> 294 / 294 </span>│    100.0%    │\n",
       "│<span style=\"color: #7f7f7f; text-decoration-color: #7f7f7f\">   2   </span>│<span style=\"color: #7fbfbf; text-decoration-color: #7fbfbf\"> T1_UK_RAL_Disk      </span>│<span style=\"color: #bf7fbf; text-decoration-color: #bf7fbf\"> 294 / 294 </span>│<span style=\"color: #7f7f7f; text-decoration-color: #7f7f7f\">    100.0%    </span>│\n",
       "│   3   │<span style=\"color: #008080; text-decoration-color: #008080\"> T1_RU_JINR_Disk     </span>│<span style=\"color: #800080; text-decoration-color: #800080\"> 294 / 294 </span>│    100.0%    │\n",
       "│<span style=\"color: #7f7f7f; text-decoration-color: #7f7f7f\">   4   </span>│<span style=\"color: #7fbfbf; text-decoration-color: #7fbfbf\"> T3_CH_PSI           </span>│<span style=\"color: #bf7fbf; text-decoration-color: #bf7fbf\"> 294 / 294 </span>│<span style=\"color: #7f7f7f; text-decoration-color: #7f7f7f\">    100.0%    </span>│\n",
       "│   5   │<span style=\"color: #008080; text-decoration-color: #008080\"> T3_KR_UOS           </span>│<span style=\"color: #800080; text-decoration-color: #800080\"> 294 / 294 </span>│    100.0%    │\n",
       "│<span style=\"color: #7f7f7f; text-decoration-color: #7f7f7f\">   6   </span>│<span style=\"color: #7fbfbf; text-decoration-color: #7fbfbf\"> T1_US_FNAL_Disk     </span>│<span style=\"color: #bf7fbf; text-decoration-color: #bf7fbf\"> 193 / 294 </span>│<span style=\"color: #7f7f7f; text-decoration-color: #7f7f7f\">    65.6%     </span>│\n",
       "│   7   │<span style=\"color: #008080; text-decoration-color: #008080\"> T2_US_Nebraska      </span>│<span style=\"color: #800080; text-decoration-color: #800080\"> 99 / 294  </span>│    33.7%     │\n",
       "│<span style=\"color: #7f7f7f; text-decoration-color: #7f7f7f\">   8   </span>│<span style=\"color: #7fbfbf; text-decoration-color: #7fbfbf\"> T1_IT_CNAF_Disk     </span>│<span style=\"color: #bf7fbf; text-decoration-color: #bf7fbf\"> 58 / 294  </span>│<span style=\"color: #7f7f7f; text-decoration-color: #7f7f7f\">    19.7%     </span>│\n",
       "│   9   │<span style=\"color: #008080; text-decoration-color: #008080\"> T2_US_Purdue        </span>│<span style=\"color: #800080; text-decoration-color: #800080\"> 53 / 294  </span>│    18.0%     │\n",
       "│<span style=\"color: #7f7f7f; text-decoration-color: #7f7f7f\">  10   </span>│<span style=\"color: #7fbfbf; text-decoration-color: #7fbfbf\"> T2_BE_IIHE          </span>│<span style=\"color: #bf7fbf; text-decoration-color: #bf7fbf\"> 50 / 294  </span>│<span style=\"color: #7f7f7f; text-decoration-color: #7f7f7f\">    17.0%     </span>│\n",
       "│  11   │<span style=\"color: #008080; text-decoration-color: #008080\"> T2_US_MIT           </span>│<span style=\"color: #800080; text-decoration-color: #800080\"> 50 / 294  </span>│    17.0%     │\n",
       "│<span style=\"color: #7f7f7f; text-decoration-color: #7f7f7f\">  12   </span>│<span style=\"color: #7fbfbf; text-decoration-color: #7fbfbf\"> T1_ES_PIC_Disk      </span>│<span style=\"color: #bf7fbf; text-decoration-color: #bf7fbf\"> 43 / 294  </span>│<span style=\"color: #7f7f7f; text-decoration-color: #7f7f7f\">    14.6%     </span>│\n",
       "│  13   │<span style=\"color: #008080; text-decoration-color: #008080\"> T2_US_Vanderbilt    </span>│<span style=\"color: #800080; text-decoration-color: #800080\"> 40 / 294  </span>│    13.6%     │\n",
       "│<span style=\"color: #7f7f7f; text-decoration-color: #7f7f7f\">  14   </span>│<span style=\"color: #7fbfbf; text-decoration-color: #7fbfbf\"> T2_BR_SPRACE        </span>│<span style=\"color: #bf7fbf; text-decoration-color: #bf7fbf\"> 39 / 294  </span>│<span style=\"color: #7f7f7f; text-decoration-color: #7f7f7f\">    13.3%     </span>│\n",
       "│  15   │<span style=\"color: #008080; text-decoration-color: #008080\"> T2_US_Florida       </span>│<span style=\"color: #800080; text-decoration-color: #800080\"> 33 / 294  </span>│    11.2%     │\n",
       "│<span style=\"color: #7f7f7f; text-decoration-color: #7f7f7f\">  16   </span>│<span style=\"color: #7fbfbf; text-decoration-color: #7fbfbf\"> T2_IT_Legnaro       </span>│<span style=\"color: #bf7fbf; text-decoration-color: #bf7fbf\"> 28 / 294  </span>│<span style=\"color: #7f7f7f; text-decoration-color: #7f7f7f\">     9.5%     </span>│\n",
       "│  17   │<span style=\"color: #008080; text-decoration-color: #008080\"> T2_US_UCSD          </span>│<span style=\"color: #800080; text-decoration-color: #800080\"> 28 / 294  </span>│     9.5%     │\n",
       "│<span style=\"color: #7f7f7f; text-decoration-color: #7f7f7f\">  18   </span>│<span style=\"color: #7fbfbf; text-decoration-color: #7fbfbf\"> T2_UA_KIPT          </span>│<span style=\"color: #bf7fbf; text-decoration-color: #bf7fbf\"> 26 / 294  </span>│<span style=\"color: #7f7f7f; text-decoration-color: #7f7f7f\">     8.8%     </span>│\n",
       "│  19   │<span style=\"color: #008080; text-decoration-color: #008080\"> T2_US_Caltech       </span>│<span style=\"color: #800080; text-decoration-color: #800080\"> 24 / 294  </span>│     8.2%     │\n",
       "│<span style=\"color: #7f7f7f; text-decoration-color: #7f7f7f\">  20   </span>│<span style=\"color: #7fbfbf; text-decoration-color: #7fbfbf\"> T2_US_Wisconsin     </span>│<span style=\"color: #bf7fbf; text-decoration-color: #bf7fbf\"> 22 / 294  </span>│<span style=\"color: #7f7f7f; text-decoration-color: #7f7f7f\">     7.5%     </span>│\n",
       "│  21   │<span style=\"color: #008080; text-decoration-color: #008080\"> T2_TR_METU          </span>│<span style=\"color: #800080; text-decoration-color: #800080\"> 18 / 294  </span>│     6.1%     │\n",
       "│<span style=\"color: #7f7f7f; text-decoration-color: #7f7f7f\">  22   </span>│<span style=\"color: #7fbfbf; text-decoration-color: #7fbfbf\"> T2_ES_CIEMAT        </span>│<span style=\"color: #bf7fbf; text-decoration-color: #bf7fbf\"> 17 / 294  </span>│<span style=\"color: #7f7f7f; text-decoration-color: #7f7f7f\">     5.8%     </span>│\n",
       "│  23   │<span style=\"color: #008080; text-decoration-color: #008080\"> T2_DE_RWTH          </span>│<span style=\"color: #800080; text-decoration-color: #800080\"> 11 / 294  </span>│     3.7%     │\n",
       "│<span style=\"color: #7f7f7f; text-decoration-color: #7f7f7f\">  24   </span>│<span style=\"color: #7fbfbf; text-decoration-color: #7fbfbf\"> T2_BR_UERJ          </span>│<span style=\"color: #bf7fbf; text-decoration-color: #bf7fbf\"> 7 / 294   </span>│<span style=\"color: #7f7f7f; text-decoration-color: #7f7f7f\">     2.4%     </span>│\n",
       "│  25   │<span style=\"color: #008080; text-decoration-color: #008080\"> T2_UK_SGrid_Bristol </span>│<span style=\"color: #800080; text-decoration-color: #800080\"> 3 / 294   </span>│     1.0%     │\n",
       "│<span style=\"color: #7f7f7f; text-decoration-color: #7f7f7f\">  26   </span>│<span style=\"color: #7fbfbf; text-decoration-color: #7fbfbf\"> T2_ES_IFCA          </span>│<span style=\"color: #bf7fbf; text-decoration-color: #bf7fbf\"> 2 / 294   </span>│<span style=\"color: #7f7f7f; text-decoration-color: #7f7f7f\">     0.7%     </span>│\n",
       "└───────┴─────────────────────┴───────────┴──────────────┘\n",
       "</pre>\n"
      ],
      "text/plain": [
       "\u001b[3m                    Available replicas                    \u001b[0m\n",
       "┏━━━━━━━┳━━━━━━━━━━━━━━━━━━━━━┳━━━━━━━━━━━┳━━━━━━━━━━━━━━┓\n",
       "┃\u001b[1m \u001b[0m\u001b[1mIndex\u001b[0m\u001b[1m \u001b[0m┃\u001b[1m \u001b[0m\u001b[1mSite               \u001b[0m\u001b[1m \u001b[0m┃\u001b[1m \u001b[0m\u001b[1mFiles    \u001b[0m\u001b[1m \u001b[0m┃\u001b[1m \u001b[0m\u001b[1mAvailability\u001b[0m\u001b[1m \u001b[0m┃\n",
       "┡━━━━━━━╇━━━━━━━━━━━━━━━━━━━━━╇━━━━━━━━━━━╇━━━━━━━━━━━━━━┩\n",
       "│\u001b[2m \u001b[0m\u001b[2m  0  \u001b[0m\u001b[2m \u001b[0m│\u001b[2;36m \u001b[0m\u001b[2;36mT2_DE_DESY         \u001b[0m\u001b[2;36m \u001b[0m│\u001b[2;35m \u001b[0m\u001b[2;35m294 / 294\u001b[0m\u001b[2;35m \u001b[0m│\u001b[2m \u001b[0m\u001b[2m   100.0%   \u001b[0m\u001b[2m \u001b[0m│\n",
       "│   1   │\u001b[36m \u001b[0m\u001b[36mT1_DE_KIT_Disk     \u001b[0m\u001b[36m \u001b[0m│\u001b[35m \u001b[0m\u001b[35m294 / 294\u001b[0m\u001b[35m \u001b[0m│    100.0%    │\n",
       "│\u001b[2m \u001b[0m\u001b[2m  2  \u001b[0m\u001b[2m \u001b[0m│\u001b[2;36m \u001b[0m\u001b[2;36mT1_UK_RAL_Disk     \u001b[0m\u001b[2;36m \u001b[0m│\u001b[2;35m \u001b[0m\u001b[2;35m294 / 294\u001b[0m\u001b[2;35m \u001b[0m│\u001b[2m \u001b[0m\u001b[2m   100.0%   \u001b[0m\u001b[2m \u001b[0m│\n",
       "│   3   │\u001b[36m \u001b[0m\u001b[36mT1_RU_JINR_Disk    \u001b[0m\u001b[36m \u001b[0m│\u001b[35m \u001b[0m\u001b[35m294 / 294\u001b[0m\u001b[35m \u001b[0m│    100.0%    │\n",
       "│\u001b[2m \u001b[0m\u001b[2m  4  \u001b[0m\u001b[2m \u001b[0m│\u001b[2;36m \u001b[0m\u001b[2;36mT3_CH_PSI          \u001b[0m\u001b[2;36m \u001b[0m│\u001b[2;35m \u001b[0m\u001b[2;35m294 / 294\u001b[0m\u001b[2;35m \u001b[0m│\u001b[2m \u001b[0m\u001b[2m   100.0%   \u001b[0m\u001b[2m \u001b[0m│\n",
       "│   5   │\u001b[36m \u001b[0m\u001b[36mT3_KR_UOS          \u001b[0m\u001b[36m \u001b[0m│\u001b[35m \u001b[0m\u001b[35m294 / 294\u001b[0m\u001b[35m \u001b[0m│    100.0%    │\n",
       "│\u001b[2m \u001b[0m\u001b[2m  6  \u001b[0m\u001b[2m \u001b[0m│\u001b[2;36m \u001b[0m\u001b[2;36mT1_US_FNAL_Disk    \u001b[0m\u001b[2;36m \u001b[0m│\u001b[2;35m \u001b[0m\u001b[2;35m193 / 294\u001b[0m\u001b[2;35m \u001b[0m│\u001b[2m \u001b[0m\u001b[2m   65.6%    \u001b[0m\u001b[2m \u001b[0m│\n",
       "│   7   │\u001b[36m \u001b[0m\u001b[36mT2_US_Nebraska     \u001b[0m\u001b[36m \u001b[0m│\u001b[35m \u001b[0m\u001b[35m99 / 294 \u001b[0m\u001b[35m \u001b[0m│    33.7%     │\n",
       "│\u001b[2m \u001b[0m\u001b[2m  8  \u001b[0m\u001b[2m \u001b[0m│\u001b[2;36m \u001b[0m\u001b[2;36mT1_IT_CNAF_Disk    \u001b[0m\u001b[2;36m \u001b[0m│\u001b[2;35m \u001b[0m\u001b[2;35m58 / 294 \u001b[0m\u001b[2;35m \u001b[0m│\u001b[2m \u001b[0m\u001b[2m   19.7%    \u001b[0m\u001b[2m \u001b[0m│\n",
       "│   9   │\u001b[36m \u001b[0m\u001b[36mT2_US_Purdue       \u001b[0m\u001b[36m \u001b[0m│\u001b[35m \u001b[0m\u001b[35m53 / 294 \u001b[0m\u001b[35m \u001b[0m│    18.0%     │\n",
       "│\u001b[2m \u001b[0m\u001b[2m 10  \u001b[0m\u001b[2m \u001b[0m│\u001b[2;36m \u001b[0m\u001b[2;36mT2_BE_IIHE         \u001b[0m\u001b[2;36m \u001b[0m│\u001b[2;35m \u001b[0m\u001b[2;35m50 / 294 \u001b[0m\u001b[2;35m \u001b[0m│\u001b[2m \u001b[0m\u001b[2m   17.0%    \u001b[0m\u001b[2m \u001b[0m│\n",
       "│  11   │\u001b[36m \u001b[0m\u001b[36mT2_US_MIT          \u001b[0m\u001b[36m \u001b[0m│\u001b[35m \u001b[0m\u001b[35m50 / 294 \u001b[0m\u001b[35m \u001b[0m│    17.0%     │\n",
       "│\u001b[2m \u001b[0m\u001b[2m 12  \u001b[0m\u001b[2m \u001b[0m│\u001b[2;36m \u001b[0m\u001b[2;36mT1_ES_PIC_Disk     \u001b[0m\u001b[2;36m \u001b[0m│\u001b[2;35m \u001b[0m\u001b[2;35m43 / 294 \u001b[0m\u001b[2;35m \u001b[0m│\u001b[2m \u001b[0m\u001b[2m   14.6%    \u001b[0m\u001b[2m \u001b[0m│\n",
       "│  13   │\u001b[36m \u001b[0m\u001b[36mT2_US_Vanderbilt   \u001b[0m\u001b[36m \u001b[0m│\u001b[35m \u001b[0m\u001b[35m40 / 294 \u001b[0m\u001b[35m \u001b[0m│    13.6%     │\n",
       "│\u001b[2m \u001b[0m\u001b[2m 14  \u001b[0m\u001b[2m \u001b[0m│\u001b[2;36m \u001b[0m\u001b[2;36mT2_BR_SPRACE       \u001b[0m\u001b[2;36m \u001b[0m│\u001b[2;35m \u001b[0m\u001b[2;35m39 / 294 \u001b[0m\u001b[2;35m \u001b[0m│\u001b[2m \u001b[0m\u001b[2m   13.3%    \u001b[0m\u001b[2m \u001b[0m│\n",
       "│  15   │\u001b[36m \u001b[0m\u001b[36mT2_US_Florida      \u001b[0m\u001b[36m \u001b[0m│\u001b[35m \u001b[0m\u001b[35m33 / 294 \u001b[0m\u001b[35m \u001b[0m│    11.2%     │\n",
       "│\u001b[2m \u001b[0m\u001b[2m 16  \u001b[0m\u001b[2m \u001b[0m│\u001b[2;36m \u001b[0m\u001b[2;36mT2_IT_Legnaro      \u001b[0m\u001b[2;36m \u001b[0m│\u001b[2;35m \u001b[0m\u001b[2;35m28 / 294 \u001b[0m\u001b[2;35m \u001b[0m│\u001b[2m \u001b[0m\u001b[2m    9.5%    \u001b[0m\u001b[2m \u001b[0m│\n",
       "│  17   │\u001b[36m \u001b[0m\u001b[36mT2_US_UCSD         \u001b[0m\u001b[36m \u001b[0m│\u001b[35m \u001b[0m\u001b[35m28 / 294 \u001b[0m\u001b[35m \u001b[0m│     9.5%     │\n",
       "│\u001b[2m \u001b[0m\u001b[2m 18  \u001b[0m\u001b[2m \u001b[0m│\u001b[2;36m \u001b[0m\u001b[2;36mT2_UA_KIPT         \u001b[0m\u001b[2;36m \u001b[0m│\u001b[2;35m \u001b[0m\u001b[2;35m26 / 294 \u001b[0m\u001b[2;35m \u001b[0m│\u001b[2m \u001b[0m\u001b[2m    8.8%    \u001b[0m\u001b[2m \u001b[0m│\n",
       "│  19   │\u001b[36m \u001b[0m\u001b[36mT2_US_Caltech      \u001b[0m\u001b[36m \u001b[0m│\u001b[35m \u001b[0m\u001b[35m24 / 294 \u001b[0m\u001b[35m \u001b[0m│     8.2%     │\n",
       "│\u001b[2m \u001b[0m\u001b[2m 20  \u001b[0m\u001b[2m \u001b[0m│\u001b[2;36m \u001b[0m\u001b[2;36mT2_US_Wisconsin    \u001b[0m\u001b[2;36m \u001b[0m│\u001b[2;35m \u001b[0m\u001b[2;35m22 / 294 \u001b[0m\u001b[2;35m \u001b[0m│\u001b[2m \u001b[0m\u001b[2m    7.5%    \u001b[0m\u001b[2m \u001b[0m│\n",
       "│  21   │\u001b[36m \u001b[0m\u001b[36mT2_TR_METU         \u001b[0m\u001b[36m \u001b[0m│\u001b[35m \u001b[0m\u001b[35m18 / 294 \u001b[0m\u001b[35m \u001b[0m│     6.1%     │\n",
       "│\u001b[2m \u001b[0m\u001b[2m 22  \u001b[0m\u001b[2m \u001b[0m│\u001b[2;36m \u001b[0m\u001b[2;36mT2_ES_CIEMAT       \u001b[0m\u001b[2;36m \u001b[0m│\u001b[2;35m \u001b[0m\u001b[2;35m17 / 294 \u001b[0m\u001b[2;35m \u001b[0m│\u001b[2m \u001b[0m\u001b[2m    5.8%    \u001b[0m\u001b[2m \u001b[0m│\n",
       "│  23   │\u001b[36m \u001b[0m\u001b[36mT2_DE_RWTH         \u001b[0m\u001b[36m \u001b[0m│\u001b[35m \u001b[0m\u001b[35m11 / 294 \u001b[0m\u001b[35m \u001b[0m│     3.7%     │\n",
       "│\u001b[2m \u001b[0m\u001b[2m 24  \u001b[0m\u001b[2m \u001b[0m│\u001b[2;36m \u001b[0m\u001b[2;36mT2_BR_UERJ         \u001b[0m\u001b[2;36m \u001b[0m│\u001b[2;35m \u001b[0m\u001b[2;35m7 / 294  \u001b[0m\u001b[2;35m \u001b[0m│\u001b[2m \u001b[0m\u001b[2m    2.4%    \u001b[0m\u001b[2m \u001b[0m│\n",
       "│  25   │\u001b[36m \u001b[0m\u001b[36mT2_UK_SGrid_Bristol\u001b[0m\u001b[36m \u001b[0m│\u001b[35m \u001b[0m\u001b[35m3 / 294  \u001b[0m\u001b[35m \u001b[0m│     1.0%     │\n",
       "│\u001b[2m \u001b[0m\u001b[2m 26  \u001b[0m\u001b[2m \u001b[0m│\u001b[2;36m \u001b[0m\u001b[2;36mT2_ES_IFCA         \u001b[0m\u001b[2;36m \u001b[0m│\u001b[2;35m \u001b[0m\u001b[2;35m2 / 294  \u001b[0m\u001b[2;35m \u001b[0m│\u001b[2m \u001b[0m\u001b[2m    0.7%    \u001b[0m\u001b[2m \u001b[0m│\n",
       "└───────┴─────────────────────┴───────────┴──────────────┘\n"
      ]
     },
     "metadata": {},
     "output_type": "display_data"
    }
   ],
   "source": [
    "print_replicas(sites_counts)"
   ]
  },
  {
   "cell_type": "markdown",
   "id": "c9544ceb-5949-4bd3-b997-14da4aa2d956",
   "metadata": {},
   "source": [
    "### Filtering sites\n",
    "Grid sites can be filtered in 3 different ways\n",
    "- **allowlist**:  if this list of specified, only the sites in the list are considered. No blocklist and regex are considered\n",
    "- **blocklist**: if this list is specified, those sites are excluded from the replicas\n",
    "- **regex_sites**: regex filter the sites to be considered, on top of the blocklist"
   ]
  },
  {
   "cell_type": "code",
   "execution_count": 16,
   "id": "1f6b586c-a8b7-40d8-a25a-b02e94f4a892",
   "metadata": {},
   "outputs": [
    {
     "data": {
      "text/html": [
       "<pre style=\"white-space:pre;overflow-x:auto;line-height:normal;font-family:Menlo,'DejaVu Sans Mono',consolas,'Courier New',monospace\"><span style=\"color: #008080; text-decoration-color: #008080\">Sites availability for dataset: </span>\n",
       "<span style=\"color: #800000; text-decoration-color: #800000\">/TTToSemiLeptonic_TuneCP5CR1_13TeV-powheg-pythia8/RunIISummer20UL18NanoAODv9-106X_upgrade2018_realistic_v16_L1v1-v2</span>\n",
       "<span style=\"color: #800000; text-decoration-color: #800000\">/NANOAODSIM</span>\n",
       "</pre>\n"
      ],
      "text/plain": [
       "\u001b[36mSites availability for dataset: \u001b[0m\n",
       "\u001b[31m/TTToSemiLeptonic_TuneCP5CR1_13TeV-powheg-pythia8/RunIISummer20UL18NanoAODv9-106X_upgrade2018_realistic_v16_L1v1-v2\u001b[0m\n",
       "\u001b[31m/\u001b[0m\u001b[31mNANOAODSIM\u001b[0m\n"
      ]
     },
     "metadata": {},
     "output_type": "display_data"
    },
    {
     "data": {
      "text/html": [
       "<pre style=\"white-space:pre;overflow-x:auto;line-height:normal;font-family:Menlo,'DejaVu Sans Mono',consolas,'Courier New',monospace\"><span style=\"font-style: italic\">                  Available replicas                  </span>\n",
       "┏━━━━━━━┳━━━━━━━━━━━━━━━━━┳━━━━━━━━━━━┳━━━━━━━━━━━━━━┓\n",
       "┃<span style=\"font-weight: bold\"> Index </span>┃<span style=\"font-weight: bold\"> Site            </span>┃<span style=\"font-weight: bold\"> Files     </span>┃<span style=\"font-weight: bold\"> Availability </span>┃\n",
       "┡━━━━━━━╇━━━━━━━━━━━━━━━━━╇━━━━━━━━━━━╇━━━━━━━━━━━━━━┩\n",
       "│<span style=\"color: #7f7f7f; text-decoration-color: #7f7f7f\">   0   </span>│<span style=\"color: #7fbfbf; text-decoration-color: #7fbfbf\"> T2_DE_DESY      </span>│<span style=\"color: #bf7fbf; text-decoration-color: #bf7fbf\"> 294 / 294 </span>│<span style=\"color: #7f7f7f; text-decoration-color: #7f7f7f\">    100.0%    </span>│\n",
       "│   1   │<span style=\"color: #008080; text-decoration-color: #008080\"> T1_US_FNAL_Disk </span>│<span style=\"color: #800080; text-decoration-color: #800080\"> 193 / 294 </span>│    65.6%     │\n",
       "└───────┴─────────────────┴───────────┴──────────────┘\n",
       "</pre>\n"
      ],
      "text/plain": [
       "\u001b[3m                  Available replicas                  \u001b[0m\n",
       "┏━━━━━━━┳━━━━━━━━━━━━━━━━━┳━━━━━━━━━━━┳━━━━━━━━━━━━━━┓\n",
       "┃\u001b[1m \u001b[0m\u001b[1mIndex\u001b[0m\u001b[1m \u001b[0m┃\u001b[1m \u001b[0m\u001b[1mSite           \u001b[0m\u001b[1m \u001b[0m┃\u001b[1m \u001b[0m\u001b[1mFiles    \u001b[0m\u001b[1m \u001b[0m┃\u001b[1m \u001b[0m\u001b[1mAvailability\u001b[0m\u001b[1m \u001b[0m┃\n",
       "┡━━━━━━━╇━━━━━━━━━━━━━━━━━╇━━━━━━━━━━━╇━━━━━━━━━━━━━━┩\n",
       "│\u001b[2m \u001b[0m\u001b[2m  0  \u001b[0m\u001b[2m \u001b[0m│\u001b[2;36m \u001b[0m\u001b[2;36mT2_DE_DESY     \u001b[0m\u001b[2;36m \u001b[0m│\u001b[2;35m \u001b[0m\u001b[2;35m294 / 294\u001b[0m\u001b[2;35m \u001b[0m│\u001b[2m \u001b[0m\u001b[2m   100.0%   \u001b[0m\u001b[2m \u001b[0m│\n",
       "│   1   │\u001b[36m \u001b[0m\u001b[36mT1_US_FNAL_Disk\u001b[0m\u001b[36m \u001b[0m│\u001b[35m \u001b[0m\u001b[35m193 / 294\u001b[0m\u001b[35m \u001b[0m│    65.6%     │\n",
       "└───────┴─────────────────┴───────────┴──────────────┘\n"
      ]
     },
     "metadata": {},
     "output_type": "display_data"
    }
   ],
   "source": [
    "# Example with allowlist\n",
    "try:\n",
    "    (\n",
    "        outfiles,\n",
    "        outsites,\n",
    "        sites_counts,\n",
    "    ) = rucio_utils.get_dataset_files_replicas(\n",
    "        dataset,\n",
    "        allowlist_sites=[\"T2_DE_DESY\", \"T1_US_FNAL_Disk\"],\n",
    "        blocklist_sites=[],\n",
    "        regex_sites=None,\n",
    "        mode=\"full\",   # full or first. \"full\"==all the available replicas\n",
    "        client=client,\n",
    "    )\n",
    "except Exception as e:\n",
    "    print(f\"\\n[red bold] Exception: {e}[/]\")\n",
    "\n",
    "print_replicas(sites_counts)"
   ]
  },
  {
   "cell_type": "code",
   "execution_count": 18,
   "id": "12f7e403-67fe-42c0-a3ee-a668006b1836",
   "metadata": {},
   "outputs": [
    {
     "data": {
      "text/html": [
       "<pre style=\"white-space:pre;overflow-x:auto;line-height:normal;font-family:Menlo,'DejaVu Sans Mono',consolas,'Courier New',monospace\"><span style=\"color: #008080; text-decoration-color: #008080\">Sites availability for dataset: </span>\n",
       "<span style=\"color: #800000; text-decoration-color: #800000\">/TTToSemiLeptonic_TuneCP5CR1_13TeV-powheg-pythia8/RunIISummer20UL18NanoAODv9-106X_upgrade2018_realistic_v16_L1v1-v2</span>\n",
       "<span style=\"color: #800000; text-decoration-color: #800000\">/NANOAODSIM</span>\n",
       "</pre>\n"
      ],
      "text/plain": [
       "\u001b[36mSites availability for dataset: \u001b[0m\n",
       "\u001b[31m/TTToSemiLeptonic_TuneCP5CR1_13TeV-powheg-pythia8/RunIISummer20UL18NanoAODv9-106X_upgrade2018_realistic_v16_L1v1-v2\u001b[0m\n",
       "\u001b[31m/\u001b[0m\u001b[31mNANOAODSIM\u001b[0m\n"
      ]
     },
     "metadata": {},
     "output_type": "display_data"
    },
    {
     "data": {
      "text/html": [
       "<pre style=\"white-space:pre;overflow-x:auto;line-height:normal;font-family:Menlo,'DejaVu Sans Mono',consolas,'Courier New',monospace\"><span style=\"font-style: italic\">                    Available replicas                    </span>\n",
       "┏━━━━━━━┳━━━━━━━━━━━━━━━━━━━━━┳━━━━━━━━━━━┳━━━━━━━━━━━━━━┓\n",
       "┃<span style=\"font-weight: bold\"> Index </span>┃<span style=\"font-weight: bold\"> Site                </span>┃<span style=\"font-weight: bold\"> Files     </span>┃<span style=\"font-weight: bold\"> Availability </span>┃\n",
       "┡━━━━━━━╇━━━━━━━━━━━━━━━━━━━━━╇━━━━━━━━━━━╇━━━━━━━━━━━━━━┩\n",
       "│<span style=\"color: #7f7f7f; text-decoration-color: #7f7f7f\">   0   </span>│<span style=\"color: #7fbfbf; text-decoration-color: #7fbfbf\"> T1_DE_KIT_Disk      </span>│<span style=\"color: #bf7fbf; text-decoration-color: #bf7fbf\"> 294 / 294 </span>│<span style=\"color: #7f7f7f; text-decoration-color: #7f7f7f\">    100.0%    </span>│\n",
       "│   1   │<span style=\"color: #008080; text-decoration-color: #008080\"> T1_UK_RAL_Disk      </span>│<span style=\"color: #800080; text-decoration-color: #800080\"> 294 / 294 </span>│    100.0%    │\n",
       "│<span style=\"color: #7f7f7f; text-decoration-color: #7f7f7f\">   2   </span>│<span style=\"color: #7fbfbf; text-decoration-color: #7fbfbf\"> T1_RU_JINR_Disk     </span>│<span style=\"color: #bf7fbf; text-decoration-color: #bf7fbf\"> 294 / 294 </span>│<span style=\"color: #7f7f7f; text-decoration-color: #7f7f7f\">    100.0%    </span>│\n",
       "│   3   │<span style=\"color: #008080; text-decoration-color: #008080\"> T3_KR_UOS           </span>│<span style=\"color: #800080; text-decoration-color: #800080\"> 294 / 294 </span>│    100.0%    │\n",
       "│<span style=\"color: #7f7f7f; text-decoration-color: #7f7f7f\">   4   </span>│<span style=\"color: #7fbfbf; text-decoration-color: #7fbfbf\"> T1_US_FNAL_Disk     </span>│<span style=\"color: #bf7fbf; text-decoration-color: #bf7fbf\"> 193 / 294 </span>│<span style=\"color: #7f7f7f; text-decoration-color: #7f7f7f\">    65.6%     </span>│\n",
       "│   5   │<span style=\"color: #008080; text-decoration-color: #008080\"> T2_US_Nebraska      </span>│<span style=\"color: #800080; text-decoration-color: #800080\"> 99 / 294  </span>│    33.7%     │\n",
       "│<span style=\"color: #7f7f7f; text-decoration-color: #7f7f7f\">   6   </span>│<span style=\"color: #7fbfbf; text-decoration-color: #7fbfbf\"> T1_IT_CNAF_Disk     </span>│<span style=\"color: #bf7fbf; text-decoration-color: #bf7fbf\"> 58 / 294  </span>│<span style=\"color: #7f7f7f; text-decoration-color: #7f7f7f\">    19.7%     </span>│\n",
       "│   7   │<span style=\"color: #008080; text-decoration-color: #008080\"> T2_US_Purdue        </span>│<span style=\"color: #800080; text-decoration-color: #800080\"> 53 / 294  </span>│    18.0%     │\n",
       "│<span style=\"color: #7f7f7f; text-decoration-color: #7f7f7f\">   8   </span>│<span style=\"color: #7fbfbf; text-decoration-color: #7fbfbf\"> T2_BE_IIHE          </span>│<span style=\"color: #bf7fbf; text-decoration-color: #bf7fbf\"> 50 / 294  </span>│<span style=\"color: #7f7f7f; text-decoration-color: #7f7f7f\">    17.0%     </span>│\n",
       "│   9   │<span style=\"color: #008080; text-decoration-color: #008080\"> T2_US_MIT           </span>│<span style=\"color: #800080; text-decoration-color: #800080\"> 50 / 294  </span>│    17.0%     │\n",
       "│<span style=\"color: #7f7f7f; text-decoration-color: #7f7f7f\">  10   </span>│<span style=\"color: #7fbfbf; text-decoration-color: #7fbfbf\"> T1_ES_PIC_Disk      </span>│<span style=\"color: #bf7fbf; text-decoration-color: #bf7fbf\"> 43 / 294  </span>│<span style=\"color: #7f7f7f; text-decoration-color: #7f7f7f\">    14.6%     </span>│\n",
       "│  11   │<span style=\"color: #008080; text-decoration-color: #008080\"> T2_US_Vanderbilt    </span>│<span style=\"color: #800080; text-decoration-color: #800080\"> 40 / 294  </span>│    13.6%     │\n",
       "│<span style=\"color: #7f7f7f; text-decoration-color: #7f7f7f\">  12   </span>│<span style=\"color: #7fbfbf; text-decoration-color: #7fbfbf\"> T2_BR_SPRACE        </span>│<span style=\"color: #bf7fbf; text-decoration-color: #bf7fbf\"> 39 / 294  </span>│<span style=\"color: #7f7f7f; text-decoration-color: #7f7f7f\">    13.3%     </span>│\n",
       "│  13   │<span style=\"color: #008080; text-decoration-color: #008080\"> T2_US_Florida       </span>│<span style=\"color: #800080; text-decoration-color: #800080\"> 33 / 294  </span>│    11.2%     │\n",
       "│<span style=\"color: #7f7f7f; text-decoration-color: #7f7f7f\">  14   </span>│<span style=\"color: #7fbfbf; text-decoration-color: #7fbfbf\"> T2_IT_Legnaro       </span>│<span style=\"color: #bf7fbf; text-decoration-color: #bf7fbf\"> 28 / 294  </span>│<span style=\"color: #7f7f7f; text-decoration-color: #7f7f7f\">     9.5%     </span>│\n",
       "│  15   │<span style=\"color: #008080; text-decoration-color: #008080\"> T2_US_UCSD          </span>│<span style=\"color: #800080; text-decoration-color: #800080\"> 28 / 294  </span>│     9.5%     │\n",
       "│<span style=\"color: #7f7f7f; text-decoration-color: #7f7f7f\">  16   </span>│<span style=\"color: #7fbfbf; text-decoration-color: #7fbfbf\"> T2_UA_KIPT          </span>│<span style=\"color: #bf7fbf; text-decoration-color: #bf7fbf\"> 26 / 294  </span>│<span style=\"color: #7f7f7f; text-decoration-color: #7f7f7f\">     8.8%     </span>│\n",
       "│  17   │<span style=\"color: #008080; text-decoration-color: #008080\"> T2_US_Caltech       </span>│<span style=\"color: #800080; text-decoration-color: #800080\"> 24 / 294  </span>│     8.2%     │\n",
       "│<span style=\"color: #7f7f7f; text-decoration-color: #7f7f7f\">  18   </span>│<span style=\"color: #7fbfbf; text-decoration-color: #7fbfbf\"> T2_US_Wisconsin     </span>│<span style=\"color: #bf7fbf; text-decoration-color: #bf7fbf\"> 22 / 294  </span>│<span style=\"color: #7f7f7f; text-decoration-color: #7f7f7f\">     7.5%     </span>│\n",
       "│  19   │<span style=\"color: #008080; text-decoration-color: #008080\"> T2_TR_METU          </span>│<span style=\"color: #800080; text-decoration-color: #800080\"> 18 / 294  </span>│     6.1%     │\n",
       "│<span style=\"color: #7f7f7f; text-decoration-color: #7f7f7f\">  20   </span>│<span style=\"color: #7fbfbf; text-decoration-color: #7fbfbf\"> T2_ES_CIEMAT        </span>│<span style=\"color: #bf7fbf; text-decoration-color: #bf7fbf\"> 17 / 294  </span>│<span style=\"color: #7f7f7f; text-decoration-color: #7f7f7f\">     5.8%     </span>│\n",
       "│  21   │<span style=\"color: #008080; text-decoration-color: #008080\"> T2_DE_RWTH          </span>│<span style=\"color: #800080; text-decoration-color: #800080\"> 11 / 294  </span>│     3.7%     │\n",
       "│<span style=\"color: #7f7f7f; text-decoration-color: #7f7f7f\">  22   </span>│<span style=\"color: #7fbfbf; text-decoration-color: #7fbfbf\"> T2_BR_UERJ          </span>│<span style=\"color: #bf7fbf; text-decoration-color: #bf7fbf\"> 7 / 294   </span>│<span style=\"color: #7f7f7f; text-decoration-color: #7f7f7f\">     2.4%     </span>│\n",
       "│  23   │<span style=\"color: #008080; text-decoration-color: #008080\"> T2_UK_SGrid_Bristol </span>│<span style=\"color: #800080; text-decoration-color: #800080\"> 3 / 294   </span>│     1.0%     │\n",
       "│<span style=\"color: #7f7f7f; text-decoration-color: #7f7f7f\">  24   </span>│<span style=\"color: #7fbfbf; text-decoration-color: #7fbfbf\"> T2_ES_IFCA          </span>│<span style=\"color: #bf7fbf; text-decoration-color: #bf7fbf\"> 2 / 294   </span>│<span style=\"color: #7f7f7f; text-decoration-color: #7f7f7f\">     0.7%     </span>│\n",
       "└───────┴─────────────────────┴───────────┴──────────────┘\n",
       "</pre>\n"
      ],
      "text/plain": [
       "\u001b[3m                    Available replicas                    \u001b[0m\n",
       "┏━━━━━━━┳━━━━━━━━━━━━━━━━━━━━━┳━━━━━━━━━━━┳━━━━━━━━━━━━━━┓\n",
       "┃\u001b[1m \u001b[0m\u001b[1mIndex\u001b[0m\u001b[1m \u001b[0m┃\u001b[1m \u001b[0m\u001b[1mSite               \u001b[0m\u001b[1m \u001b[0m┃\u001b[1m \u001b[0m\u001b[1mFiles    \u001b[0m\u001b[1m \u001b[0m┃\u001b[1m \u001b[0m\u001b[1mAvailability\u001b[0m\u001b[1m \u001b[0m┃\n",
       "┡━━━━━━━╇━━━━━━━━━━━━━━━━━━━━━╇━━━━━━━━━━━╇━━━━━━━━━━━━━━┩\n",
       "│\u001b[2m \u001b[0m\u001b[2m  0  \u001b[0m\u001b[2m \u001b[0m│\u001b[2;36m \u001b[0m\u001b[2;36mT1_DE_KIT_Disk     \u001b[0m\u001b[2;36m \u001b[0m│\u001b[2;35m \u001b[0m\u001b[2;35m294 / 294\u001b[0m\u001b[2;35m \u001b[0m│\u001b[2m \u001b[0m\u001b[2m   100.0%   \u001b[0m\u001b[2m \u001b[0m│\n",
       "│   1   │\u001b[36m \u001b[0m\u001b[36mT1_UK_RAL_Disk     \u001b[0m\u001b[36m \u001b[0m│\u001b[35m \u001b[0m\u001b[35m294 / 294\u001b[0m\u001b[35m \u001b[0m│    100.0%    │\n",
       "│\u001b[2m \u001b[0m\u001b[2m  2  \u001b[0m\u001b[2m \u001b[0m│\u001b[2;36m \u001b[0m\u001b[2;36mT1_RU_JINR_Disk    \u001b[0m\u001b[2;36m \u001b[0m│\u001b[2;35m \u001b[0m\u001b[2;35m294 / 294\u001b[0m\u001b[2;35m \u001b[0m│\u001b[2m \u001b[0m\u001b[2m   100.0%   \u001b[0m\u001b[2m \u001b[0m│\n",
       "│   3   │\u001b[36m \u001b[0m\u001b[36mT3_KR_UOS          \u001b[0m\u001b[36m \u001b[0m│\u001b[35m \u001b[0m\u001b[35m294 / 294\u001b[0m\u001b[35m \u001b[0m│    100.0%    │\n",
       "│\u001b[2m \u001b[0m\u001b[2m  4  \u001b[0m\u001b[2m \u001b[0m│\u001b[2;36m \u001b[0m\u001b[2;36mT1_US_FNAL_Disk    \u001b[0m\u001b[2;36m \u001b[0m│\u001b[2;35m \u001b[0m\u001b[2;35m193 / 294\u001b[0m\u001b[2;35m \u001b[0m│\u001b[2m \u001b[0m\u001b[2m   65.6%    \u001b[0m\u001b[2m \u001b[0m│\n",
       "│   5   │\u001b[36m \u001b[0m\u001b[36mT2_US_Nebraska     \u001b[0m\u001b[36m \u001b[0m│\u001b[35m \u001b[0m\u001b[35m99 / 294 \u001b[0m\u001b[35m \u001b[0m│    33.7%     │\n",
       "│\u001b[2m \u001b[0m\u001b[2m  6  \u001b[0m\u001b[2m \u001b[0m│\u001b[2;36m \u001b[0m\u001b[2;36mT1_IT_CNAF_Disk    \u001b[0m\u001b[2;36m \u001b[0m│\u001b[2;35m \u001b[0m\u001b[2;35m58 / 294 \u001b[0m\u001b[2;35m \u001b[0m│\u001b[2m \u001b[0m\u001b[2m   19.7%    \u001b[0m\u001b[2m \u001b[0m│\n",
       "│   7   │\u001b[36m \u001b[0m\u001b[36mT2_US_Purdue       \u001b[0m\u001b[36m \u001b[0m│\u001b[35m \u001b[0m\u001b[35m53 / 294 \u001b[0m\u001b[35m \u001b[0m│    18.0%     │\n",
       "│\u001b[2m \u001b[0m\u001b[2m  8  \u001b[0m\u001b[2m \u001b[0m│\u001b[2;36m \u001b[0m\u001b[2;36mT2_BE_IIHE         \u001b[0m\u001b[2;36m \u001b[0m│\u001b[2;35m \u001b[0m\u001b[2;35m50 / 294 \u001b[0m\u001b[2;35m \u001b[0m│\u001b[2m \u001b[0m\u001b[2m   17.0%    \u001b[0m\u001b[2m \u001b[0m│\n",
       "│   9   │\u001b[36m \u001b[0m\u001b[36mT2_US_MIT          \u001b[0m\u001b[36m \u001b[0m│\u001b[35m \u001b[0m\u001b[35m50 / 294 \u001b[0m\u001b[35m \u001b[0m│    17.0%     │\n",
       "│\u001b[2m \u001b[0m\u001b[2m 10  \u001b[0m\u001b[2m \u001b[0m│\u001b[2;36m \u001b[0m\u001b[2;36mT1_ES_PIC_Disk     \u001b[0m\u001b[2;36m \u001b[0m│\u001b[2;35m \u001b[0m\u001b[2;35m43 / 294 \u001b[0m\u001b[2;35m \u001b[0m│\u001b[2m \u001b[0m\u001b[2m   14.6%    \u001b[0m\u001b[2m \u001b[0m│\n",
       "│  11   │\u001b[36m \u001b[0m\u001b[36mT2_US_Vanderbilt   \u001b[0m\u001b[36m \u001b[0m│\u001b[35m \u001b[0m\u001b[35m40 / 294 \u001b[0m\u001b[35m \u001b[0m│    13.6%     │\n",
       "│\u001b[2m \u001b[0m\u001b[2m 12  \u001b[0m\u001b[2m \u001b[0m│\u001b[2;36m \u001b[0m\u001b[2;36mT2_BR_SPRACE       \u001b[0m\u001b[2;36m \u001b[0m│\u001b[2;35m \u001b[0m\u001b[2;35m39 / 294 \u001b[0m\u001b[2;35m \u001b[0m│\u001b[2m \u001b[0m\u001b[2m   13.3%    \u001b[0m\u001b[2m \u001b[0m│\n",
       "│  13   │\u001b[36m \u001b[0m\u001b[36mT2_US_Florida      \u001b[0m\u001b[36m \u001b[0m│\u001b[35m \u001b[0m\u001b[35m33 / 294 \u001b[0m\u001b[35m \u001b[0m│    11.2%     │\n",
       "│\u001b[2m \u001b[0m\u001b[2m 14  \u001b[0m\u001b[2m \u001b[0m│\u001b[2;36m \u001b[0m\u001b[2;36mT2_IT_Legnaro      \u001b[0m\u001b[2;36m \u001b[0m│\u001b[2;35m \u001b[0m\u001b[2;35m28 / 294 \u001b[0m\u001b[2;35m \u001b[0m│\u001b[2m \u001b[0m\u001b[2m    9.5%    \u001b[0m\u001b[2m \u001b[0m│\n",
       "│  15   │\u001b[36m \u001b[0m\u001b[36mT2_US_UCSD         \u001b[0m\u001b[36m \u001b[0m│\u001b[35m \u001b[0m\u001b[35m28 / 294 \u001b[0m\u001b[35m \u001b[0m│     9.5%     │\n",
       "│\u001b[2m \u001b[0m\u001b[2m 16  \u001b[0m\u001b[2m \u001b[0m│\u001b[2;36m \u001b[0m\u001b[2;36mT2_UA_KIPT         \u001b[0m\u001b[2;36m \u001b[0m│\u001b[2;35m \u001b[0m\u001b[2;35m26 / 294 \u001b[0m\u001b[2;35m \u001b[0m│\u001b[2m \u001b[0m\u001b[2m    8.8%    \u001b[0m\u001b[2m \u001b[0m│\n",
       "│  17   │\u001b[36m \u001b[0m\u001b[36mT2_US_Caltech      \u001b[0m\u001b[36m \u001b[0m│\u001b[35m \u001b[0m\u001b[35m24 / 294 \u001b[0m\u001b[35m \u001b[0m│     8.2%     │\n",
       "│\u001b[2m \u001b[0m\u001b[2m 18  \u001b[0m\u001b[2m \u001b[0m│\u001b[2;36m \u001b[0m\u001b[2;36mT2_US_Wisconsin    \u001b[0m\u001b[2;36m \u001b[0m│\u001b[2;35m \u001b[0m\u001b[2;35m22 / 294 \u001b[0m\u001b[2;35m \u001b[0m│\u001b[2m \u001b[0m\u001b[2m    7.5%    \u001b[0m\u001b[2m \u001b[0m│\n",
       "│  19   │\u001b[36m \u001b[0m\u001b[36mT2_TR_METU         \u001b[0m\u001b[36m \u001b[0m│\u001b[35m \u001b[0m\u001b[35m18 / 294 \u001b[0m\u001b[35m \u001b[0m│     6.1%     │\n",
       "│\u001b[2m \u001b[0m\u001b[2m 20  \u001b[0m\u001b[2m \u001b[0m│\u001b[2;36m \u001b[0m\u001b[2;36mT2_ES_CIEMAT       \u001b[0m\u001b[2;36m \u001b[0m│\u001b[2;35m \u001b[0m\u001b[2;35m17 / 294 \u001b[0m\u001b[2;35m \u001b[0m│\u001b[2m \u001b[0m\u001b[2m    5.8%    \u001b[0m\u001b[2m \u001b[0m│\n",
       "│  21   │\u001b[36m \u001b[0m\u001b[36mT2_DE_RWTH         \u001b[0m\u001b[36m \u001b[0m│\u001b[35m \u001b[0m\u001b[35m11 / 294 \u001b[0m\u001b[35m \u001b[0m│     3.7%     │\n",
       "│\u001b[2m \u001b[0m\u001b[2m 22  \u001b[0m\u001b[2m \u001b[0m│\u001b[2;36m \u001b[0m\u001b[2;36mT2_BR_UERJ         \u001b[0m\u001b[2;36m \u001b[0m│\u001b[2;35m \u001b[0m\u001b[2;35m7 / 294  \u001b[0m\u001b[2;35m \u001b[0m│\u001b[2m \u001b[0m\u001b[2m    2.4%    \u001b[0m\u001b[2m \u001b[0m│\n",
       "│  23   │\u001b[36m \u001b[0m\u001b[36mT2_UK_SGrid_Bristol\u001b[0m\u001b[36m \u001b[0m│\u001b[35m \u001b[0m\u001b[35m3 / 294  \u001b[0m\u001b[35m \u001b[0m│     1.0%     │\n",
       "│\u001b[2m \u001b[0m\u001b[2m 24  \u001b[0m\u001b[2m \u001b[0m│\u001b[2;36m \u001b[0m\u001b[2;36mT2_ES_IFCA         \u001b[0m\u001b[2;36m \u001b[0m│\u001b[2;35m \u001b[0m\u001b[2;35m2 / 294  \u001b[0m\u001b[2;35m \u001b[0m│\u001b[2m \u001b[0m\u001b[2m    0.7%    \u001b[0m\u001b[2m \u001b[0m│\n",
       "└───────┴─────────────────────┴───────────┴──────────────┘\n"
      ]
     },
     "metadata": {},
     "output_type": "display_data"
    }
   ],
   "source": [
    "# Example with blocklist\n",
    "try:\n",
    "    (\n",
    "        outfiles,\n",
    "        outsites,\n",
    "        sites_counts,\n",
    "    ) = rucio_utils.get_dataset_files_replicas(\n",
    "        dataset,\n",
    "        allowlist_sites=[],\n",
    "        blocklist_sites=[\"T2_DE_DESY\", \"T3_CH_PSI\"],\n",
    "        regex_sites=None,\n",
    "        mode=\"full\",   # full or first. \"full\"==all the available replicas\n",
    "        client=client,\n",
    "    )\n",
    "except Exception as e:\n",
    "    print(f\"\\n[red bold] Exception: {e}[/]\")\n",
    "\n",
    "print_replicas(sites_counts)"
   ]
  },
  {
   "cell_type": "code",
   "execution_count": 22,
   "id": "f5dafcc2-c32e-4e33-9878-183a8e476b73",
   "metadata": {},
   "outputs": [
    {
     "data": {
      "text/html": [
       "<pre style=\"white-space:pre;overflow-x:auto;line-height:normal;font-family:Menlo,'DejaVu Sans Mono',consolas,'Courier New',monospace\"><span style=\"color: #008080; text-decoration-color: #008080\">Sites availability for dataset: </span>\n",
       "<span style=\"color: #800000; text-decoration-color: #800000\">/TTToSemiLeptonic_TuneCP5CR1_13TeV-powheg-pythia8/RunIISummer20UL18NanoAODv9-106X_upgrade2018_realistic_v16_L1v1-v2</span>\n",
       "<span style=\"color: #800000; text-decoration-color: #800000\">/NANOAODSIM</span>\n",
       "</pre>\n"
      ],
      "text/plain": [
       "\u001b[36mSites availability for dataset: \u001b[0m\n",
       "\u001b[31m/TTToSemiLeptonic_TuneCP5CR1_13TeV-powheg-pythia8/RunIISummer20UL18NanoAODv9-106X_upgrade2018_realistic_v16_L1v1-v2\u001b[0m\n",
       "\u001b[31m/\u001b[0m\u001b[31mNANOAODSIM\u001b[0m\n"
      ]
     },
     "metadata": {},
     "output_type": "display_data"
    },
    {
     "data": {
      "text/html": [
       "<pre style=\"white-space:pre;overflow-x:auto;line-height:normal;font-family:Menlo,'DejaVu Sans Mono',consolas,'Courier New',monospace\"><span style=\"font-style: italic\">                    Available replicas                    </span>\n",
       "┏━━━━━━━┳━━━━━━━━━━━━━━━━━━━━━┳━━━━━━━━━━━┳━━━━━━━━━━━━━━┓\n",
       "┃<span style=\"font-weight: bold\"> Index </span>┃<span style=\"font-weight: bold\"> Site                </span>┃<span style=\"font-weight: bold\"> Files     </span>┃<span style=\"font-weight: bold\"> Availability </span>┃\n",
       "┡━━━━━━━╇━━━━━━━━━━━━━━━━━━━━━╇━━━━━━━━━━━╇━━━━━━━━━━━━━━┩\n",
       "│<span style=\"color: #7f7f7f; text-decoration-color: #7f7f7f\">   0   </span>│<span style=\"color: #7fbfbf; text-decoration-color: #7fbfbf\"> T2_DE_DESY          </span>│<span style=\"color: #bf7fbf; text-decoration-color: #bf7fbf\"> 294 / 294 </span>│<span style=\"color: #7f7f7f; text-decoration-color: #7f7f7f\">    100.0%    </span>│\n",
       "│   1   │<span style=\"color: #008080; text-decoration-color: #008080\"> T1_DE_KIT_Disk      </span>│<span style=\"color: #800080; text-decoration-color: #800080\"> 294 / 294 </span>│    100.0%    │\n",
       "│<span style=\"color: #7f7f7f; text-decoration-color: #7f7f7f\">   2   </span>│<span style=\"color: #7fbfbf; text-decoration-color: #7fbfbf\"> T1_UK_RAL_Disk      </span>│<span style=\"color: #bf7fbf; text-decoration-color: #bf7fbf\"> 294 / 294 </span>│<span style=\"color: #7f7f7f; text-decoration-color: #7f7f7f\">    100.0%    </span>│\n",
       "│   3   │<span style=\"color: #008080; text-decoration-color: #008080\"> T3_CH_PSI           </span>│<span style=\"color: #800080; text-decoration-color: #800080\"> 294 / 294 </span>│    100.0%    │\n",
       "│<span style=\"color: #7f7f7f; text-decoration-color: #7f7f7f\">   4   </span>│<span style=\"color: #7fbfbf; text-decoration-color: #7fbfbf\"> T1_IT_CNAF_Disk     </span>│<span style=\"color: #bf7fbf; text-decoration-color: #bf7fbf\"> 58 / 294  </span>│<span style=\"color: #7f7f7f; text-decoration-color: #7f7f7f\">    19.7%     </span>│\n",
       "│   5   │<span style=\"color: #008080; text-decoration-color: #008080\"> T2_BE_IIHE          </span>│<span style=\"color: #800080; text-decoration-color: #800080\"> 50 / 294  </span>│    17.0%     │\n",
       "│<span style=\"color: #7f7f7f; text-decoration-color: #7f7f7f\">   6   </span>│<span style=\"color: #7fbfbf; text-decoration-color: #7fbfbf\"> T1_ES_PIC_Disk      </span>│<span style=\"color: #bf7fbf; text-decoration-color: #bf7fbf\"> 43 / 294  </span>│<span style=\"color: #7f7f7f; text-decoration-color: #7f7f7f\">    14.6%     </span>│\n",
       "│   7   │<span style=\"color: #008080; text-decoration-color: #008080\"> T2_IT_Legnaro       </span>│<span style=\"color: #800080; text-decoration-color: #800080\"> 28 / 294  </span>│     9.5%     │\n",
       "│<span style=\"color: #7f7f7f; text-decoration-color: #7f7f7f\">   8   </span>│<span style=\"color: #7fbfbf; text-decoration-color: #7fbfbf\"> T2_ES_CIEMAT        </span>│<span style=\"color: #bf7fbf; text-decoration-color: #bf7fbf\"> 17 / 294  </span>│<span style=\"color: #7f7f7f; text-decoration-color: #7f7f7f\">     5.8%     </span>│\n",
       "│   9   │<span style=\"color: #008080; text-decoration-color: #008080\"> T2_DE_RWTH          </span>│<span style=\"color: #800080; text-decoration-color: #800080\"> 11 / 294  </span>│     3.7%     │\n",
       "│<span style=\"color: #7f7f7f; text-decoration-color: #7f7f7f\">  10   </span>│<span style=\"color: #7fbfbf; text-decoration-color: #7fbfbf\"> T2_UK_SGrid_Bristol </span>│<span style=\"color: #bf7fbf; text-decoration-color: #bf7fbf\"> 3 / 294   </span>│<span style=\"color: #7f7f7f; text-decoration-color: #7f7f7f\">     1.0%     </span>│\n",
       "│  11   │<span style=\"color: #008080; text-decoration-color: #008080\"> T2_ES_IFCA          </span>│<span style=\"color: #800080; text-decoration-color: #800080\"> 2 / 294   </span>│     0.7%     │\n",
       "└───────┴─────────────────────┴───────────┴──────────────┘\n",
       "</pre>\n"
      ],
      "text/plain": [
       "\u001b[3m                    Available replicas                    \u001b[0m\n",
       "┏━━━━━━━┳━━━━━━━━━━━━━━━━━━━━━┳━━━━━━━━━━━┳━━━━━━━━━━━━━━┓\n",
       "┃\u001b[1m \u001b[0m\u001b[1mIndex\u001b[0m\u001b[1m \u001b[0m┃\u001b[1m \u001b[0m\u001b[1mSite               \u001b[0m\u001b[1m \u001b[0m┃\u001b[1m \u001b[0m\u001b[1mFiles    \u001b[0m\u001b[1m \u001b[0m┃\u001b[1m \u001b[0m\u001b[1mAvailability\u001b[0m\u001b[1m \u001b[0m┃\n",
       "┡━━━━━━━╇━━━━━━━━━━━━━━━━━━━━━╇━━━━━━━━━━━╇━━━━━━━━━━━━━━┩\n",
       "│\u001b[2m \u001b[0m\u001b[2m  0  \u001b[0m\u001b[2m \u001b[0m│\u001b[2;36m \u001b[0m\u001b[2;36mT2_DE_DESY         \u001b[0m\u001b[2;36m \u001b[0m│\u001b[2;35m \u001b[0m\u001b[2;35m294 / 294\u001b[0m\u001b[2;35m \u001b[0m│\u001b[2m \u001b[0m\u001b[2m   100.0%   \u001b[0m\u001b[2m \u001b[0m│\n",
       "│   1   │\u001b[36m \u001b[0m\u001b[36mT1_DE_KIT_Disk     \u001b[0m\u001b[36m \u001b[0m│\u001b[35m \u001b[0m\u001b[35m294 / 294\u001b[0m\u001b[35m \u001b[0m│    100.0%    │\n",
       "│\u001b[2m \u001b[0m\u001b[2m  2  \u001b[0m\u001b[2m \u001b[0m│\u001b[2;36m \u001b[0m\u001b[2;36mT1_UK_RAL_Disk     \u001b[0m\u001b[2;36m \u001b[0m│\u001b[2;35m \u001b[0m\u001b[2;35m294 / 294\u001b[0m\u001b[2;35m \u001b[0m│\u001b[2m \u001b[0m\u001b[2m   100.0%   \u001b[0m\u001b[2m \u001b[0m│\n",
       "│   3   │\u001b[36m \u001b[0m\u001b[36mT3_CH_PSI          \u001b[0m\u001b[36m \u001b[0m│\u001b[35m \u001b[0m\u001b[35m294 / 294\u001b[0m\u001b[35m \u001b[0m│    100.0%    │\n",
       "│\u001b[2m \u001b[0m\u001b[2m  4  \u001b[0m\u001b[2m \u001b[0m│\u001b[2;36m \u001b[0m\u001b[2;36mT1_IT_CNAF_Disk    \u001b[0m\u001b[2;36m \u001b[0m│\u001b[2;35m \u001b[0m\u001b[2;35m58 / 294 \u001b[0m\u001b[2;35m \u001b[0m│\u001b[2m \u001b[0m\u001b[2m   19.7%    \u001b[0m\u001b[2m \u001b[0m│\n",
       "│   5   │\u001b[36m \u001b[0m\u001b[36mT2_BE_IIHE         \u001b[0m\u001b[36m \u001b[0m│\u001b[35m \u001b[0m\u001b[35m50 / 294 \u001b[0m\u001b[35m \u001b[0m│    17.0%     │\n",
       "│\u001b[2m \u001b[0m\u001b[2m  6  \u001b[0m\u001b[2m \u001b[0m│\u001b[2;36m \u001b[0m\u001b[2;36mT1_ES_PIC_Disk     \u001b[0m\u001b[2;36m \u001b[0m│\u001b[2;35m \u001b[0m\u001b[2;35m43 / 294 \u001b[0m\u001b[2;35m \u001b[0m│\u001b[2m \u001b[0m\u001b[2m   14.6%    \u001b[0m\u001b[2m \u001b[0m│\n",
       "│   7   │\u001b[36m \u001b[0m\u001b[36mT2_IT_Legnaro      \u001b[0m\u001b[36m \u001b[0m│\u001b[35m \u001b[0m\u001b[35m28 / 294 \u001b[0m\u001b[35m \u001b[0m│     9.5%     │\n",
       "│\u001b[2m \u001b[0m\u001b[2m  8  \u001b[0m\u001b[2m \u001b[0m│\u001b[2;36m \u001b[0m\u001b[2;36mT2_ES_CIEMAT       \u001b[0m\u001b[2;36m \u001b[0m│\u001b[2;35m \u001b[0m\u001b[2;35m17 / 294 \u001b[0m\u001b[2;35m \u001b[0m│\u001b[2m \u001b[0m\u001b[2m    5.8%    \u001b[0m\u001b[2m \u001b[0m│\n",
       "│   9   │\u001b[36m \u001b[0m\u001b[36mT2_DE_RWTH         \u001b[0m\u001b[36m \u001b[0m│\u001b[35m \u001b[0m\u001b[35m11 / 294 \u001b[0m\u001b[35m \u001b[0m│     3.7%     │\n",
       "│\u001b[2m \u001b[0m\u001b[2m 10  \u001b[0m\u001b[2m \u001b[0m│\u001b[2;36m \u001b[0m\u001b[2;36mT2_UK_SGrid_Bristol\u001b[0m\u001b[2;36m \u001b[0m│\u001b[2;35m \u001b[0m\u001b[2;35m3 / 294  \u001b[0m\u001b[2;35m \u001b[0m│\u001b[2m \u001b[0m\u001b[2m    1.0%    \u001b[0m\u001b[2m \u001b[0m│\n",
       "│  11   │\u001b[36m \u001b[0m\u001b[36mT2_ES_IFCA         \u001b[0m\u001b[36m \u001b[0m│\u001b[35m \u001b[0m\u001b[35m2 / 294  \u001b[0m\u001b[35m \u001b[0m│     0.7%     │\n",
       "└───────┴─────────────────────┴───────────┴──────────────┘\n"
      ]
     },
     "metadata": {},
     "output_type": "display_data"
    }
   ],
   "source": [
    "# Example with regex\n",
    "try:\n",
    "    (\n",
    "        outfiles,\n",
    "        outsites,\n",
    "        sites_counts,\n",
    "    ) = rucio_utils.get_dataset_files_replicas(\n",
    "        dataset,\n",
    "        allowlist_sites=[],\n",
    "        blocklist_sites=[],\n",
    "        regex_sites= r\"T[123]_(FR|IT|BE|CH|DE|ES|UK)_\\w+\",\n",
    "        mode=\"full\",   # full or first. \"full\"==all the available replicas\n",
    "        client=client,\n",
    "    )\n",
    "except Exception as e:\n",
    "    print(f\"\\n[red bold] Exception: {e}[/]\")\n",
    "\n",
    "print_replicas(sites_counts)"
   ]
  },
  {
   "cell_type": "markdown",
   "id": "0b805dde-dd38-46a4-92ad-55ab2e4a4876",
   "metadata": {},
   "source": [
    "# Using the DataDiscoveryCLI\n",
    "Manipulating the dataset query and replicas is simplified by the `DataDiscoveryCLI` class in `dataset_query` module."
   ]
  },
  {
   "cell_type": "code",
   "execution_count": 1,
   "id": "39846193-d6f2-4de5-ba42-a089d1b0786d",
   "metadata": {},
   "outputs": [],
   "source": [
    "from coffea.dataset_tools import rucio_utils\n",
    "from coffea.dataset_tools.dataset_query import print_dataset_query\n",
    "from rich.console import Console\n",
    "from rich.table import Table\n",
    "from coffea.dataset_tools.dataset_query import DataDiscoveryCLI"
   ]
  },
  {
   "cell_type": "code",
   "execution_count": 2,
   "id": "eaba3e39-c95a-4282-83e2-3aadf748adca",
   "metadata": {},
   "outputs": [],
   "source": [
    "dataset_definition = {\n",
    "    \"/DYJetsToLL_M-50_TuneCP5_13TeV-amcatnloFXFX-pythia8/RunIISummer20UL18NanoAODv9-106X*/NANOAODSIM\": {\"short_name\": \"ZJets\",\n",
    "                                                                                                   \"metadata\": {\"xsec\": 100.0,\"isMC\":True}},\n",
    "    \"/SingleMuon/Run2018C-UL20*_MiniAODv2_NanoAODv9_GT36*/NANOAOD\": {\"short_name\": \"SingleMuon\", \"metadata\": {\"isMC\":False}}\n",
    "}\n"
   ]
  },
  {
   "cell_type": "markdown",
   "id": "ecb84b02-b85f-4037-a08d-cce001bc35c7",
   "metadata": {},
   "source": [
    "The dataset definition is passed to a `DataDiscoveryCLI` to automatically query rucio and get replicas"
   ]
  },
  {
   "cell_type": "code",
   "execution_count": 11,
   "id": "716a6c0c-ea07-498a-a010-f9e7f87ba3a3",
   "metadata": {},
   "outputs": [
    {
     "data": {
      "text/html": [
       "<pre style=\"white-space:pre;overflow-x:auto;line-height:normal;font-family:Menlo,'DejaVu Sans Mono',consolas,'Courier New',monospace\"><span style=\"color: #008000; text-decoration-color: #008000\">⠇</span> Querying rucio for replicas: <span style=\"color: #800000; text-decoration-color: #800000; font-weight: bold\">/SingleMuon/Run2018C-UL2018_MiniAODv2_NanoAODv9_GT36-v1/NANOAOD</span>\n",
       "</pre>\n"
      ],
      "text/plain": [
       "\u001b[32m⠇\u001b[0m Querying rucio for replicas: \u001b[1;31m/SingleMuon/Run2018C-UL2018_MiniAODv2_NanoAODv9_GT36-v1/NANOAOD\u001b[0m\n"
      ]
     },
     "metadata": {},
     "output_type": "display_data"
    },
    {
     "data": {
      "text/html": [
       "<pre style=\"white-space:pre;overflow-x:auto;line-height:normal;font-family:Menlo,'DejaVu Sans Mono',consolas,'Courier New',monospace\"></pre>\n"
      ],
      "text/plain": []
     },
     "metadata": {},
     "output_type": "display_data"
    },
    {
     "data": {
      "text/html": [
       "<pre style=\"white-space:pre;overflow-x:auto;line-height:normal;font-family:Menlo,'DejaVu Sans Mono',consolas,'Courier New',monospace\"><span style=\"color: #008080; text-decoration-color: #008080\">Sites availability for dataset: </span><span style=\"color: #800000; text-decoration-color: #800000\">/SingleMuon/Run2018C-UL2018_MiniAODv2_NanoAODv9_GT36-v1/NANOAOD</span>\n",
       "</pre>\n"
      ],
      "text/plain": [
       "\u001b[36mSites availability for dataset: \u001b[0m\u001b[31m/SingleMuon/Run2018C-UL2018_MiniAODv2_NanoAODv9_GT36-v1/\u001b[0m\u001b[31mNANOAOD\u001b[0m\n"
      ]
     },
     "metadata": {},
     "output_type": "display_data"
    },
    {
     "data": {
      "text/html": [
       "<pre style=\"white-space:pre;overflow-x:auto;line-height:normal;font-family:Menlo,'DejaVu Sans Mono',consolas,'Courier New',monospace\"><span style=\"font-style: italic\">                   Available replicas                   </span>\n",
       "┏━━━━━━━┳━━━━━━━━━━━━━━━━━━━━━┳━━━━━━━━━┳━━━━━━━━━━━━━━┓\n",
       "┃<span style=\"font-weight: bold\"> Index </span>┃<span style=\"font-weight: bold\"> Site                </span>┃<span style=\"font-weight: bold\"> Files   </span>┃<span style=\"font-weight: bold\"> Availability </span>┃\n",
       "┡━━━━━━━╇━━━━━━━━━━━━━━━━━━━━━╇━━━━━━━━━╇━━━━━━━━━━━━━━┩\n",
       "│<span style=\"color: #7f7f7f; text-decoration-color: #7f7f7f\">   0   </span>│<span style=\"color: #7fbfbf; text-decoration-color: #7fbfbf\"> T2_DE_DESY          </span>│<span style=\"color: #bf7fbf; text-decoration-color: #bf7fbf\"> 67 / 67 </span>│<span style=\"color: #7f7f7f; text-decoration-color: #7f7f7f\">    100.0%    </span>│\n",
       "│   1   │<span style=\"color: #008080; text-decoration-color: #008080\"> T3_KR_KISTI         </span>│<span style=\"color: #800080; text-decoration-color: #800080\"> 67 / 67 </span>│    100.0%    │\n",
       "│<span style=\"color: #7f7f7f; text-decoration-color: #7f7f7f\">   2   </span>│<span style=\"color: #7fbfbf; text-decoration-color: #7fbfbf\"> T2_TW_NCHC          </span>│<span style=\"color: #bf7fbf; text-decoration-color: #bf7fbf\"> 67 / 67 </span>│<span style=\"color: #7f7f7f; text-decoration-color: #7f7f7f\">    100.0%    </span>│\n",
       "│   3   │<span style=\"color: #008080; text-decoration-color: #008080\"> T2_BE_IIHE          </span>│<span style=\"color: #800080; text-decoration-color: #800080\"> 67 / 67 </span>│    100.0%    │\n",
       "│<span style=\"color: #7f7f7f; text-decoration-color: #7f7f7f\">   4   </span>│<span style=\"color: #7fbfbf; text-decoration-color: #7fbfbf\"> T2_US_Purdue        </span>│<span style=\"color: #bf7fbf; text-decoration-color: #bf7fbf\"> 67 / 67 </span>│<span style=\"color: #7f7f7f; text-decoration-color: #7f7f7f\">    100.0%    </span>│\n",
       "│   5   │<span style=\"color: #008080; text-decoration-color: #008080\"> T2_ES_CIEMAT        </span>│<span style=\"color: #800080; text-decoration-color: #800080\"> 67 / 67 </span>│    100.0%    │\n",
       "│<span style=\"color: #7f7f7f; text-decoration-color: #7f7f7f\">   6   </span>│<span style=\"color: #7fbfbf; text-decoration-color: #7fbfbf\"> T3_FR_IPNL          </span>│<span style=\"color: #bf7fbf; text-decoration-color: #bf7fbf\"> 67 / 67 </span>│<span style=\"color: #7f7f7f; text-decoration-color: #7f7f7f\">    100.0%    </span>│\n",
       "│   7   │<span style=\"color: #008080; text-decoration-color: #008080\"> T1_US_FNAL_Disk     </span>│<span style=\"color: #800080; text-decoration-color: #800080\"> 61 / 67 </span>│    91.0%     │\n",
       "│<span style=\"color: #7f7f7f; text-decoration-color: #7f7f7f\">   8   </span>│<span style=\"color: #7fbfbf; text-decoration-color: #7fbfbf\"> T2_UK_London_IC     </span>│<span style=\"color: #bf7fbf; text-decoration-color: #bf7fbf\"> 39 / 67 </span>│<span style=\"color: #7f7f7f; text-decoration-color: #7f7f7f\">    58.2%     </span>│\n",
       "│   9   │<span style=\"color: #008080; text-decoration-color: #008080\"> T1_FR_CCIN2P3_Disk  </span>│<span style=\"color: #800080; text-decoration-color: #800080\"> 38 / 67 </span>│    56.7%     │\n",
       "│<span style=\"color: #7f7f7f; text-decoration-color: #7f7f7f\">  10   </span>│<span style=\"color: #7fbfbf; text-decoration-color: #7fbfbf\"> T2_US_Caltech       </span>│<span style=\"color: #bf7fbf; text-decoration-color: #bf7fbf\"> 26 / 67 </span>│<span style=\"color: #7f7f7f; text-decoration-color: #7f7f7f\">    38.8%     </span>│\n",
       "│  11   │<span style=\"color: #008080; text-decoration-color: #008080\"> T2_CH_CERN          </span>│<span style=\"color: #800080; text-decoration-color: #800080\"> 25 / 67 </span>│    37.3%     │\n",
       "│<span style=\"color: #7f7f7f; text-decoration-color: #7f7f7f\">  12   </span>│<span style=\"color: #7fbfbf; text-decoration-color: #7fbfbf\"> T2_DE_RWTH          </span>│<span style=\"color: #bf7fbf; text-decoration-color: #bf7fbf\"> 22 / 67 </span>│<span style=\"color: #7f7f7f; text-decoration-color: #7f7f7f\">    32.8%     </span>│\n",
       "│  13   │<span style=\"color: #008080; text-decoration-color: #008080\"> T1_IT_CNAF_Disk     </span>│<span style=\"color: #800080; text-decoration-color: #800080\"> 20 / 67 </span>│    29.9%     │\n",
       "│<span style=\"color: #7f7f7f; text-decoration-color: #7f7f7f\">  14   </span>│<span style=\"color: #7fbfbf; text-decoration-color: #7fbfbf\"> T2_US_Wisconsin     </span>│<span style=\"color: #bf7fbf; text-decoration-color: #bf7fbf\"> 16 / 67 </span>│<span style=\"color: #7f7f7f; text-decoration-color: #7f7f7f\">    23.9%     </span>│\n",
       "│  15   │<span style=\"color: #008080; text-decoration-color: #008080\"> T2_US_Florida       </span>│<span style=\"color: #800080; text-decoration-color: #800080\"> 16 / 67 </span>│    23.9%     │\n",
       "│<span style=\"color: #7f7f7f; text-decoration-color: #7f7f7f\">  16   </span>│<span style=\"color: #7fbfbf; text-decoration-color: #7fbfbf\"> T2_US_Nebraska      </span>│<span style=\"color: #bf7fbf; text-decoration-color: #bf7fbf\"> 13 / 67 </span>│<span style=\"color: #7f7f7f; text-decoration-color: #7f7f7f\">    19.4%     </span>│\n",
       "│  17   │<span style=\"color: #008080; text-decoration-color: #008080\"> T2_TR_METU          </span>│<span style=\"color: #800080; text-decoration-color: #800080\"> 11 / 67 </span>│    16.4%     │\n",
       "│<span style=\"color: #7f7f7f; text-decoration-color: #7f7f7f\">  18   </span>│<span style=\"color: #7fbfbf; text-decoration-color: #7fbfbf\"> T1_DE_KIT_Disk      </span>│<span style=\"color: #bf7fbf; text-decoration-color: #bf7fbf\"> 11 / 67 </span>│<span style=\"color: #7f7f7f; text-decoration-color: #7f7f7f\">    16.4%     </span>│\n",
       "│  19   │<span style=\"color: #008080; text-decoration-color: #008080\"> T2_UK_SGrid_RALPP   </span>│<span style=\"color: #800080; text-decoration-color: #800080\"> 6 / 67  </span>│     9.0%     │\n",
       "│<span style=\"color: #7f7f7f; text-decoration-color: #7f7f7f\">  20   </span>│<span style=\"color: #7fbfbf; text-decoration-color: #7fbfbf\"> T2_IT_Legnaro       </span>│<span style=\"color: #bf7fbf; text-decoration-color: #bf7fbf\"> 6 / 67  </span>│<span style=\"color: #7f7f7f; text-decoration-color: #7f7f7f\">     9.0%     </span>│\n",
       "│  21   │<span style=\"color: #008080; text-decoration-color: #008080\"> T2_ES_IFCA          </span>│<span style=\"color: #800080; text-decoration-color: #800080\"> 4 / 67  </span>│     6.0%     │\n",
       "│<span style=\"color: #7f7f7f; text-decoration-color: #7f7f7f\">  22   </span>│<span style=\"color: #7fbfbf; text-decoration-color: #7fbfbf\"> T2_FR_IPHC          </span>│<span style=\"color: #bf7fbf; text-decoration-color: #bf7fbf\"> 2 / 67  </span>│<span style=\"color: #7f7f7f; text-decoration-color: #7f7f7f\">     3.0%     </span>│\n",
       "│  23   │<span style=\"color: #008080; text-decoration-color: #008080\"> T2_UK_London_Brunel </span>│<span style=\"color: #800080; text-decoration-color: #800080\"> 1 / 67  </span>│     1.5%     │\n",
       "└───────┴─────────────────────┴─────────┴──────────────┘\n",
       "</pre>\n"
      ],
      "text/plain": [
       "\u001b[3m                   Available replicas                   \u001b[0m\n",
       "┏━━━━━━━┳━━━━━━━━━━━━━━━━━━━━━┳━━━━━━━━━┳━━━━━━━━━━━━━━┓\n",
       "┃\u001b[1m \u001b[0m\u001b[1mIndex\u001b[0m\u001b[1m \u001b[0m┃\u001b[1m \u001b[0m\u001b[1mSite               \u001b[0m\u001b[1m \u001b[0m┃\u001b[1m \u001b[0m\u001b[1mFiles  \u001b[0m\u001b[1m \u001b[0m┃\u001b[1m \u001b[0m\u001b[1mAvailability\u001b[0m\u001b[1m \u001b[0m┃\n",
       "┡━━━━━━━╇━━━━━━━━━━━━━━━━━━━━━╇━━━━━━━━━╇━━━━━━━━━━━━━━┩\n",
       "│\u001b[2m \u001b[0m\u001b[2m  0  \u001b[0m\u001b[2m \u001b[0m│\u001b[2;36m \u001b[0m\u001b[2;36mT2_DE_DESY         \u001b[0m\u001b[2;36m \u001b[0m│\u001b[2;35m \u001b[0m\u001b[2;35m67 / 67\u001b[0m\u001b[2;35m \u001b[0m│\u001b[2m \u001b[0m\u001b[2m   100.0%   \u001b[0m\u001b[2m \u001b[0m│\n",
       "│   1   │\u001b[36m \u001b[0m\u001b[36mT3_KR_KISTI        \u001b[0m\u001b[36m \u001b[0m│\u001b[35m \u001b[0m\u001b[35m67 / 67\u001b[0m\u001b[35m \u001b[0m│    100.0%    │\n",
       "│\u001b[2m \u001b[0m\u001b[2m  2  \u001b[0m\u001b[2m \u001b[0m│\u001b[2;36m \u001b[0m\u001b[2;36mT2_TW_NCHC         \u001b[0m\u001b[2;36m \u001b[0m│\u001b[2;35m \u001b[0m\u001b[2;35m67 / 67\u001b[0m\u001b[2;35m \u001b[0m│\u001b[2m \u001b[0m\u001b[2m   100.0%   \u001b[0m\u001b[2m \u001b[0m│\n",
       "│   3   │\u001b[36m \u001b[0m\u001b[36mT2_BE_IIHE         \u001b[0m\u001b[36m \u001b[0m│\u001b[35m \u001b[0m\u001b[35m67 / 67\u001b[0m\u001b[35m \u001b[0m│    100.0%    │\n",
       "│\u001b[2m \u001b[0m\u001b[2m  4  \u001b[0m\u001b[2m \u001b[0m│\u001b[2;36m \u001b[0m\u001b[2;36mT2_US_Purdue       \u001b[0m\u001b[2;36m \u001b[0m│\u001b[2;35m \u001b[0m\u001b[2;35m67 / 67\u001b[0m\u001b[2;35m \u001b[0m│\u001b[2m \u001b[0m\u001b[2m   100.0%   \u001b[0m\u001b[2m \u001b[0m│\n",
       "│   5   │\u001b[36m \u001b[0m\u001b[36mT2_ES_CIEMAT       \u001b[0m\u001b[36m \u001b[0m│\u001b[35m \u001b[0m\u001b[35m67 / 67\u001b[0m\u001b[35m \u001b[0m│    100.0%    │\n",
       "│\u001b[2m \u001b[0m\u001b[2m  6  \u001b[0m\u001b[2m \u001b[0m│\u001b[2;36m \u001b[0m\u001b[2;36mT3_FR_IPNL         \u001b[0m\u001b[2;36m \u001b[0m│\u001b[2;35m \u001b[0m\u001b[2;35m67 / 67\u001b[0m\u001b[2;35m \u001b[0m│\u001b[2m \u001b[0m\u001b[2m   100.0%   \u001b[0m\u001b[2m \u001b[0m│\n",
       "│   7   │\u001b[36m \u001b[0m\u001b[36mT1_US_FNAL_Disk    \u001b[0m\u001b[36m \u001b[0m│\u001b[35m \u001b[0m\u001b[35m61 / 67\u001b[0m\u001b[35m \u001b[0m│    91.0%     │\n",
       "│\u001b[2m \u001b[0m\u001b[2m  8  \u001b[0m\u001b[2m \u001b[0m│\u001b[2;36m \u001b[0m\u001b[2;36mT2_UK_London_IC    \u001b[0m\u001b[2;36m \u001b[0m│\u001b[2;35m \u001b[0m\u001b[2;35m39 / 67\u001b[0m\u001b[2;35m \u001b[0m│\u001b[2m \u001b[0m\u001b[2m   58.2%    \u001b[0m\u001b[2m \u001b[0m│\n",
       "│   9   │\u001b[36m \u001b[0m\u001b[36mT1_FR_CCIN2P3_Disk \u001b[0m\u001b[36m \u001b[0m│\u001b[35m \u001b[0m\u001b[35m38 / 67\u001b[0m\u001b[35m \u001b[0m│    56.7%     │\n",
       "│\u001b[2m \u001b[0m\u001b[2m 10  \u001b[0m\u001b[2m \u001b[0m│\u001b[2;36m \u001b[0m\u001b[2;36mT2_US_Caltech      \u001b[0m\u001b[2;36m \u001b[0m│\u001b[2;35m \u001b[0m\u001b[2;35m26 / 67\u001b[0m\u001b[2;35m \u001b[0m│\u001b[2m \u001b[0m\u001b[2m   38.8%    \u001b[0m\u001b[2m \u001b[0m│\n",
       "│  11   │\u001b[36m \u001b[0m\u001b[36mT2_CH_CERN         \u001b[0m\u001b[36m \u001b[0m│\u001b[35m \u001b[0m\u001b[35m25 / 67\u001b[0m\u001b[35m \u001b[0m│    37.3%     │\n",
       "│\u001b[2m \u001b[0m\u001b[2m 12  \u001b[0m\u001b[2m \u001b[0m│\u001b[2;36m \u001b[0m\u001b[2;36mT2_DE_RWTH         \u001b[0m\u001b[2;36m \u001b[0m│\u001b[2;35m \u001b[0m\u001b[2;35m22 / 67\u001b[0m\u001b[2;35m \u001b[0m│\u001b[2m \u001b[0m\u001b[2m   32.8%    \u001b[0m\u001b[2m \u001b[0m│\n",
       "│  13   │\u001b[36m \u001b[0m\u001b[36mT1_IT_CNAF_Disk    \u001b[0m\u001b[36m \u001b[0m│\u001b[35m \u001b[0m\u001b[35m20 / 67\u001b[0m\u001b[35m \u001b[0m│    29.9%     │\n",
       "│\u001b[2m \u001b[0m\u001b[2m 14  \u001b[0m\u001b[2m \u001b[0m│\u001b[2;36m \u001b[0m\u001b[2;36mT2_US_Wisconsin    \u001b[0m\u001b[2;36m \u001b[0m│\u001b[2;35m \u001b[0m\u001b[2;35m16 / 67\u001b[0m\u001b[2;35m \u001b[0m│\u001b[2m \u001b[0m\u001b[2m   23.9%    \u001b[0m\u001b[2m \u001b[0m│\n",
       "│  15   │\u001b[36m \u001b[0m\u001b[36mT2_US_Florida      \u001b[0m\u001b[36m \u001b[0m│\u001b[35m \u001b[0m\u001b[35m16 / 67\u001b[0m\u001b[35m \u001b[0m│    23.9%     │\n",
       "│\u001b[2m \u001b[0m\u001b[2m 16  \u001b[0m\u001b[2m \u001b[0m│\u001b[2;36m \u001b[0m\u001b[2;36mT2_US_Nebraska     \u001b[0m\u001b[2;36m \u001b[0m│\u001b[2;35m \u001b[0m\u001b[2;35m13 / 67\u001b[0m\u001b[2;35m \u001b[0m│\u001b[2m \u001b[0m\u001b[2m   19.4%    \u001b[0m\u001b[2m \u001b[0m│\n",
       "│  17   │\u001b[36m \u001b[0m\u001b[36mT2_TR_METU         \u001b[0m\u001b[36m \u001b[0m│\u001b[35m \u001b[0m\u001b[35m11 / 67\u001b[0m\u001b[35m \u001b[0m│    16.4%     │\n",
       "│\u001b[2m \u001b[0m\u001b[2m 18  \u001b[0m\u001b[2m \u001b[0m│\u001b[2;36m \u001b[0m\u001b[2;36mT1_DE_KIT_Disk     \u001b[0m\u001b[2;36m \u001b[0m│\u001b[2;35m \u001b[0m\u001b[2;35m11 / 67\u001b[0m\u001b[2;35m \u001b[0m│\u001b[2m \u001b[0m\u001b[2m   16.4%    \u001b[0m\u001b[2m \u001b[0m│\n",
       "│  19   │\u001b[36m \u001b[0m\u001b[36mT2_UK_SGrid_RALPP  \u001b[0m\u001b[36m \u001b[0m│\u001b[35m \u001b[0m\u001b[35m6 / 67 \u001b[0m\u001b[35m \u001b[0m│     9.0%     │\n",
       "│\u001b[2m \u001b[0m\u001b[2m 20  \u001b[0m\u001b[2m \u001b[0m│\u001b[2;36m \u001b[0m\u001b[2;36mT2_IT_Legnaro      \u001b[0m\u001b[2;36m \u001b[0m│\u001b[2;35m \u001b[0m\u001b[2;35m6 / 67 \u001b[0m\u001b[2;35m \u001b[0m│\u001b[2m \u001b[0m\u001b[2m    9.0%    \u001b[0m\u001b[2m \u001b[0m│\n",
       "│  21   │\u001b[36m \u001b[0m\u001b[36mT2_ES_IFCA         \u001b[0m\u001b[36m \u001b[0m│\u001b[35m \u001b[0m\u001b[35m4 / 67 \u001b[0m\u001b[35m \u001b[0m│     6.0%     │\n",
       "│\u001b[2m \u001b[0m\u001b[2m 22  \u001b[0m\u001b[2m \u001b[0m│\u001b[2;36m \u001b[0m\u001b[2;36mT2_FR_IPHC         \u001b[0m\u001b[2;36m \u001b[0m│\u001b[2;35m \u001b[0m\u001b[2;35m2 / 67 \u001b[0m\u001b[2;35m \u001b[0m│\u001b[2m \u001b[0m\u001b[2m    3.0%    \u001b[0m\u001b[2m \u001b[0m│\n",
       "│  23   │\u001b[36m \u001b[0m\u001b[36mT2_UK_London_Brunel\u001b[0m\u001b[36m \u001b[0m│\u001b[35m \u001b[0m\u001b[35m1 / 67 \u001b[0m\u001b[35m \u001b[0m│     1.5%     │\n",
       "└───────┴─────────────────────┴─────────┴──────────────┘\n"
      ]
     },
     "metadata": {},
     "output_type": "display_data"
    },
    {
     "data": {
      "text/html": [
       "<pre style=\"white-space:pre;overflow-x:auto;line-height:normal;font-family:Menlo,'DejaVu Sans Mono',consolas,'Courier New',monospace\">Replicas for <span style=\"color: #008000; text-decoration-color: #008000\">/SingleMuon/Run2018C-UL2018_MiniAODv2_NanoAODv9_GT36-v1/NANOAOD</span>\n",
       "├── <span style=\"color: #008000; text-decoration-color: #008000\">T2_DE_DESY</span>\n",
       "│   ├── <span style=\"color: #008080; text-decoration-color: #008080\">root://dcache-cms-xrootd.desy.de:1094//store/data/Run2018C/SingleMuon/NANOAOD/UL2018_MiniAODv2_NanoAODv9_GT</span>\n",
       "│   │   <span style=\"color: #008080; text-decoration-color: #008080\">36-v1/2520000/0144EC47-BFA3-EA43-BF05-BD4248ED6031.root</span>\n",
       "│   ├── <span style=\"color: #008080; text-decoration-color: #008080\">root://dcache-cms-xrootd.desy.de:1094//store/data/Run2018C/SingleMuon/NANOAOD/UL2018_MiniAODv2_NanoAODv9_GT</span>\n",
       "│   │   <span style=\"color: #008080; text-decoration-color: #008080\">36-v1/2520000/2747DEFE-A247-1F42-B0EF-E7B7F1D3FCD6.root</span>\n",
       "│   ├── <span style=\"color: #008080; text-decoration-color: #008080\">root://dcache-cms-xrootd.desy.de:1094//store/data/Run2018C/SingleMuon/NANOAOD/UL2018_MiniAODv2_NanoAODv9_GT</span>\n",
       "│   │   <span style=\"color: #008080; text-decoration-color: #008080\">36-v1/2520000/2DA9130E-8423-304C-9902-1E42CD72E658.root</span>\n",
       "│   ├── <span style=\"color: #008080; text-decoration-color: #008080\">root://dcache-cms-xrootd.desy.de:1094//store/data/Run2018C/SingleMuon/NANOAOD/UL2018_MiniAODv2_NanoAODv9_GT</span>\n",
       "│   │   <span style=\"color: #008080; text-decoration-color: #008080\">36-v1/2520000/63047CC0-38C6-F74C-9A00-0DF9050F7CF1.root</span>\n",
       "│   └── <span style=\"color: #008080; text-decoration-color: #008080\">root://dcache-cms-xrootd.desy.de:1094//store/data/Run2018C/SingleMuon/NANOAOD/UL2018_MiniAODv2_NanoAODv9_GT</span>\n",
       "│       <span style=\"color: #008080; text-decoration-color: #008080\">36-v1/2520000/8369B0EA-E4CC-AC4D-BD3F-0679B3310E09.root</span>\n",
       "├── <span style=\"color: #008000; text-decoration-color: #008000\">T3_KR_KISTI</span>\n",
       "│   ├── <span style=\"color: #008080; text-decoration-color: #008080\">root://cms-xrdr.sdfarm.kr:1094//xrd//store/data/Run2018C/SingleMuon/NANOAOD/UL2018_MiniAODv2_NanoAODv9_GT36</span>\n",
       "│   │   <span style=\"color: #008080; text-decoration-color: #008080\">-v1/2520000/0C9615C1-7EE6-CD44-8FC0-04F63B2C16FD.root</span>\n",
       "│   ├── <span style=\"color: #008080; text-decoration-color: #008080\">root://cms-xrdr.sdfarm.kr:1094//xrd//store/data/Run2018C/SingleMuon/NANOAOD/UL2018_MiniAODv2_NanoAODv9_GT36</span>\n",
       "│   │   <span style=\"color: #008080; text-decoration-color: #008080\">-v1/2520000/152C304A-97AD-1649-BCB6-3EA0CCD0DD33.root</span>\n",
       "│   ├── <span style=\"color: #008080; text-decoration-color: #008080\">root://cms-xrdr.sdfarm.kr:1094//xrd//store/data/Run2018C/SingleMuon/NANOAOD/UL2018_MiniAODv2_NanoAODv9_GT36</span>\n",
       "│   │   <span style=\"color: #008080; text-decoration-color: #008080\">-v1/2520000/1CEB718A-7DC1-C74A-A7BE-A3C8D9FA785A.root</span>\n",
       "│   ├── <span style=\"color: #008080; text-decoration-color: #008080\">root://cms-xrdr.sdfarm.kr:1094//xrd//store/data/Run2018C/SingleMuon/NANOAOD/UL2018_MiniAODv2_NanoAODv9_GT36</span>\n",
       "│   │   <span style=\"color: #008080; text-decoration-color: #008080\">-v1/2520000/51515E3C-C640-3A4C-A16C-DC267FD142BF.root</span>\n",
       "│   ├── <span style=\"color: #008080; text-decoration-color: #008080\">root://cms-xrdr.sdfarm.kr:1094//xrd//store/data/Run2018C/SingleMuon/NANOAOD/UL2018_MiniAODv2_NanoAODv9_GT36</span>\n",
       "│   │   <span style=\"color: #008080; text-decoration-color: #008080\">-v1/2520000/7DEA3718-B7BC-EE42-A8BE-11C62BB8536D.root</span>\n",
       "│   ├── <span style=\"color: #008080; text-decoration-color: #008080\">root://cms-xrdr.sdfarm.kr:1094//xrd//store/data/Run2018C/SingleMuon/NANOAOD/UL2018_MiniAODv2_NanoAODv9_GT36</span>\n",
       "│   │   <span style=\"color: #008080; text-decoration-color: #008080\">-v1/2520000/81CEA7BA-9E66-BC4F-A96F-32642D59B653.root</span>\n",
       "│   └── <span style=\"color: #008080; text-decoration-color: #008080\">root://cms-xrdr.sdfarm.kr:1094//xrd//store/data/Run2018C/SingleMuon/NANOAOD/UL2018_MiniAODv2_NanoAODv9_GT36</span>\n",
       "│       <span style=\"color: #008080; text-decoration-color: #008080\">-v1/2520000/C4F476DA-3D00-334B-867C-7E12F94EE3AB.root</span>\n",
       "├── <span style=\"color: #008000; text-decoration-color: #008000\">T2_ES_CIEMAT</span>\n",
       "│   ├── <span style=\"color: #008080; text-decoration-color: #008080\">root://gaexrdoor.ciemat.es:1094///store/data/Run2018C/SingleMuon/NANOAOD/UL2018_MiniAODv2_NanoAODv9_GT36-v1</span>\n",
       "│   │   <span style=\"color: #008080; text-decoration-color: #008080\">/2520000/12FAE9F1-7139-924C-A8DE-9699A00FC994.root</span>\n",
       "│   ├── <span style=\"color: #008080; text-decoration-color: #008080\">root://gaexrdoor.ciemat.es:1094///store/data/Run2018C/SingleMuon/NANOAOD/UL2018_MiniAODv2_NanoAODv9_GT36-v1</span>\n",
       "│   │   <span style=\"color: #008080; text-decoration-color: #008080\">/2520000/1DD0FAC6-3087-E44E-ABCB-8AF812C1310D.root</span>\n",
       "│   ├── <span style=\"color: #008080; text-decoration-color: #008080\">root://gaexrdoor.ciemat.es:1094///store/data/Run2018C/SingleMuon/NANOAOD/UL2018_MiniAODv2_NanoAODv9_GT36-v1</span>\n",
       "│   │   <span style=\"color: #008080; text-decoration-color: #008080\">/2520000/3FE5B677-9AB3-0245-A1CF-4B320592F18F.root</span>\n",
       "│   ├── <span style=\"color: #008080; text-decoration-color: #008080\">root://gaexrdoor.ciemat.es:1094///store/data/Run2018C/SingleMuon/NANOAOD/UL2018_MiniAODv2_NanoAODv9_GT36-v1</span>\n",
       "│   │   <span style=\"color: #008080; text-decoration-color: #008080\">/2520000/74A75B73-E5B8-C942-BBC9-1DDDD7F752FB.root</span>\n",
       "│   ├── <span style=\"color: #008080; text-decoration-color: #008080\">root://gaexrdoor.ciemat.es:1094///store/data/Run2018C/SingleMuon/NANOAOD/UL2018_MiniAODv2_NanoAODv9_GT36-v1</span>\n",
       "│   │   <span style=\"color: #008080; text-decoration-color: #008080\">/2520000/8C8690F8-4FEE-1047-85F4-29E414B3D12C.root</span>\n",
       "│   └── <span style=\"color: #008080; text-decoration-color: #008080\">root://gaexrdoor.ciemat.es:1094///store/data/Run2018C/SingleMuon/NANOAOD/UL2018_MiniAODv2_NanoAODv9_GT36-v1</span>\n",
       "│       <span style=\"color: #008080; text-decoration-color: #008080\">/2520000/DA47C0B6-BCAB-C54C-A6BF-B0A64E88E3D4.root</span>\n",
       "├── <span style=\"color: #008000; text-decoration-color: #008000\">T1_FR_CCIN2P3_Disk</span>\n",
       "│   ├── <span style=\"color: #008080; text-decoration-color: #008080\">root://ccxrdcms.in2p3.fr:1094/pnfs/in2p3.fr/data/cms/disk/data//store/data/Run2018C/SingleMuon/NANOAOD/UL20</span>\n",
       "│   │   <span style=\"color: #008080; text-decoration-color: #008080\">18_MiniAODv2_NanoAODv9_GT36-v1/2520000/26FC8C40-EA29-804C-B17D-84FB1C6BC505.root</span>\n",
       "│   ├── <span style=\"color: #008080; text-decoration-color: #008080\">root://ccxrdcms.in2p3.fr:1094/pnfs/in2p3.fr/data/cms/disk/data//store/data/Run2018C/SingleMuon/NANOAOD/UL20</span>\n",
       "│   │   <span style=\"color: #008080; text-decoration-color: #008080\">18_MiniAODv2_NanoAODv9_GT36-v1/2520000/2D58C3FE-512A-1F48-9AEB-6F80379B8F4A.root</span>\n",
       "│   ├── <span style=\"color: #008080; text-decoration-color: #008080\">root://ccxrdcms.in2p3.fr:1094/pnfs/in2p3.fr/data/cms/disk/data//store/data/Run2018C/SingleMuon/NANOAOD/UL20</span>\n",
       "│   │   <span style=\"color: #008080; text-decoration-color: #008080\">18_MiniAODv2_NanoAODv9_GT36-v1/2520000/30A3A1AB-2F27-C84E-9437-6BB3881F6856.root</span>\n",
       "│   └── <span style=\"color: #008080; text-decoration-color: #008080\">root://ccxrdcms.in2p3.fr:1094/pnfs/in2p3.fr/data/cms/disk/data//store/data/Run2018C/SingleMuon/NANOAOD/UL20</span>\n",
       "│       <span style=\"color: #008080; text-decoration-color: #008080\">18_MiniAODv2_NanoAODv9_GT36-v1/2520000/A350E2E4-705C-2C4D-9B11-3436056EEBE7.root</span>\n",
       "├── <span style=\"color: #008000; text-decoration-color: #008000\">T2_BE_IIHE</span>\n",
       "│   ├── <span style=\"color: #008080; text-decoration-color: #008080\">root://maite.iihe.ac.be:1095//store/data/Run2018C/SingleMuon/NANOAOD/UL2018_MiniAODv2_NanoAODv9_GT36-v1/252</span>\n",
       "│   │   <span style=\"color: #008080; text-decoration-color: #008080\">0000/365F32F6-F971-1B4D-8E9D-C0ACD74FFB03.root</span>\n",
       "│   ├── <span style=\"color: #008080; text-decoration-color: #008080\">root://maite.iihe.ac.be:1095//store/data/Run2018C/SingleMuon/NANOAOD/UL2018_MiniAODv2_NanoAODv9_GT36-v1/252</span>\n",
       "│   │   <span style=\"color: #008080; text-decoration-color: #008080\">0000/410C32AB-DEB5-404F-BC6B-92E8F560563F.root</span>\n",
       "│   ├── <span style=\"color: #008080; text-decoration-color: #008080\">root://maite.iihe.ac.be:1095//store/data/Run2018C/SingleMuon/NANOAOD/UL2018_MiniAODv2_NanoAODv9_GT36-v1/252</span>\n",
       "│   │   <span style=\"color: #008080; text-decoration-color: #008080\">0000/6809B5E3-6DE6-1541-AE4C-E1804C877EDE.root</span>\n",
       "│   ├── <span style=\"color: #008080; text-decoration-color: #008080\">root://maite.iihe.ac.be:1095//store/data/Run2018C/SingleMuon/NANOAOD/UL2018_MiniAODv2_NanoAODv9_GT36-v1/252</span>\n",
       "│   │   <span style=\"color: #008080; text-decoration-color: #008080\">0000/78AC6A39-C303-EB44-9264-71819CC70FCC.root</span>\n",
       "│   └── <span style=\"color: #008080; text-decoration-color: #008080\">root://maite.iihe.ac.be:1095//store/data/Run2018C/SingleMuon/NANOAOD/UL2018_MiniAODv2_NanoAODv9_GT36-v1/252</span>\n",
       "│       <span style=\"color: #008080; text-decoration-color: #008080\">0000/7CCCB2C3-F210-2C42-85DF-AA00293FACFB.root</span>\n",
       "├── <span style=\"color: #008000; text-decoration-color: #008000\">T2_US_Purdue</span>\n",
       "│   ├── <span style=\"color: #008080; text-decoration-color: #008080\">root://eos.cms.rcac.purdue.edu///store/data/Run2018C/SingleMuon/NANOAOD/UL2018_MiniAODv2_NanoAODv9_GT36-v1/</span>\n",
       "│   │   <span style=\"color: #008080; text-decoration-color: #008080\">2520000/37312354-59AB-E44B-BC94-CF424D4B7DDB.root</span>\n",
       "│   ├── <span style=\"color: #008080; text-decoration-color: #008080\">root://eos.cms.rcac.purdue.edu///store/data/Run2018C/SingleMuon/NANOAOD/UL2018_MiniAODv2_NanoAODv9_GT36-v1/</span>\n",
       "│   │   <span style=\"color: #008080; text-decoration-color: #008080\">2520000/42DC0F42-82E8-BE47-B04D-544B67274829.root</span>\n",
       "│   ├── <span style=\"color: #008080; text-decoration-color: #008080\">root://eos.cms.rcac.purdue.edu///store/data/Run2018C/SingleMuon/NANOAOD/UL2018_MiniAODv2_NanoAODv9_GT36-v1/</span>\n",
       "│   │   <span style=\"color: #008080; text-decoration-color: #008080\">2520000/D7875684-9F26-084E-9B2B-5E9BB5D353E8.root</span>\n",
       "│   ├── <span style=\"color: #008080; text-decoration-color: #008080\">root://eos.cms.rcac.purdue.edu///store/data/Run2018C/SingleMuon/NANOAOD/UL2018_MiniAODv2_NanoAODv9_GT36-v1/</span>\n",
       "│   │   <span style=\"color: #008080; text-decoration-color: #008080\">2520000/FAF0C67B-A8B4-8A4F-83B1-E43675CE9630.root</span>\n",
       "│   └── <span style=\"color: #008080; text-decoration-color: #008080\">root://eos.cms.rcac.purdue.edu///store/data/Run2018C/SingleMuon/NANOAOD/UL2018_MiniAODv2_NanoAODv9_GT36-v1/</span>\n",
       "│       <span style=\"color: #008080; text-decoration-color: #008080\">2520000/FE5EEFA5-C07A-5C44-B66D-5B31BE02C7D3.root</span>\n",
       "├── <span style=\"color: #008000; text-decoration-color: #008000\">T2_US_Wisconsin</span>\n",
       "│   ├── <span style=\"color: #008080; text-decoration-color: #008080\">root://cmsxrootd.hep.wisc.edu:1094///store/data/Run2018C/SingleMuon/NANOAOD/UL2018_MiniAODv2_NanoAODv9_GT36</span>\n",
       "│   │   <span style=\"color: #008080; text-decoration-color: #008080\">-v1/2520000/39D52C69-2035-A24B-A413-40976993651D.root</span>\n",
       "│   └── <span style=\"color: #008080; text-decoration-color: #008080\">root://cmsxrootd.hep.wisc.edu:1094///store/data/Run2018C/SingleMuon/NANOAOD/UL2018_MiniAODv2_NanoAODv9_GT36</span>\n",
       "│       <span style=\"color: #008080; text-decoration-color: #008080\">-v1/2520000/FCAF4145-8E3F-2142-BDCB-5E276523B592.root</span>\n",
       "├── <span style=\"color: #008000; text-decoration-color: #008000\">T2_TW_NCHC</span>\n",
       "│   ├── <span style=\"color: #008080; text-decoration-color: #008080\">root://se01.grid.nchc.org.tw//cms//store/data/Run2018C/SingleMuon/NANOAOD/UL2018_MiniAODv2_NanoAODv9_GT36-v</span>\n",
       "│   │   <span style=\"color: #008080; text-decoration-color: #008080\">1/2520000/459261DD-4441-6047-9FF2-1EDE468452C9.root</span>\n",
       "│   ├── <span style=\"color: #008080; text-decoration-color: #008080\">root://se01.grid.nchc.org.tw//cms//store/data/Run2018C/SingleMuon/NANOAOD/UL2018_MiniAODv2_NanoAODv9_GT36-v</span>\n",
       "│   │   <span style=\"color: #008080; text-decoration-color: #008080\">1/2520000/6DDF448B-4605-5C41-9711-1C73EC5F01D3.root</span>\n",
       "│   ├── <span style=\"color: #008080; text-decoration-color: #008080\">root://se01.grid.nchc.org.tw//cms//store/data/Run2018C/SingleMuon/NANOAOD/UL2018_MiniAODv2_NanoAODv9_GT36-v</span>\n",
       "│   │   <span style=\"color: #008080; text-decoration-color: #008080\">1/2520000/7B14228A-5331-DF4E-B677-7B8AA281D460.root</span>\n",
       "│   ├── <span style=\"color: #008080; text-decoration-color: #008080\">root://se01.grid.nchc.org.tw//cms//store/data/Run2018C/SingleMuon/NANOAOD/UL2018_MiniAODv2_NanoAODv9_GT36-v</span>\n",
       "│   │   <span style=\"color: #008080; text-decoration-color: #008080\">1/2520000/7B181B92-AA2C-1E44-86FE-B074D359BBB3.root</span>\n",
       "│   ├── <span style=\"color: #008080; text-decoration-color: #008080\">root://se01.grid.nchc.org.tw//cms//store/data/Run2018C/SingleMuon/NANOAOD/UL2018_MiniAODv2_NanoAODv9_GT36-v</span>\n",
       "│   │   <span style=\"color: #008080; text-decoration-color: #008080\">1/2520000/8223C4A3-D4BD-6A4B-A513-54B6668C7122.root</span>\n",
       "│   ├── <span style=\"color: #008080; text-decoration-color: #008080\">root://se01.grid.nchc.org.tw//cms//store/data/Run2018C/SingleMuon/NANOAOD/UL2018_MiniAODv2_NanoAODv9_GT36-v</span>\n",
       "│   │   <span style=\"color: #008080; text-decoration-color: #008080\">1/2520000/A74EFE57-BAD2-C143-B8DC-817CE4F96FD7.root</span>\n",
       "│   ├── <span style=\"color: #008080; text-decoration-color: #008080\">root://se01.grid.nchc.org.tw//cms//store/data/Run2018C/SingleMuon/NANOAOD/UL2018_MiniAODv2_NanoAODv9_GT36-v</span>\n",
       "│   │   <span style=\"color: #008080; text-decoration-color: #008080\">1/2520000/AE014F55-84BE-E84E-B447-0B614070CD17.root</span>\n",
       "│   ├── <span style=\"color: #008080; text-decoration-color: #008080\">root://se01.grid.nchc.org.tw//cms//store/data/Run2018C/SingleMuon/NANOAOD/UL2018_MiniAODv2_NanoAODv9_GT36-v</span>\n",
       "│   │   <span style=\"color: #008080; text-decoration-color: #008080\">1/2520000/BCBF89A2-329C-744B-A38F-139EA8F94007.root</span>\n",
       "│   ├── <span style=\"color: #008080; text-decoration-color: #008080\">root://se01.grid.nchc.org.tw//cms//store/data/Run2018C/SingleMuon/NANOAOD/UL2018_MiniAODv2_NanoAODv9_GT36-v</span>\n",
       "│   │   <span style=\"color: #008080; text-decoration-color: #008080\">1/2520000/D8D41BBC-D514-D342-A514-CCF48575D184.root</span>\n",
       "│   └── <span style=\"color: #008080; text-decoration-color: #008080\">root://se01.grid.nchc.org.tw//cms//store/data/Run2018C/SingleMuon/NANOAOD/UL2018_MiniAODv2_NanoAODv9_GT36-v</span>\n",
       "│       <span style=\"color: #008080; text-decoration-color: #008080\">1/2520000/F1B3977A-E777-EC4D-8FC7-981FE4ED5E0C.root</span>\n",
       "├── <span style=\"color: #008000; text-decoration-color: #008000\">T2_UK_London_IC</span>\n",
       "│   ├── <span style=\"color: #008080; text-decoration-color: #008080\">root://gfe02.grid.hep.ph.ic.ac.uk:1094//pnfs/hep.ph.ic.ac.uk/data/cms//store/data/Run2018C/SingleMuon/NANOA</span>\n",
       "│   │   <span style=\"color: #008080; text-decoration-color: #008080\">OD/UL2018_MiniAODv2_NanoAODv9_GT36-v1/2520000/59DA0585-BD57-CE49-A15E-CDBAC5473EDE.root</span>\n",
       "│   ├── <span style=\"color: #008080; text-decoration-color: #008080\">root://gfe02.grid.hep.ph.ic.ac.uk:1094//pnfs/hep.ph.ic.ac.uk/data/cms//store/data/Run2018C/SingleMuon/NANOA</span>\n",
       "│   │   <span style=\"color: #008080; text-decoration-color: #008080\">OD/UL2018_MiniAODv2_NanoAODv9_GT36-v1/2520000/F16A9138-7563-E540-B6AD-8A8A688B3830.root</span>\n",
       "│   └── <span style=\"color: #008080; text-decoration-color: #008080\">root://gfe02.grid.hep.ph.ic.ac.uk:1094//pnfs/hep.ph.ic.ac.uk/data/cms//store/data/Run2018C/SingleMuon/NANOA</span>\n",
       "│       <span style=\"color: #008080; text-decoration-color: #008080\">OD/UL2018_MiniAODv2_NanoAODv9_GT36-v1/2520000/FE3D79A6-27D4-8948-A89B-2F966C5B29D4.root</span>\n",
       "├── <span style=\"color: #008000; text-decoration-color: #008000\">T1_US_FNAL_Disk</span>\n",
       "│   ├── <span style=\"color: #008080; text-decoration-color: #008080\">root://cmsdcadisk.fnal.gov//dcache/uscmsdisk/store/data/Run2018C/SingleMuon/NANOAOD/UL2018_MiniAODv2_NanoAO</span>\n",
       "│   │   <span style=\"color: #008080; text-decoration-color: #008080\">Dv9_GT36-v1/2520000/62789325-3C0B-FC4D-B578-B41A396399E4.root</span>\n",
       "│   ├── <span style=\"color: #008080; text-decoration-color: #008080\">root://cmsdcadisk.fnal.gov//dcache/uscmsdisk/store/data/Run2018C/SingleMuon/NANOAOD/UL2018_MiniAODv2_NanoAO</span>\n",
       "│   │   <span style=\"color: #008080; text-decoration-color: #008080\">Dv9_GT36-v1/2520000/6EAA5EDB-0DB3-6E40-87DC-7AB582295D29.root</span>\n",
       "│   ├── <span style=\"color: #008080; text-decoration-color: #008080\">root://cmsdcadisk.fnal.gov//dcache/uscmsdisk/store/data/Run2018C/SingleMuon/NANOAOD/UL2018_MiniAODv2_NanoAO</span>\n",
       "│   │   <span style=\"color: #008080; text-decoration-color: #008080\">Dv9_GT36-v1/2520000/A59D511A-A419-714F-8EE1-8B8BAFEC04D5.root</span>\n",
       "│   ├── <span style=\"color: #008080; text-decoration-color: #008080\">root://cmsdcadisk.fnal.gov//dcache/uscmsdisk/store/data/Run2018C/SingleMuon/NANOAOD/UL2018_MiniAODv2_NanoAO</span>\n",
       "│   │   <span style=\"color: #008080; text-decoration-color: #008080\">Dv9_GT36-v1/2520000/B78A9B75-3B32-CF4E-A144-375189CF48AE.root</span>\n",
       "│   ├── <span style=\"color: #008080; text-decoration-color: #008080\">root://cmsdcadisk.fnal.gov//dcache/uscmsdisk/store/data/Run2018C/SingleMuon/NANOAOD/UL2018_MiniAODv2_NanoAO</span>\n",
       "│   │   <span style=\"color: #008080; text-decoration-color: #008080\">Dv9_GT36-v1/2520000/B9E9087C-255C-C24D-A733-FB9291DC7C3C.root</span>\n",
       "│   ├── <span style=\"color: #008080; text-decoration-color: #008080\">root://cmsdcadisk.fnal.gov//dcache/uscmsdisk/store/data/Run2018C/SingleMuon/NANOAOD/UL2018_MiniAODv2_NanoAO</span>\n",
       "│   │   <span style=\"color: #008080; text-decoration-color: #008080\">Dv9_GT36-v1/2520000/CDD2CDF9-72D0-4045-B28F-89002077FB89.root</span>\n",
       "│   └── <span style=\"color: #008080; text-decoration-color: #008080\">root://cmsdcadisk.fnal.gov//dcache/uscmsdisk/store/data/Run2018C/SingleMuon/NANOAOD/UL2018_MiniAODv2_NanoAO</span>\n",
       "│       <span style=\"color: #008080; text-decoration-color: #008080\">Dv9_GT36-v1/2520000/ED95384D-9D3D-AE45-8425-C4C080E691C5.root</span>\n",
       "├── <span style=\"color: #008000; text-decoration-color: #008000\">T1_IT_CNAF_Disk</span>\n",
       "│   └── <span style=\"color: #008080; text-decoration-color: #008080\">root://xrootd-cms.infn.it:1194///store/data/Run2018C/SingleMuon/NANOAOD/UL2018_MiniAODv2_NanoAODv9_GT36-v1/</span>\n",
       "│       <span style=\"color: #008080; text-decoration-color: #008080\">2520000/648ECD9C-8AAA-BB46-8683-C8987CCC73B9.root</span>\n",
       "├── <span style=\"color: #008000; text-decoration-color: #008000\">T2_US_Nebraska</span>\n",
       "│   ├── <span style=\"color: #008080; text-decoration-color: #008080\">root://xrootd-local.unl.edu:1094///store/data/Run2018C/SingleMuon/NANOAOD/UL2018_MiniAODv2_NanoAODv9_GT36-v</span>\n",
       "│   │   <span style=\"color: #008080; text-decoration-color: #008080\">1/2520000/69ABD79C-C684-8244-9F0D-153C6B8C2D9C.root</span>\n",
       "│   ├── <span style=\"color: #008080; text-decoration-color: #008080\">root://xrootd-local.unl.edu:1094///store/data/Run2018C/SingleMuon/NANOAOD/UL2018_MiniAODv2_NanoAODv9_GT36-v</span>\n",
       "│   │   <span style=\"color: #008080; text-decoration-color: #008080\">1/2520000/AB8DD69D-A522-D44C-BB9C-209623F7D41A.root</span>\n",
       "│   └── <span style=\"color: #008080; text-decoration-color: #008080\">root://xrootd-local.unl.edu:1094///store/data/Run2018C/SingleMuon/NANOAOD/UL2018_MiniAODv2_NanoAODv9_GT36-v</span>\n",
       "│       <span style=\"color: #008080; text-decoration-color: #008080\">1/2520000/B3487FE0-B172-AD47-A13A-388C0A9BF93F.root</span>\n",
       "├── <span style=\"color: #008000; text-decoration-color: #008000\">T2_IT_Legnaro</span>\n",
       "│   └── <span style=\"color: #008080; text-decoration-color: #008080\">root://t2-xrdcms.lnl.infn.it:7070///store/data/Run2018C/SingleMuon/NANOAOD/UL2018_MiniAODv2_NanoAODv9_GT36-</span>\n",
       "│       <span style=\"color: #008080; text-decoration-color: #008080\">v1/2520000/B1B449CE-5952-8347-A9A7-35FE231D0C72.root</span>\n",
       "├── <span style=\"color: #008000; text-decoration-color: #008000\">T3_FR_IPNL</span>\n",
       "│   ├── <span style=\"color: #008080; text-decoration-color: #008080\">root://lyogrid06.in2p3.fr//dpm/in2p3.fr/home/cms/data//store/data/Run2018C/SingleMuon/NANOAOD/UL2018_MiniAO</span>\n",
       "│   │   <span style=\"color: #008080; text-decoration-color: #008080\">Dv2_NanoAODv9_GT36-v1/2520000/BA02D468-A8CE-4F49-884F-F836BB481AD5.root</span>\n",
       "│   ├── <span style=\"color: #008080; text-decoration-color: #008080\">root://lyogrid06.in2p3.fr//dpm/in2p3.fr/home/cms/data//store/data/Run2018C/SingleMuon/NANOAOD/UL2018_MiniAO</span>\n",
       "│   │   <span style=\"color: #008080; text-decoration-color: #008080\">Dv2_NanoAODv9_GT36-v1/2520000/BAAA6E00-7AC3-9947-9262-D9833D3A8B19.root</span>\n",
       "│   ├── <span style=\"color: #008080; text-decoration-color: #008080\">root://lyogrid06.in2p3.fr//dpm/in2p3.fr/home/cms/data//store/data/Run2018C/SingleMuon/NANOAOD/UL2018_MiniAO</span>\n",
       "│   │   <span style=\"color: #008080; text-decoration-color: #008080\">Dv2_NanoAODv9_GT36-v1/2520000/CBD43A1E-AE2F-0B4D-A642-29FB2E9EB33B.root</span>\n",
       "│   ├── <span style=\"color: #008080; text-decoration-color: #008080\">root://lyogrid06.in2p3.fr//dpm/in2p3.fr/home/cms/data//store/data/Run2018C/SingleMuon/NANOAOD/UL2018_MiniAO</span>\n",
       "│   │   <span style=\"color: #008080; text-decoration-color: #008080\">Dv2_NanoAODv9_GT36-v1/2520000/ECD4877E-707B-EA43-A38B-D1B700FBDE79.root</span>\n",
       "│   └── <span style=\"color: #008080; text-decoration-color: #008080\">root://lyogrid06.in2p3.fr//dpm/in2p3.fr/home/cms/data//store/data/Run2018C/SingleMuon/NANOAOD/UL2018_MiniAO</span>\n",
       "│       <span style=\"color: #008080; text-decoration-color: #008080\">Dv2_NanoAODv9_GT36-v1/2520000/F09135D8-FCBE-AF40-BCE8-03A529C5C87F.root</span>\n",
       "├── <span style=\"color: #008000; text-decoration-color: #008000\">T2_DE_RWTH</span>\n",
       "│   └── <span style=\"color: #008080; text-decoration-color: #008080\">root://grid-cms-xrootd.physik.rwth-aachen.de:1094///store/data/Run2018C/SingleMuon/NANOAOD/UL2018_MiniAODv2</span>\n",
       "│       <span style=\"color: #008080; text-decoration-color: #008080\">_NanoAODv9_GT36-v1/2520000/D40D1285-B075-D446-B1BF-86A463EF6993.root</span>\n",
       "├── <span style=\"color: #008000; text-decoration-color: #008000\">T2_TR_METU</span>\n",
       "│   └── <span style=\"color: #008080; text-decoration-color: #008080\">root://eymir.grid.metu.edu.tr//dpm/grid.metu.edu.tr/home/cms//store/data/Run2018C/SingleMuon/NANOAOD/UL2018</span>\n",
       "│       <span style=\"color: #008080; text-decoration-color: #008080\">_MiniAODv2_NanoAODv9_GT36-v1/2520000/F34F4F00-3370-EF4D-AF44-39E474E6530F.root</span>\n",
       "└── <span style=\"color: #008000; text-decoration-color: #008000\">T2_US_Florida</span>\n",
       "    └── <span style=\"color: #008080; text-decoration-color: #008080\">root://cmsio2.rc.ufl.edu:1094///store/data/Run2018C/SingleMuon/NANOAOD/UL2018_MiniAODv2_NanoAODv9_GT36-v1/2</span>\n",
       "        <span style=\"color: #008080; text-decoration-color: #008080\">520000/F6E44EA5-F4C6-E746-AD43-7A263F1E316E.root</span>\n",
       "</pre>\n"
      ],
      "text/plain": [
       "Replicas for \u001b[32m/SingleMuon/Run2018C-UL2018_MiniAODv2_NanoAODv9_GT36-v1/NANOAOD\u001b[0m\n",
       "├── \u001b[32mT2_DE_DESY\u001b[0m\n",
       "│   ├── \u001b[36mroot://dcache-cms-xrootd.desy.de:1094//store/data/Run2018C/SingleMuon/NANOAOD/UL2018_MiniAODv2_NanoAODv9_GT\u001b[0m\n",
       "│   │   \u001b[36m36-v1/2520000/0144EC47-BFA3-EA43-BF05-BD4248ED6031.root\u001b[0m\n",
       "│   ├── \u001b[36mroot://dcache-cms-xrootd.desy.de:1094//store/data/Run2018C/SingleMuon/NANOAOD/UL2018_MiniAODv2_NanoAODv9_GT\u001b[0m\n",
       "│   │   \u001b[36m36-v1/2520000/2747DEFE-A247-1F42-B0EF-E7B7F1D3FCD6.root\u001b[0m\n",
       "│   ├── \u001b[36mroot://dcache-cms-xrootd.desy.de:1094//store/data/Run2018C/SingleMuon/NANOAOD/UL2018_MiniAODv2_NanoAODv9_GT\u001b[0m\n",
       "│   │   \u001b[36m36-v1/2520000/2DA9130E-8423-304C-9902-1E42CD72E658.root\u001b[0m\n",
       "│   ├── \u001b[36mroot://dcache-cms-xrootd.desy.de:1094//store/data/Run2018C/SingleMuon/NANOAOD/UL2018_MiniAODv2_NanoAODv9_GT\u001b[0m\n",
       "│   │   \u001b[36m36-v1/2520000/63047CC0-38C6-F74C-9A00-0DF9050F7CF1.root\u001b[0m\n",
       "│   └── \u001b[36mroot://dcache-cms-xrootd.desy.de:1094//store/data/Run2018C/SingleMuon/NANOAOD/UL2018_MiniAODv2_NanoAODv9_GT\u001b[0m\n",
       "│       \u001b[36m36-v1/2520000/8369B0EA-E4CC-AC4D-BD3F-0679B3310E09.root\u001b[0m\n",
       "├── \u001b[32mT3_KR_KISTI\u001b[0m\n",
       "│   ├── \u001b[36mroot://cms-xrdr.sdfarm.kr:1094//xrd//store/data/Run2018C/SingleMuon/NANOAOD/UL2018_MiniAODv2_NanoAODv9_GT36\u001b[0m\n",
       "│   │   \u001b[36m-v1/2520000/0C9615C1-7EE6-CD44-8FC0-04F63B2C16FD.root\u001b[0m\n",
       "│   ├── \u001b[36mroot://cms-xrdr.sdfarm.kr:1094//xrd//store/data/Run2018C/SingleMuon/NANOAOD/UL2018_MiniAODv2_NanoAODv9_GT36\u001b[0m\n",
       "│   │   \u001b[36m-v1/2520000/152C304A-97AD-1649-BCB6-3EA0CCD0DD33.root\u001b[0m\n",
       "│   ├── \u001b[36mroot://cms-xrdr.sdfarm.kr:1094//xrd//store/data/Run2018C/SingleMuon/NANOAOD/UL2018_MiniAODv2_NanoAODv9_GT36\u001b[0m\n",
       "│   │   \u001b[36m-v1/2520000/1CEB718A-7DC1-C74A-A7BE-A3C8D9FA785A.root\u001b[0m\n",
       "│   ├── \u001b[36mroot://cms-xrdr.sdfarm.kr:1094//xrd//store/data/Run2018C/SingleMuon/NANOAOD/UL2018_MiniAODv2_NanoAODv9_GT36\u001b[0m\n",
       "│   │   \u001b[36m-v1/2520000/51515E3C-C640-3A4C-A16C-DC267FD142BF.root\u001b[0m\n",
       "│   ├── \u001b[36mroot://cms-xrdr.sdfarm.kr:1094//xrd//store/data/Run2018C/SingleMuon/NANOAOD/UL2018_MiniAODv2_NanoAODv9_GT36\u001b[0m\n",
       "│   │   \u001b[36m-v1/2520000/7DEA3718-B7BC-EE42-A8BE-11C62BB8536D.root\u001b[0m\n",
       "│   ├── \u001b[36mroot://cms-xrdr.sdfarm.kr:1094//xrd//store/data/Run2018C/SingleMuon/NANOAOD/UL2018_MiniAODv2_NanoAODv9_GT36\u001b[0m\n",
       "│   │   \u001b[36m-v1/2520000/81CEA7BA-9E66-BC4F-A96F-32642D59B653.root\u001b[0m\n",
       "│   └── \u001b[36mroot://cms-xrdr.sdfarm.kr:1094//xrd//store/data/Run2018C/SingleMuon/NANOAOD/UL2018_MiniAODv2_NanoAODv9_GT36\u001b[0m\n",
       "│       \u001b[36m-v1/2520000/C4F476DA-3D00-334B-867C-7E12F94EE3AB.root\u001b[0m\n",
       "├── \u001b[32mT2_ES_CIEMAT\u001b[0m\n",
       "│   ├── \u001b[36mroot://gaexrdoor.ciemat.es:1094///store/data/Run2018C/SingleMuon/NANOAOD/UL2018_MiniAODv2_NanoAODv9_GT36-v1\u001b[0m\n",
       "│   │   \u001b[36m/2520000/12FAE9F1-7139-924C-A8DE-9699A00FC994.root\u001b[0m\n",
       "│   ├── \u001b[36mroot://gaexrdoor.ciemat.es:1094///store/data/Run2018C/SingleMuon/NANOAOD/UL2018_MiniAODv2_NanoAODv9_GT36-v1\u001b[0m\n",
       "│   │   \u001b[36m/2520000/1DD0FAC6-3087-E44E-ABCB-8AF812C1310D.root\u001b[0m\n",
       "│   ├── \u001b[36mroot://gaexrdoor.ciemat.es:1094///store/data/Run2018C/SingleMuon/NANOAOD/UL2018_MiniAODv2_NanoAODv9_GT36-v1\u001b[0m\n",
       "│   │   \u001b[36m/2520000/3FE5B677-9AB3-0245-A1CF-4B320592F18F.root\u001b[0m\n",
       "│   ├── \u001b[36mroot://gaexrdoor.ciemat.es:1094///store/data/Run2018C/SingleMuon/NANOAOD/UL2018_MiniAODv2_NanoAODv9_GT36-v1\u001b[0m\n",
       "│   │   \u001b[36m/2520000/74A75B73-E5B8-C942-BBC9-1DDDD7F752FB.root\u001b[0m\n",
       "│   ├── \u001b[36mroot://gaexrdoor.ciemat.es:1094///store/data/Run2018C/SingleMuon/NANOAOD/UL2018_MiniAODv2_NanoAODv9_GT36-v1\u001b[0m\n",
       "│   │   \u001b[36m/2520000/8C8690F8-4FEE-1047-85F4-29E414B3D12C.root\u001b[0m\n",
       "│   └── \u001b[36mroot://gaexrdoor.ciemat.es:1094///store/data/Run2018C/SingleMuon/NANOAOD/UL2018_MiniAODv2_NanoAODv9_GT36-v1\u001b[0m\n",
       "│       \u001b[36m/2520000/DA47C0B6-BCAB-C54C-A6BF-B0A64E88E3D4.root\u001b[0m\n",
       "├── \u001b[32mT1_FR_CCIN2P3_Disk\u001b[0m\n",
       "│   ├── \u001b[36mroot://ccxrdcms.in2p3.fr:1094/pnfs/in2p3.fr/data/cms/disk/data//store/data/Run2018C/SingleMuon/NANOAOD/UL20\u001b[0m\n",
       "│   │   \u001b[36m18_MiniAODv2_NanoAODv9_GT36-v1/2520000/26FC8C40-EA29-804C-B17D-84FB1C6BC505.root\u001b[0m\n",
       "│   ├── \u001b[36mroot://ccxrdcms.in2p3.fr:1094/pnfs/in2p3.fr/data/cms/disk/data//store/data/Run2018C/SingleMuon/NANOAOD/UL20\u001b[0m\n",
       "│   │   \u001b[36m18_MiniAODv2_NanoAODv9_GT36-v1/2520000/2D58C3FE-512A-1F48-9AEB-6F80379B8F4A.root\u001b[0m\n",
       "│   ├── \u001b[36mroot://ccxrdcms.in2p3.fr:1094/pnfs/in2p3.fr/data/cms/disk/data//store/data/Run2018C/SingleMuon/NANOAOD/UL20\u001b[0m\n",
       "│   │   \u001b[36m18_MiniAODv2_NanoAODv9_GT36-v1/2520000/30A3A1AB-2F27-C84E-9437-6BB3881F6856.root\u001b[0m\n",
       "│   └── \u001b[36mroot://ccxrdcms.in2p3.fr:1094/pnfs/in2p3.fr/data/cms/disk/data//store/data/Run2018C/SingleMuon/NANOAOD/UL20\u001b[0m\n",
       "│       \u001b[36m18_MiniAODv2_NanoAODv9_GT36-v1/2520000/A350E2E4-705C-2C4D-9B11-3436056EEBE7.root\u001b[0m\n",
       "├── \u001b[32mT2_BE_IIHE\u001b[0m\n",
       "│   ├── \u001b[36mroot://maite.iihe.ac.be:1095//store/data/Run2018C/SingleMuon/NANOAOD/UL2018_MiniAODv2_NanoAODv9_GT36-v1/252\u001b[0m\n",
       "│   │   \u001b[36m0000/365F32F6-F971-1B4D-8E9D-C0ACD74FFB03.root\u001b[0m\n",
       "│   ├── \u001b[36mroot://maite.iihe.ac.be:1095//store/data/Run2018C/SingleMuon/NANOAOD/UL2018_MiniAODv2_NanoAODv9_GT36-v1/252\u001b[0m\n",
       "│   │   \u001b[36m0000/410C32AB-DEB5-404F-BC6B-92E8F560563F.root\u001b[0m\n",
       "│   ├── \u001b[36mroot://maite.iihe.ac.be:1095//store/data/Run2018C/SingleMuon/NANOAOD/UL2018_MiniAODv2_NanoAODv9_GT36-v1/252\u001b[0m\n",
       "│   │   \u001b[36m0000/6809B5E3-6DE6-1541-AE4C-E1804C877EDE.root\u001b[0m\n",
       "│   ├── \u001b[36mroot://maite.iihe.ac.be:1095//store/data/Run2018C/SingleMuon/NANOAOD/UL2018_MiniAODv2_NanoAODv9_GT36-v1/252\u001b[0m\n",
       "│   │   \u001b[36m0000/78AC6A39-C303-EB44-9264-71819CC70FCC.root\u001b[0m\n",
       "│   └── \u001b[36mroot://maite.iihe.ac.be:1095//store/data/Run2018C/SingleMuon/NANOAOD/UL2018_MiniAODv2_NanoAODv9_GT36-v1/252\u001b[0m\n",
       "│       \u001b[36m0000/7CCCB2C3-F210-2C42-85DF-AA00293FACFB.root\u001b[0m\n",
       "├── \u001b[32mT2_US_Purdue\u001b[0m\n",
       "│   ├── \u001b[36mroot://eos.cms.rcac.purdue.edu///store/data/Run2018C/SingleMuon/NANOAOD/UL2018_MiniAODv2_NanoAODv9_GT36-v1/\u001b[0m\n",
       "│   │   \u001b[36m2520000/37312354-59AB-E44B-BC94-CF424D4B7DDB.root\u001b[0m\n",
       "│   ├── \u001b[36mroot://eos.cms.rcac.purdue.edu///store/data/Run2018C/SingleMuon/NANOAOD/UL2018_MiniAODv2_NanoAODv9_GT36-v1/\u001b[0m\n",
       "│   │   \u001b[36m2520000/42DC0F42-82E8-BE47-B04D-544B67274829.root\u001b[0m\n",
       "│   ├── \u001b[36mroot://eos.cms.rcac.purdue.edu///store/data/Run2018C/SingleMuon/NANOAOD/UL2018_MiniAODv2_NanoAODv9_GT36-v1/\u001b[0m\n",
       "│   │   \u001b[36m2520000/D7875684-9F26-084E-9B2B-5E9BB5D353E8.root\u001b[0m\n",
       "│   ├── \u001b[36mroot://eos.cms.rcac.purdue.edu///store/data/Run2018C/SingleMuon/NANOAOD/UL2018_MiniAODv2_NanoAODv9_GT36-v1/\u001b[0m\n",
       "│   │   \u001b[36m2520000/FAF0C67B-A8B4-8A4F-83B1-E43675CE9630.root\u001b[0m\n",
       "│   └── \u001b[36mroot://eos.cms.rcac.purdue.edu///store/data/Run2018C/SingleMuon/NANOAOD/UL2018_MiniAODv2_NanoAODv9_GT36-v1/\u001b[0m\n",
       "│       \u001b[36m2520000/FE5EEFA5-C07A-5C44-B66D-5B31BE02C7D3.root\u001b[0m\n",
       "├── \u001b[32mT2_US_Wisconsin\u001b[0m\n",
       "│   ├── \u001b[36mroot://cmsxrootd.hep.wisc.edu:1094///store/data/Run2018C/SingleMuon/NANOAOD/UL2018_MiniAODv2_NanoAODv9_GT36\u001b[0m\n",
       "│   │   \u001b[36m-v1/2520000/39D52C69-2035-A24B-A413-40976993651D.root\u001b[0m\n",
       "│   └── \u001b[36mroot://cmsxrootd.hep.wisc.edu:1094///store/data/Run2018C/SingleMuon/NANOAOD/UL2018_MiniAODv2_NanoAODv9_GT36\u001b[0m\n",
       "│       \u001b[36m-v1/2520000/FCAF4145-8E3F-2142-BDCB-5E276523B592.root\u001b[0m\n",
       "├── \u001b[32mT2_TW_NCHC\u001b[0m\n",
       "│   ├── \u001b[36mroot://se01.grid.nchc.org.tw//cms//store/data/Run2018C/SingleMuon/NANOAOD/UL2018_MiniAODv2_NanoAODv9_GT36-v\u001b[0m\n",
       "│   │   \u001b[36m1/2520000/459261DD-4441-6047-9FF2-1EDE468452C9.root\u001b[0m\n",
       "│   ├── \u001b[36mroot://se01.grid.nchc.org.tw//cms//store/data/Run2018C/SingleMuon/NANOAOD/UL2018_MiniAODv2_NanoAODv9_GT36-v\u001b[0m\n",
       "│   │   \u001b[36m1/2520000/6DDF448B-4605-5C41-9711-1C73EC5F01D3.root\u001b[0m\n",
       "│   ├── \u001b[36mroot://se01.grid.nchc.org.tw//cms//store/data/Run2018C/SingleMuon/NANOAOD/UL2018_MiniAODv2_NanoAODv9_GT36-v\u001b[0m\n",
       "│   │   \u001b[36m1/2520000/7B14228A-5331-DF4E-B677-7B8AA281D460.root\u001b[0m\n",
       "│   ├── \u001b[36mroot://se01.grid.nchc.org.tw//cms//store/data/Run2018C/SingleMuon/NANOAOD/UL2018_MiniAODv2_NanoAODv9_GT36-v\u001b[0m\n",
       "│   │   \u001b[36m1/2520000/7B181B92-AA2C-1E44-86FE-B074D359BBB3.root\u001b[0m\n",
       "│   ├── \u001b[36mroot://se01.grid.nchc.org.tw//cms//store/data/Run2018C/SingleMuon/NANOAOD/UL2018_MiniAODv2_NanoAODv9_GT36-v\u001b[0m\n",
       "│   │   \u001b[36m1/2520000/8223C4A3-D4BD-6A4B-A513-54B6668C7122.root\u001b[0m\n",
       "│   ├── \u001b[36mroot://se01.grid.nchc.org.tw//cms//store/data/Run2018C/SingleMuon/NANOAOD/UL2018_MiniAODv2_NanoAODv9_GT36-v\u001b[0m\n",
       "│   │   \u001b[36m1/2520000/A74EFE57-BAD2-C143-B8DC-817CE4F96FD7.root\u001b[0m\n",
       "│   ├── \u001b[36mroot://se01.grid.nchc.org.tw//cms//store/data/Run2018C/SingleMuon/NANOAOD/UL2018_MiniAODv2_NanoAODv9_GT36-v\u001b[0m\n",
       "│   │   \u001b[36m1/2520000/AE014F55-84BE-E84E-B447-0B614070CD17.root\u001b[0m\n",
       "│   ├── \u001b[36mroot://se01.grid.nchc.org.tw//cms//store/data/Run2018C/SingleMuon/NANOAOD/UL2018_MiniAODv2_NanoAODv9_GT36-v\u001b[0m\n",
       "│   │   \u001b[36m1/2520000/BCBF89A2-329C-744B-A38F-139EA8F94007.root\u001b[0m\n",
       "│   ├── \u001b[36mroot://se01.grid.nchc.org.tw//cms//store/data/Run2018C/SingleMuon/NANOAOD/UL2018_MiniAODv2_NanoAODv9_GT36-v\u001b[0m\n",
       "│   │   \u001b[36m1/2520000/D8D41BBC-D514-D342-A514-CCF48575D184.root\u001b[0m\n",
       "│   └── \u001b[36mroot://se01.grid.nchc.org.tw//cms//store/data/Run2018C/SingleMuon/NANOAOD/UL2018_MiniAODv2_NanoAODv9_GT36-v\u001b[0m\n",
       "│       \u001b[36m1/2520000/F1B3977A-E777-EC4D-8FC7-981FE4ED5E0C.root\u001b[0m\n",
       "├── \u001b[32mT2_UK_London_IC\u001b[0m\n",
       "│   ├── \u001b[36mroot://gfe02.grid.hep.ph.ic.ac.uk:1094//pnfs/hep.ph.ic.ac.uk/data/cms//store/data/Run2018C/SingleMuon/NANOA\u001b[0m\n",
       "│   │   \u001b[36mOD/UL2018_MiniAODv2_NanoAODv9_GT36-v1/2520000/59DA0585-BD57-CE49-A15E-CDBAC5473EDE.root\u001b[0m\n",
       "│   ├── \u001b[36mroot://gfe02.grid.hep.ph.ic.ac.uk:1094//pnfs/hep.ph.ic.ac.uk/data/cms//store/data/Run2018C/SingleMuon/NANOA\u001b[0m\n",
       "│   │   \u001b[36mOD/UL2018_MiniAODv2_NanoAODv9_GT36-v1/2520000/F16A9138-7563-E540-B6AD-8A8A688B3830.root\u001b[0m\n",
       "│   └── \u001b[36mroot://gfe02.grid.hep.ph.ic.ac.uk:1094//pnfs/hep.ph.ic.ac.uk/data/cms//store/data/Run2018C/SingleMuon/NANOA\u001b[0m\n",
       "│       \u001b[36mOD/UL2018_MiniAODv2_NanoAODv9_GT36-v1/2520000/FE3D79A6-27D4-8948-A89B-2F966C5B29D4.root\u001b[0m\n",
       "├── \u001b[32mT1_US_FNAL_Disk\u001b[0m\n",
       "│   ├── \u001b[36mroot://cmsdcadisk.fnal.gov//dcache/uscmsdisk/store/data/Run2018C/SingleMuon/NANOAOD/UL2018_MiniAODv2_NanoAO\u001b[0m\n",
       "│   │   \u001b[36mDv9_GT36-v1/2520000/62789325-3C0B-FC4D-B578-B41A396399E4.root\u001b[0m\n",
       "│   ├── \u001b[36mroot://cmsdcadisk.fnal.gov//dcache/uscmsdisk/store/data/Run2018C/SingleMuon/NANOAOD/UL2018_MiniAODv2_NanoAO\u001b[0m\n",
       "│   │   \u001b[36mDv9_GT36-v1/2520000/6EAA5EDB-0DB3-6E40-87DC-7AB582295D29.root\u001b[0m\n",
       "│   ├── \u001b[36mroot://cmsdcadisk.fnal.gov//dcache/uscmsdisk/store/data/Run2018C/SingleMuon/NANOAOD/UL2018_MiniAODv2_NanoAO\u001b[0m\n",
       "│   │   \u001b[36mDv9_GT36-v1/2520000/A59D511A-A419-714F-8EE1-8B8BAFEC04D5.root\u001b[0m\n",
       "│   ├── \u001b[36mroot://cmsdcadisk.fnal.gov//dcache/uscmsdisk/store/data/Run2018C/SingleMuon/NANOAOD/UL2018_MiniAODv2_NanoAO\u001b[0m\n",
       "│   │   \u001b[36mDv9_GT36-v1/2520000/B78A9B75-3B32-CF4E-A144-375189CF48AE.root\u001b[0m\n",
       "│   ├── \u001b[36mroot://cmsdcadisk.fnal.gov//dcache/uscmsdisk/store/data/Run2018C/SingleMuon/NANOAOD/UL2018_MiniAODv2_NanoAO\u001b[0m\n",
       "│   │   \u001b[36mDv9_GT36-v1/2520000/B9E9087C-255C-C24D-A733-FB9291DC7C3C.root\u001b[0m\n",
       "│   ├── \u001b[36mroot://cmsdcadisk.fnal.gov//dcache/uscmsdisk/store/data/Run2018C/SingleMuon/NANOAOD/UL2018_MiniAODv2_NanoAO\u001b[0m\n",
       "│   │   \u001b[36mDv9_GT36-v1/2520000/CDD2CDF9-72D0-4045-B28F-89002077FB89.root\u001b[0m\n",
       "│   └── \u001b[36mroot://cmsdcadisk.fnal.gov//dcache/uscmsdisk/store/data/Run2018C/SingleMuon/NANOAOD/UL2018_MiniAODv2_NanoAO\u001b[0m\n",
       "│       \u001b[36mDv9_GT36-v1/2520000/ED95384D-9D3D-AE45-8425-C4C080E691C5.root\u001b[0m\n",
       "├── \u001b[32mT1_IT_CNAF_Disk\u001b[0m\n",
       "│   └── \u001b[36mroot://xrootd-cms.infn.it:1194///store/data/Run2018C/SingleMuon/NANOAOD/UL2018_MiniAODv2_NanoAODv9_GT36-v1/\u001b[0m\n",
       "│       \u001b[36m2520000/648ECD9C-8AAA-BB46-8683-C8987CCC73B9.root\u001b[0m\n",
       "├── \u001b[32mT2_US_Nebraska\u001b[0m\n",
       "│   ├── \u001b[36mroot://xrootd-local.unl.edu:1094///store/data/Run2018C/SingleMuon/NANOAOD/UL2018_MiniAODv2_NanoAODv9_GT36-v\u001b[0m\n",
       "│   │   \u001b[36m1/2520000/69ABD79C-C684-8244-9F0D-153C6B8C2D9C.root\u001b[0m\n",
       "│   ├── \u001b[36mroot://xrootd-local.unl.edu:1094///store/data/Run2018C/SingleMuon/NANOAOD/UL2018_MiniAODv2_NanoAODv9_GT36-v\u001b[0m\n",
       "│   │   \u001b[36m1/2520000/AB8DD69D-A522-D44C-BB9C-209623F7D41A.root\u001b[0m\n",
       "│   └── \u001b[36mroot://xrootd-local.unl.edu:1094///store/data/Run2018C/SingleMuon/NANOAOD/UL2018_MiniAODv2_NanoAODv9_GT36-v\u001b[0m\n",
       "│       \u001b[36m1/2520000/B3487FE0-B172-AD47-A13A-388C0A9BF93F.root\u001b[0m\n",
       "├── \u001b[32mT2_IT_Legnaro\u001b[0m\n",
       "│   └── \u001b[36mroot://t2-xrdcms.lnl.infn.it:7070///store/data/Run2018C/SingleMuon/NANOAOD/UL2018_MiniAODv2_NanoAODv9_GT36-\u001b[0m\n",
       "│       \u001b[36mv1/2520000/B1B449CE-5952-8347-A9A7-35FE231D0C72.root\u001b[0m\n",
       "├── \u001b[32mT3_FR_IPNL\u001b[0m\n",
       "│   ├── \u001b[36mroot://lyogrid06.in2p3.fr//dpm/in2p3.fr/home/cms/data//store/data/Run2018C/SingleMuon/NANOAOD/UL2018_MiniAO\u001b[0m\n",
       "│   │   \u001b[36mDv2_NanoAODv9_GT36-v1/2520000/BA02D468-A8CE-4F49-884F-F836BB481AD5.root\u001b[0m\n",
       "│   ├── \u001b[36mroot://lyogrid06.in2p3.fr//dpm/in2p3.fr/home/cms/data//store/data/Run2018C/SingleMuon/NANOAOD/UL2018_MiniAO\u001b[0m\n",
       "│   │   \u001b[36mDv2_NanoAODv9_GT36-v1/2520000/BAAA6E00-7AC3-9947-9262-D9833D3A8B19.root\u001b[0m\n",
       "│   ├── \u001b[36mroot://lyogrid06.in2p3.fr//dpm/in2p3.fr/home/cms/data//store/data/Run2018C/SingleMuon/NANOAOD/UL2018_MiniAO\u001b[0m\n",
       "│   │   \u001b[36mDv2_NanoAODv9_GT36-v1/2520000/CBD43A1E-AE2F-0B4D-A642-29FB2E9EB33B.root\u001b[0m\n",
       "│   ├── \u001b[36mroot://lyogrid06.in2p3.fr//dpm/in2p3.fr/home/cms/data//store/data/Run2018C/SingleMuon/NANOAOD/UL2018_MiniAO\u001b[0m\n",
       "│   │   \u001b[36mDv2_NanoAODv9_GT36-v1/2520000/ECD4877E-707B-EA43-A38B-D1B700FBDE79.root\u001b[0m\n",
       "│   └── \u001b[36mroot://lyogrid06.in2p3.fr//dpm/in2p3.fr/home/cms/data//store/data/Run2018C/SingleMuon/NANOAOD/UL2018_MiniAO\u001b[0m\n",
       "│       \u001b[36mDv2_NanoAODv9_GT36-v1/2520000/F09135D8-FCBE-AF40-BCE8-03A529C5C87F.root\u001b[0m\n",
       "├── \u001b[32mT2_DE_RWTH\u001b[0m\n",
       "│   └── \u001b[36mroot://grid-cms-xrootd.physik.rwth-aachen.de:1094///store/data/Run2018C/SingleMuon/NANOAOD/UL2018_MiniAODv2\u001b[0m\n",
       "│       \u001b[36m_NanoAODv9_GT36-v1/2520000/D40D1285-B075-D446-B1BF-86A463EF6993.root\u001b[0m\n",
       "├── \u001b[32mT2_TR_METU\u001b[0m\n",
       "│   └── \u001b[36mroot://eymir.grid.metu.edu.tr//dpm/grid.metu.edu.tr/home/cms//store/data/Run2018C/SingleMuon/NANOAOD/UL2018\u001b[0m\n",
       "│       \u001b[36m_MiniAODv2_NanoAODv9_GT36-v1/2520000/F34F4F00-3370-EF4D-AF44-39E474E6530F.root\u001b[0m\n",
       "└── \u001b[32mT2_US_Florida\u001b[0m\n",
       "    └── \u001b[36mroot://cmsio2.rc.ufl.edu:1094///store/data/Run2018C/SingleMuon/NANOAOD/UL2018_MiniAODv2_NanoAODv9_GT36-v1/2\u001b[0m\n",
       "        \u001b[36m520000/F6E44EA5-F4C6-E746-AD43-7A263F1E316E.root\u001b[0m\n"
      ]
     },
     "metadata": {},
     "output_type": "display_data"
    },
    {
     "data": {
      "text/html": [
       "<pre style=\"white-space:pre;overflow-x:auto;line-height:normal;font-family:Menlo,'DejaVu Sans Mono',consolas,'Courier New',monospace\"><span style=\"color: #008080; text-decoration-color: #008080\">Selected datasets:</span>\n",
       "</pre>\n"
      ],
      "text/plain": [
       "\u001b[36mSelected datasets:\u001b[0m\n"
      ]
     },
     "metadata": {},
     "output_type": "display_data"
    },
    {
     "data": {
      "text/html": [
       "<pre style=\"white-space:pre;overflow-x:auto;line-height:normal;font-family:Menlo,'DejaVu Sans Mono',consolas,'Courier New',monospace\"><span style=\"font-style: italic\">                                                 Selected datasets                                                 </span>\n",
       "┏━━━┳━━━━━━━━━━━━━━━━━━━━━━━━━━━━━━━━━━━━━━━━━━━━━━━━━━━━━━━━━━━━━━━━━━━━━━━━━━━━━━━━━━━━━━━━━━━━━━━━━━━━━━━━━━━┳┳┓\n",
       "┃<span style=\"font-weight: bold\"> … </span>┃<span style=\"font-weight: bold\"> Dataset                                                                                                   </span>┃<span style=\"font-weight: bold\"></span>┃<span style=\"font-weight: bold\"></span>┃\n",
       "┡━━━╇━━━━━━━━━━━━━━━━━━━━━━━━━━━━━━━━━━━━━━━━━━━━━━━━━━━━━━━━━━━━━━━━━━━━━━━━━━━━━━━━━━━━━━━━━━━━━━━━━━━━━━━━━━━╇╇┩\n",
       "│<span style=\"color: #008080; text-decoration-color: #008080\"> 1 </span>│<span style=\"color: #800080; text-decoration-color: #800080\"> /DYJetsToLL_M-50_TuneCP5_13TeV-amcatnloFXFX-pythia8/RunIISummer20UL18NanoAODv9-106X_upgrade2018_realisti… </span>│││\n",
       "│<span style=\"color: #008080; text-decoration-color: #008080\"> 2 </span>│<span style=\"color: #800080; text-decoration-color: #800080\"> /SingleMuon/Run2018C-UL2018_MiniAODv2_NanoAODv9_GT36-v1/NANOAOD                                           </span>│││\n",
       "└───┴───────────────────────────────────────────────────────────────────────────────────────────────────────────┴┴┘\n",
       "</pre>\n"
      ],
      "text/plain": [
       "\u001b[3m                                                 Selected datasets                                                 \u001b[0m\n",
       "┏━━━┳━━━━━━━━━━━━━━━━━━━━━━━━━━━━━━━━━━━━━━━━━━━━━━━━━━━━━━━━━━━━━━━━━━━━━━━━━━━━━━━━━━━━━━━━━━━━━━━━━━━━━━━━━━━┳┳┓\n",
       "┃\u001b[1m \u001b[0m\u001b[1m…\u001b[0m\u001b[1m \u001b[0m┃\u001b[1m \u001b[0m\u001b[1mDataset                                                                                                  \u001b[0m\u001b[1m \u001b[0m┃┃┃\n",
       "┡━━━╇━━━━━━━━━━━━━━━━━━━━━━━━━━━━━━━━━━━━━━━━━━━━━━━━━━━━━━━━━━━━━━━━━━━━━━━━━━━━━━━━━━━━━━━━━━━━━━━━━━━━━━━━━━━╇╇┩\n",
       "│\u001b[36m \u001b[0m\u001b[36m1\u001b[0m\u001b[36m \u001b[0m│\u001b[35m \u001b[0m\u001b[35m/DYJetsToLL_M-50_TuneCP5_13TeV-amcatnloFXFX-pythia8/RunIISummer20UL18NanoAODv9-106X_upgrade2018_realisti…\u001b[0m\u001b[35m \u001b[0m│││\n",
       "│\u001b[36m \u001b[0m\u001b[36m2\u001b[0m\u001b[36m \u001b[0m│\u001b[35m \u001b[0m\u001b[35m/SingleMuon/Run2018C-UL2018_MiniAODv2_NanoAODv9_GT36-v1/NANOAOD                                          \u001b[0m\u001b[35m \u001b[0m│││\n",
       "└───┴───────────────────────────────────────────────────────────────────────────────────────────────────────────┴┴┘\n"
      ]
     },
     "metadata": {},
     "output_type": "display_data"
    }
   ],
   "source": [
    "ddc = DataDiscoveryCLI()\n",
    "ddc.load_dataset_definition(dataset_definition, \n",
    "                           query_results_strategy=\"all\",\n",
    "                           replicas_strategy=\"round-robin\")"
   ]
  },
  {
   "cell_type": "markdown",
   "id": "db7798eb-eb9f-47e5-9239-92cdea20600f",
   "metadata": {},
   "source": [
    "### Filtering sites"
   ]
  },
  {
   "cell_type": "markdown",
   "id": "bd57fe7b-0642-48b8-9f9f-cd209e50d867",
   "metadata": {},
   "source": [
    "Sites filtering works in a very similar way for `DataDiscoveryCLI`"
   ]
  },
  {
   "cell_type": "code",
   "execution_count": 17,
   "id": "d85ca119-0a56-4c67-bb21-ebbca8164728",
   "metadata": {},
   "outputs": [
    {
     "data": {
      "text/html": [
       "<pre style=\"white-space:pre;overflow-x:auto;line-height:normal;font-family:Menlo,'DejaVu Sans Mono',consolas,'Courier New',monospace\"><span style=\"color: #008000; text-decoration-color: #008000\">⠇</span> Querying rucio for replicas: <span style=\"color: #800000; text-decoration-color: #800000; font-weight: bold\">/SingleMuon/Run2018C-UL2018_MiniAODv2_NanoAODv9_GT36-v1/NANOAOD</span>\n",
       "</pre>\n"
      ],
      "text/plain": [
       "\u001b[32m⠇\u001b[0m Querying rucio for replicas: \u001b[1;31m/SingleMuon/Run2018C-UL2018_MiniAODv2_NanoAODv9_GT36-v1/NANOAOD\u001b[0m\n"
      ]
     },
     "metadata": {},
     "output_type": "display_data"
    },
    {
     "data": {
      "text/html": [
       "<pre style=\"white-space:pre;overflow-x:auto;line-height:normal;font-family:Menlo,'DejaVu Sans Mono',consolas,'Courier New',monospace\"></pre>\n"
      ],
      "text/plain": []
     },
     "metadata": {},
     "output_type": "display_data"
    },
    {
     "data": {
      "text/html": [
       "<pre style=\"white-space:pre;overflow-x:auto;line-height:normal;font-family:Menlo,'DejaVu Sans Mono',consolas,'Courier New',monospace\"><span style=\"color: #008080; text-decoration-color: #008080\">Sites availability for dataset: </span><span style=\"color: #800000; text-decoration-color: #800000\">/SingleMuon/Run2018C-UL2018_MiniAODv2_NanoAODv9_GT36-v1/NANOAOD</span>\n",
       "</pre>\n"
      ],
      "text/plain": [
       "\u001b[36mSites availability for dataset: \u001b[0m\u001b[31m/SingleMuon/Run2018C-UL2018_MiniAODv2_NanoAODv9_GT36-v1/\u001b[0m\u001b[31mNANOAOD\u001b[0m\n"
      ]
     },
     "metadata": {},
     "output_type": "display_data"
    },
    {
     "data": {
      "text/html": [
       "<pre style=\"white-space:pre;overflow-x:auto;line-height:normal;font-family:Menlo,'DejaVu Sans Mono',consolas,'Courier New',monospace\"><span style=\"font-style: italic\">                   Available replicas                   </span>\n",
       "┏━━━━━━━┳━━━━━━━━━━━━━━━━━━━━━┳━━━━━━━━━┳━━━━━━━━━━━━━━┓\n",
       "┃<span style=\"font-weight: bold\"> Index </span>┃<span style=\"font-weight: bold\"> Site                </span>┃<span style=\"font-weight: bold\"> Files   </span>┃<span style=\"font-weight: bold\"> Availability </span>┃\n",
       "┡━━━━━━━╇━━━━━━━━━━━━━━━━━━━━━╇━━━━━━━━━╇━━━━━━━━━━━━━━┩\n",
       "│<span style=\"color: #7f7f7f; text-decoration-color: #7f7f7f\">   0   </span>│<span style=\"color: #7fbfbf; text-decoration-color: #7fbfbf\"> T2_DE_DESY          </span>│<span style=\"color: #bf7fbf; text-decoration-color: #bf7fbf\"> 67 / 67 </span>│<span style=\"color: #7f7f7f; text-decoration-color: #7f7f7f\">    100.0%    </span>│\n",
       "│   1   │<span style=\"color: #008080; text-decoration-color: #008080\"> T3_FR_IPNL          </span>│<span style=\"color: #800080; text-decoration-color: #800080\"> 67 / 67 </span>│    100.0%    │\n",
       "│<span style=\"color: #7f7f7f; text-decoration-color: #7f7f7f\">   2   </span>│<span style=\"color: #7fbfbf; text-decoration-color: #7fbfbf\"> T2_UK_London_IC     </span>│<span style=\"color: #bf7fbf; text-decoration-color: #bf7fbf\"> 39 / 67 </span>│<span style=\"color: #7f7f7f; text-decoration-color: #7f7f7f\">    58.2%     </span>│\n",
       "│   3   │<span style=\"color: #008080; text-decoration-color: #008080\"> T1_FR_CCIN2P3_Disk  </span>│<span style=\"color: #800080; text-decoration-color: #800080\"> 38 / 67 </span>│    56.7%     │\n",
       "│<span style=\"color: #7f7f7f; text-decoration-color: #7f7f7f\">   4   </span>│<span style=\"color: #7fbfbf; text-decoration-color: #7fbfbf\"> T2_CH_CERN          </span>│<span style=\"color: #bf7fbf; text-decoration-color: #bf7fbf\"> 25 / 67 </span>│<span style=\"color: #7f7f7f; text-decoration-color: #7f7f7f\">    37.3%     </span>│\n",
       "│   5   │<span style=\"color: #008080; text-decoration-color: #008080\"> T2_DE_RWTH          </span>│<span style=\"color: #800080; text-decoration-color: #800080\"> 22 / 67 </span>│    32.8%     │\n",
       "│<span style=\"color: #7f7f7f; text-decoration-color: #7f7f7f\">   6   </span>│<span style=\"color: #7fbfbf; text-decoration-color: #7fbfbf\"> T1_IT_CNAF_Disk     </span>│<span style=\"color: #bf7fbf; text-decoration-color: #bf7fbf\"> 20 / 67 </span>│<span style=\"color: #7f7f7f; text-decoration-color: #7f7f7f\">    29.9%     </span>│\n",
       "│   7   │<span style=\"color: #008080; text-decoration-color: #008080\"> T1_DE_KIT_Disk      </span>│<span style=\"color: #800080; text-decoration-color: #800080\"> 11 / 67 </span>│    16.4%     │\n",
       "│<span style=\"color: #7f7f7f; text-decoration-color: #7f7f7f\">   8   </span>│<span style=\"color: #7fbfbf; text-decoration-color: #7fbfbf\"> T2_UK_SGrid_RALPP   </span>│<span style=\"color: #bf7fbf; text-decoration-color: #bf7fbf\"> 6 / 67  </span>│<span style=\"color: #7f7f7f; text-decoration-color: #7f7f7f\">     9.0%     </span>│\n",
       "│   9   │<span style=\"color: #008080; text-decoration-color: #008080\"> T2_IT_Legnaro       </span>│<span style=\"color: #800080; text-decoration-color: #800080\"> 6 / 67  </span>│     9.0%     │\n",
       "│<span style=\"color: #7f7f7f; text-decoration-color: #7f7f7f\">  10   </span>│<span style=\"color: #7fbfbf; text-decoration-color: #7fbfbf\"> T2_FR_IPHC          </span>│<span style=\"color: #bf7fbf; text-decoration-color: #bf7fbf\"> 2 / 67  </span>│<span style=\"color: #7f7f7f; text-decoration-color: #7f7f7f\">     3.0%     </span>│\n",
       "│  11   │<span style=\"color: #008080; text-decoration-color: #008080\"> T2_UK_London_Brunel </span>│<span style=\"color: #800080; text-decoration-color: #800080\"> 1 / 67  </span>│     1.5%     │\n",
       "└───────┴─────────────────────┴─────────┴──────────────┘\n",
       "</pre>\n"
      ],
      "text/plain": [
       "\u001b[3m                   Available replicas                   \u001b[0m\n",
       "┏━━━━━━━┳━━━━━━━━━━━━━━━━━━━━━┳━━━━━━━━━┳━━━━━━━━━━━━━━┓\n",
       "┃\u001b[1m \u001b[0m\u001b[1mIndex\u001b[0m\u001b[1m \u001b[0m┃\u001b[1m \u001b[0m\u001b[1mSite               \u001b[0m\u001b[1m \u001b[0m┃\u001b[1m \u001b[0m\u001b[1mFiles  \u001b[0m\u001b[1m \u001b[0m┃\u001b[1m \u001b[0m\u001b[1mAvailability\u001b[0m\u001b[1m \u001b[0m┃\n",
       "┡━━━━━━━╇━━━━━━━━━━━━━━━━━━━━━╇━━━━━━━━━╇━━━━━━━━━━━━━━┩\n",
       "│\u001b[2m \u001b[0m\u001b[2m  0  \u001b[0m\u001b[2m \u001b[0m│\u001b[2;36m \u001b[0m\u001b[2;36mT2_DE_DESY         \u001b[0m\u001b[2;36m \u001b[0m│\u001b[2;35m \u001b[0m\u001b[2;35m67 / 67\u001b[0m\u001b[2;35m \u001b[0m│\u001b[2m \u001b[0m\u001b[2m   100.0%   \u001b[0m\u001b[2m \u001b[0m│\n",
       "│   1   │\u001b[36m \u001b[0m\u001b[36mT3_FR_IPNL         \u001b[0m\u001b[36m \u001b[0m│\u001b[35m \u001b[0m\u001b[35m67 / 67\u001b[0m\u001b[35m \u001b[0m│    100.0%    │\n",
       "│\u001b[2m \u001b[0m\u001b[2m  2  \u001b[0m\u001b[2m \u001b[0m│\u001b[2;36m \u001b[0m\u001b[2;36mT2_UK_London_IC    \u001b[0m\u001b[2;36m \u001b[0m│\u001b[2;35m \u001b[0m\u001b[2;35m39 / 67\u001b[0m\u001b[2;35m \u001b[0m│\u001b[2m \u001b[0m\u001b[2m   58.2%    \u001b[0m\u001b[2m \u001b[0m│\n",
       "│   3   │\u001b[36m \u001b[0m\u001b[36mT1_FR_CCIN2P3_Disk \u001b[0m\u001b[36m \u001b[0m│\u001b[35m \u001b[0m\u001b[35m38 / 67\u001b[0m\u001b[35m \u001b[0m│    56.7%     │\n",
       "│\u001b[2m \u001b[0m\u001b[2m  4  \u001b[0m\u001b[2m \u001b[0m│\u001b[2;36m \u001b[0m\u001b[2;36mT2_CH_CERN         \u001b[0m\u001b[2;36m \u001b[0m│\u001b[2;35m \u001b[0m\u001b[2;35m25 / 67\u001b[0m\u001b[2;35m \u001b[0m│\u001b[2m \u001b[0m\u001b[2m   37.3%    \u001b[0m\u001b[2m \u001b[0m│\n",
       "│   5   │\u001b[36m \u001b[0m\u001b[36mT2_DE_RWTH         \u001b[0m\u001b[36m \u001b[0m│\u001b[35m \u001b[0m\u001b[35m22 / 67\u001b[0m\u001b[35m \u001b[0m│    32.8%     │\n",
       "│\u001b[2m \u001b[0m\u001b[2m  6  \u001b[0m\u001b[2m \u001b[0m│\u001b[2;36m \u001b[0m\u001b[2;36mT1_IT_CNAF_Disk    \u001b[0m\u001b[2;36m \u001b[0m│\u001b[2;35m \u001b[0m\u001b[2;35m20 / 67\u001b[0m\u001b[2;35m \u001b[0m│\u001b[2m \u001b[0m\u001b[2m   29.9%    \u001b[0m\u001b[2m \u001b[0m│\n",
       "│   7   │\u001b[36m \u001b[0m\u001b[36mT1_DE_KIT_Disk     \u001b[0m\u001b[36m \u001b[0m│\u001b[35m \u001b[0m\u001b[35m11 / 67\u001b[0m\u001b[35m \u001b[0m│    16.4%     │\n",
       "│\u001b[2m \u001b[0m\u001b[2m  8  \u001b[0m\u001b[2m \u001b[0m│\u001b[2;36m \u001b[0m\u001b[2;36mT2_UK_SGrid_RALPP  \u001b[0m\u001b[2;36m \u001b[0m│\u001b[2;35m \u001b[0m\u001b[2;35m6 / 67 \u001b[0m\u001b[2;35m \u001b[0m│\u001b[2m \u001b[0m\u001b[2m    9.0%    \u001b[0m\u001b[2m \u001b[0m│\n",
       "│   9   │\u001b[36m \u001b[0m\u001b[36mT2_IT_Legnaro      \u001b[0m\u001b[36m \u001b[0m│\u001b[35m \u001b[0m\u001b[35m6 / 67 \u001b[0m\u001b[35m \u001b[0m│     9.0%     │\n",
       "│\u001b[2m \u001b[0m\u001b[2m 10  \u001b[0m\u001b[2m \u001b[0m│\u001b[2;36m \u001b[0m\u001b[2;36mT2_FR_IPHC         \u001b[0m\u001b[2;36m \u001b[0m│\u001b[2;35m \u001b[0m\u001b[2;35m2 / 67 \u001b[0m\u001b[2;35m \u001b[0m│\u001b[2m \u001b[0m\u001b[2m    3.0%    \u001b[0m\u001b[2m \u001b[0m│\n",
       "│  11   │\u001b[36m \u001b[0m\u001b[36mT2_UK_London_Brunel\u001b[0m\u001b[36m \u001b[0m│\u001b[35m \u001b[0m\u001b[35m1 / 67 \u001b[0m\u001b[35m \u001b[0m│     1.5%     │\n",
       "└───────┴─────────────────────┴─────────┴──────────────┘\n"
      ]
     },
     "metadata": {},
     "output_type": "display_data"
    },
    {
     "data": {
      "text/html": [
       "<pre style=\"white-space:pre;overflow-x:auto;line-height:normal;font-family:Menlo,'DejaVu Sans Mono',consolas,'Courier New',monospace\">Replicas for <span style=\"color: #008000; text-decoration-color: #008000\">/SingleMuon/Run2018C-UL2018_MiniAODv2_NanoAODv9_GT36-v1/NANOAOD</span>\n",
       "├── <span style=\"color: #008000; text-decoration-color: #008000\">T2_CH_CERN</span>\n",
       "│   ├── <span style=\"color: #008080; text-decoration-color: #008080\">root://eoscms.cern.ch//eos/cms//store/data/Run2018C/SingleMuon/NANOAOD/UL2018_MiniAODv2_NanoAODv9_GT36-v1/2</span>\n",
       "│   │   <span style=\"color: #008080; text-decoration-color: #008080\">520000/0144EC47-BFA3-EA43-BF05-BD4248ED6031.root</span>\n",
       "│   ├── <span style=\"color: #008080; text-decoration-color: #008080\">root://eoscms.cern.ch//eos/cms//store/data/Run2018C/SingleMuon/NANOAOD/UL2018_MiniAODv2_NanoAODv9_GT36-v1/2</span>\n",
       "│   │   <span style=\"color: #008080; text-decoration-color: #008080\">520000/1DD0FAC6-3087-E44E-ABCB-8AF812C1310D.root</span>\n",
       "│   ├── <span style=\"color: #008080; text-decoration-color: #008080\">root://eoscms.cern.ch//eos/cms//store/data/Run2018C/SingleMuon/NANOAOD/UL2018_MiniAODv2_NanoAODv9_GT36-v1/2</span>\n",
       "│   │   <span style=\"color: #008080; text-decoration-color: #008080\">520000/2747DEFE-A247-1F42-B0EF-E7B7F1D3FCD6.root</span>\n",
       "│   ├── <span style=\"color: #008080; text-decoration-color: #008080\">root://eoscms.cern.ch//eos/cms//store/data/Run2018C/SingleMuon/NANOAOD/UL2018_MiniAODv2_NanoAODv9_GT36-v1/2</span>\n",
       "│   │   <span style=\"color: #008080; text-decoration-color: #008080\">520000/2DA9130E-8423-304C-9902-1E42CD72E658.root</span>\n",
       "│   ├── <span style=\"color: #008080; text-decoration-color: #008080\">root://eoscms.cern.ch//eos/cms//store/data/Run2018C/SingleMuon/NANOAOD/UL2018_MiniAODv2_NanoAODv9_GT36-v1/2</span>\n",
       "│   │   <span style=\"color: #008080; text-decoration-color: #008080\">520000/39D52C69-2035-A24B-A413-40976993651D.root</span>\n",
       "│   ├── <span style=\"color: #008080; text-decoration-color: #008080\">root://eoscms.cern.ch//eos/cms//store/data/Run2018C/SingleMuon/NANOAOD/UL2018_MiniAODv2_NanoAODv9_GT36-v1/2</span>\n",
       "│   │   <span style=\"color: #008080; text-decoration-color: #008080\">520000/69ABD79C-C684-8244-9F0D-153C6B8C2D9C.root</span>\n",
       "│   ├── <span style=\"color: #008080; text-decoration-color: #008080\">root://eoscms.cern.ch//eos/cms//store/data/Run2018C/SingleMuon/NANOAOD/UL2018_MiniAODv2_NanoAODv9_GT36-v1/2</span>\n",
       "│   │   <span style=\"color: #008080; text-decoration-color: #008080\">520000/7CCCB2C3-F210-2C42-85DF-AA00293FACFB.root</span>\n",
       "│   └── <span style=\"color: #008080; text-decoration-color: #008080\">root://eoscms.cern.ch//eos/cms//store/data/Run2018C/SingleMuon/NANOAOD/UL2018_MiniAODv2_NanoAODv9_GT36-v1/2</span>\n",
       "│       <span style=\"color: #008080; text-decoration-color: #008080\">520000/F34F4F00-3370-EF4D-AF44-39E474E6530F.root</span>\n",
       "├── <span style=\"color: #008000; text-decoration-color: #008000\">T3_FR_IPNL</span>\n",
       "│   ├── <span style=\"color: #008080; text-decoration-color: #008080\">root://lyogrid06.in2p3.fr//dpm/in2p3.fr/home/cms/data//store/data/Run2018C/SingleMuon/NANOAOD/UL2018_MiniAO</span>\n",
       "│   │   <span style=\"color: #008080; text-decoration-color: #008080\">Dv2_NanoAODv9_GT36-v1/2520000/0C9615C1-7EE6-CD44-8FC0-04F63B2C16FD.root</span>\n",
       "│   ├── <span style=\"color: #008080; text-decoration-color: #008080\">root://lyogrid06.in2p3.fr//dpm/in2p3.fr/home/cms/data//store/data/Run2018C/SingleMuon/NANOAOD/UL2018_MiniAO</span>\n",
       "│   │   <span style=\"color: #008080; text-decoration-color: #008080\">Dv2_NanoAODv9_GT36-v1/2520000/30A3A1AB-2F27-C84E-9437-6BB3881F6856.root</span>\n",
       "│   ├── <span style=\"color: #008080; text-decoration-color: #008080\">root://lyogrid06.in2p3.fr//dpm/in2p3.fr/home/cms/data//store/data/Run2018C/SingleMuon/NANOAOD/UL2018_MiniAO</span>\n",
       "│   │   <span style=\"color: #008080; text-decoration-color: #008080\">Dv2_NanoAODv9_GT36-v1/2520000/410C32AB-DEB5-404F-BC6B-92E8F560563F.root</span>\n",
       "│   ├── <span style=\"color: #008080; text-decoration-color: #008080\">root://lyogrid06.in2p3.fr//dpm/in2p3.fr/home/cms/data//store/data/Run2018C/SingleMuon/NANOAOD/UL2018_MiniAO</span>\n",
       "│   │   <span style=\"color: #008080; text-decoration-color: #008080\">Dv2_NanoAODv9_GT36-v1/2520000/42DC0F42-82E8-BE47-B04D-544B67274829.root</span>\n",
       "│   ├── <span style=\"color: #008080; text-decoration-color: #008080\">root://lyogrid06.in2p3.fr//dpm/in2p3.fr/home/cms/data//store/data/Run2018C/SingleMuon/NANOAOD/UL2018_MiniAO</span>\n",
       "│   │   <span style=\"color: #008080; text-decoration-color: #008080\">Dv2_NanoAODv9_GT36-v1/2520000/62789325-3C0B-FC4D-B578-B41A396399E4.root</span>\n",
       "│   ├── <span style=\"color: #008080; text-decoration-color: #008080\">root://lyogrid06.in2p3.fr//dpm/in2p3.fr/home/cms/data//store/data/Run2018C/SingleMuon/NANOAOD/UL2018_MiniAO</span>\n",
       "│   │   <span style=\"color: #008080; text-decoration-color: #008080\">Dv2_NanoAODv9_GT36-v1/2520000/6809B5E3-6DE6-1541-AE4C-E1804C877EDE.root</span>\n",
       "│   ├── <span style=\"color: #008080; text-decoration-color: #008080\">root://lyogrid06.in2p3.fr//dpm/in2p3.fr/home/cms/data//store/data/Run2018C/SingleMuon/NANOAOD/UL2018_MiniAO</span>\n",
       "│   │   <span style=\"color: #008080; text-decoration-color: #008080\">Dv2_NanoAODv9_GT36-v1/2520000/78AC6A39-C303-EB44-9264-71819CC70FCC.root</span>\n",
       "│   ├── <span style=\"color: #008080; text-decoration-color: #008080\">root://lyogrid06.in2p3.fr//dpm/in2p3.fr/home/cms/data//store/data/Run2018C/SingleMuon/NANOAOD/UL2018_MiniAO</span>\n",
       "│   │   <span style=\"color: #008080; text-decoration-color: #008080\">Dv2_NanoAODv9_GT36-v1/2520000/A350E2E4-705C-2C4D-9B11-3436056EEBE7.root</span>\n",
       "│   ├── <span style=\"color: #008080; text-decoration-color: #008080\">root://lyogrid06.in2p3.fr//dpm/in2p3.fr/home/cms/data//store/data/Run2018C/SingleMuon/NANOAOD/UL2018_MiniAO</span>\n",
       "│   │   <span style=\"color: #008080; text-decoration-color: #008080\">Dv2_NanoAODv9_GT36-v1/2520000/FCAF4145-8E3F-2142-BDCB-5E276523B592.root</span>\n",
       "│   └── <span style=\"color: #008080; text-decoration-color: #008080\">root://lyogrid06.in2p3.fr//dpm/in2p3.fr/home/cms/data//store/data/Run2018C/SingleMuon/NANOAOD/UL2018_MiniAO</span>\n",
       "│       <span style=\"color: #008080; text-decoration-color: #008080\">Dv2_NanoAODv9_GT36-v1/2520000/FE3D79A6-27D4-8948-A89B-2F966C5B29D4.root</span>\n",
       "├── <span style=\"color: #008000; text-decoration-color: #008000\">T2_UK_London_IC</span>\n",
       "│   ├── <span style=\"color: #008080; text-decoration-color: #008080\">root://gfe02.grid.hep.ph.ic.ac.uk:1094//pnfs/hep.ph.ic.ac.uk/data/cms//store/data/Run2018C/SingleMuon/NANOA</span>\n",
       "│   │   <span style=\"color: #008080; text-decoration-color: #008080\">OD/UL2018_MiniAODv2_NanoAODv9_GT36-v1/2520000/12FAE9F1-7139-924C-A8DE-9699A00FC994.root</span>\n",
       "│   ├── <span style=\"color: #008080; text-decoration-color: #008080\">root://gfe02.grid.hep.ph.ic.ac.uk:1094//pnfs/hep.ph.ic.ac.uk/data/cms//store/data/Run2018C/SingleMuon/NANOA</span>\n",
       "│   │   <span style=\"color: #008080; text-decoration-color: #008080\">OD/UL2018_MiniAODv2_NanoAODv9_GT36-v1/2520000/63047CC0-38C6-F74C-9A00-0DF9050F7CF1.root</span>\n",
       "│   ├── <span style=\"color: #008080; text-decoration-color: #008080\">root://gfe02.grid.hep.ph.ic.ac.uk:1094//pnfs/hep.ph.ic.ac.uk/data/cms//store/data/Run2018C/SingleMuon/NANOA</span>\n",
       "│   │   <span style=\"color: #008080; text-decoration-color: #008080\">OD/UL2018_MiniAODv2_NanoAODv9_GT36-v1/2520000/8369B0EA-E4CC-AC4D-BD3F-0679B3310E09.root</span>\n",
       "│   ├── <span style=\"color: #008080; text-decoration-color: #008080\">root://gfe02.grid.hep.ph.ic.ac.uk:1094//pnfs/hep.ph.ic.ac.uk/data/cms//store/data/Run2018C/SingleMuon/NANOA</span>\n",
       "│   │   <span style=\"color: #008080; text-decoration-color: #008080\">OD/UL2018_MiniAODv2_NanoAODv9_GT36-v1/2520000/AE014F55-84BE-E84E-B447-0B614070CD17.root</span>\n",
       "│   ├── <span style=\"color: #008080; text-decoration-color: #008080\">root://gfe02.grid.hep.ph.ic.ac.uk:1094//pnfs/hep.ph.ic.ac.uk/data/cms//store/data/Run2018C/SingleMuon/NANOA</span>\n",
       "│   │   <span style=\"color: #008080; text-decoration-color: #008080\">OD/UL2018_MiniAODv2_NanoAODv9_GT36-v1/2520000/F16A9138-7563-E540-B6AD-8A8A688B3830.root</span>\n",
       "│   └── <span style=\"color: #008080; text-decoration-color: #008080\">root://gfe02.grid.hep.ph.ic.ac.uk:1094//pnfs/hep.ph.ic.ac.uk/data/cms//store/data/Run2018C/SingleMuon/NANOA</span>\n",
       "│       <span style=\"color: #008080; text-decoration-color: #008080\">OD/UL2018_MiniAODv2_NanoAODv9_GT36-v1/2520000/FAF0C67B-A8B4-8A4F-83B1-E43675CE9630.root</span>\n",
       "├── <span style=\"color: #008000; text-decoration-color: #008000\">T1_FR_CCIN2P3_Disk</span>\n",
       "│   ├── <span style=\"color: #008080; text-decoration-color: #008080\">root://ccxrdcms.in2p3.fr:1094/pnfs/in2p3.fr/data/cms/disk/data//store/data/Run2018C/SingleMuon/NANOAOD/UL20</span>\n",
       "│   │   <span style=\"color: #008080; text-decoration-color: #008080\">18_MiniAODv2_NanoAODv9_GT36-v1/2520000/152C304A-97AD-1649-BCB6-3EA0CCD0DD33.root</span>\n",
       "│   ├── <span style=\"color: #008080; text-decoration-color: #008080\">root://ccxrdcms.in2p3.fr:1094/pnfs/in2p3.fr/data/cms/disk/data//store/data/Run2018C/SingleMuon/NANOAOD/UL20</span>\n",
       "│   │   <span style=\"color: #008080; text-decoration-color: #008080\">18_MiniAODv2_NanoAODv9_GT36-v1/2520000/37312354-59AB-E44B-BC94-CF424D4B7DDB.root</span>\n",
       "│   ├── <span style=\"color: #008080; text-decoration-color: #008080\">root://ccxrdcms.in2p3.fr:1094/pnfs/in2p3.fr/data/cms/disk/data//store/data/Run2018C/SingleMuon/NANOAOD/UL20</span>\n",
       "│   │   <span style=\"color: #008080; text-decoration-color: #008080\">18_MiniAODv2_NanoAODv9_GT36-v1/2520000/7B14228A-5331-DF4E-B677-7B8AA281D460.root</span>\n",
       "│   ├── <span style=\"color: #008080; text-decoration-color: #008080\">root://ccxrdcms.in2p3.fr:1094/pnfs/in2p3.fr/data/cms/disk/data//store/data/Run2018C/SingleMuon/NANOAOD/UL20</span>\n",
       "│   │   <span style=\"color: #008080; text-decoration-color: #008080\">18_MiniAODv2_NanoAODv9_GT36-v1/2520000/7B181B92-AA2C-1E44-86FE-B074D359BBB3.root</span>\n",
       "│   ├── <span style=\"color: #008080; text-decoration-color: #008080\">root://ccxrdcms.in2p3.fr:1094/pnfs/in2p3.fr/data/cms/disk/data//store/data/Run2018C/SingleMuon/NANOAOD/UL20</span>\n",
       "│   │   <span style=\"color: #008080; text-decoration-color: #008080\">18_MiniAODv2_NanoAODv9_GT36-v1/2520000/C4F476DA-3D00-334B-867C-7E12F94EE3AB.root</span>\n",
       "│   ├── <span style=\"color: #008080; text-decoration-color: #008080\">root://ccxrdcms.in2p3.fr:1094/pnfs/in2p3.fr/data/cms/disk/data//store/data/Run2018C/SingleMuon/NANOAOD/UL20</span>\n",
       "│   │   <span style=\"color: #008080; text-decoration-color: #008080\">18_MiniAODv2_NanoAODv9_GT36-v1/2520000/D8D41BBC-D514-D342-A514-CCF48575D184.root</span>\n",
       "│   └── <span style=\"color: #008080; text-decoration-color: #008080\">root://ccxrdcms.in2p3.fr:1094/pnfs/in2p3.fr/data/cms/disk/data//store/data/Run2018C/SingleMuon/NANOAOD/UL20</span>\n",
       "│       <span style=\"color: #008080; text-decoration-color: #008080\">18_MiniAODv2_NanoAODv9_GT36-v1/2520000/FE5EEFA5-C07A-5C44-B66D-5B31BE02C7D3.root</span>\n",
       "├── <span style=\"color: #008000; text-decoration-color: #008000\">T2_FR_IPHC</span>\n",
       "│   └── <span style=\"color: #008080; text-decoration-color: #008080\">root://sbgdcache.in2p3.fr///store/data/Run2018C/SingleMuon/NANOAOD/UL2018_MiniAODv2_NanoAODv9_GT36-v1/25200</span>\n",
       "│       <span style=\"color: #008080; text-decoration-color: #008080\">00/1CEB718A-7DC1-C74A-A7BE-A3C8D9FA785A.root</span>\n",
       "├── <span style=\"color: #008000; text-decoration-color: #008000\">T2_DE_DESY</span>\n",
       "│   ├── <span style=\"color: #008080; text-decoration-color: #008080\">root://dcache-cms-xrootd.desy.de:1094//store/data/Run2018C/SingleMuon/NANOAOD/UL2018_MiniAODv2_NanoAODv9_GT</span>\n",
       "│   │   <span style=\"color: #008080; text-decoration-color: #008080\">36-v1/2520000/26FC8C40-EA29-804C-B17D-84FB1C6BC505.root</span>\n",
       "│   ├── <span style=\"color: #008080; text-decoration-color: #008080\">root://dcache-cms-xrootd.desy.de:1094//store/data/Run2018C/SingleMuon/NANOAOD/UL2018_MiniAODv2_NanoAODv9_GT</span>\n",
       "│   │   <span style=\"color: #008080; text-decoration-color: #008080\">36-v1/2520000/2D58C3FE-512A-1F48-9AEB-6F80379B8F4A.root</span>\n",
       "│   ├── <span style=\"color: #008080; text-decoration-color: #008080\">root://dcache-cms-xrootd.desy.de:1094//store/data/Run2018C/SingleMuon/NANOAOD/UL2018_MiniAODv2_NanoAODv9_GT</span>\n",
       "│   │   <span style=\"color: #008080; text-decoration-color: #008080\">36-v1/2520000/459261DD-4441-6047-9FF2-1EDE468452C9.root</span>\n",
       "│   ├── <span style=\"color: #008080; text-decoration-color: #008080\">root://dcache-cms-xrootd.desy.de:1094//store/data/Run2018C/SingleMuon/NANOAOD/UL2018_MiniAODv2_NanoAODv9_GT</span>\n",
       "│   │   <span style=\"color: #008080; text-decoration-color: #008080\">36-v1/2520000/51515E3C-C640-3A4C-A16C-DC267FD142BF.root</span>\n",
       "│   ├── <span style=\"color: #008080; text-decoration-color: #008080\">root://dcache-cms-xrootd.desy.de:1094//store/data/Run2018C/SingleMuon/NANOAOD/UL2018_MiniAODv2_NanoAODv9_GT</span>\n",
       "│   │   <span style=\"color: #008080; text-decoration-color: #008080\">36-v1/2520000/648ECD9C-8AAA-BB46-8683-C8987CCC73B9.root</span>\n",
       "│   ├── <span style=\"color: #008080; text-decoration-color: #008080\">root://dcache-cms-xrootd.desy.de:1094//store/data/Run2018C/SingleMuon/NANOAOD/UL2018_MiniAODv2_NanoAODv9_GT</span>\n",
       "│   │   <span style=\"color: #008080; text-decoration-color: #008080\">36-v1/2520000/74A75B73-E5B8-C942-BBC9-1DDDD7F752FB.root</span>\n",
       "│   ├── <span style=\"color: #008080; text-decoration-color: #008080\">root://dcache-cms-xrootd.desy.de:1094//store/data/Run2018C/SingleMuon/NANOAOD/UL2018_MiniAODv2_NanoAODv9_GT</span>\n",
       "│   │   <span style=\"color: #008080; text-decoration-color: #008080\">36-v1/2520000/81CEA7BA-9E66-BC4F-A96F-32642D59B653.root</span>\n",
       "│   ├── <span style=\"color: #008080; text-decoration-color: #008080\">root://dcache-cms-xrootd.desy.de:1094//store/data/Run2018C/SingleMuon/NANOAOD/UL2018_MiniAODv2_NanoAODv9_GT</span>\n",
       "│   │   <span style=\"color: #008080; text-decoration-color: #008080\">36-v1/2520000/8223C4A3-D4BD-6A4B-A513-54B6668C7122.root</span>\n",
       "│   ├── <span style=\"color: #008080; text-decoration-color: #008080\">root://dcache-cms-xrootd.desy.de:1094//store/data/Run2018C/SingleMuon/NANOAOD/UL2018_MiniAODv2_NanoAODv9_GT</span>\n",
       "│   │   <span style=\"color: #008080; text-decoration-color: #008080\">36-v1/2520000/8C8690F8-4FEE-1047-85F4-29E414B3D12C.root</span>\n",
       "│   ├── <span style=\"color: #008080; text-decoration-color: #008080\">root://dcache-cms-xrootd.desy.de:1094//store/data/Run2018C/SingleMuon/NANOAOD/UL2018_MiniAODv2_NanoAODv9_GT</span>\n",
       "│   │   <span style=\"color: #008080; text-decoration-color: #008080\">36-v1/2520000/B78A9B75-3B32-CF4E-A144-375189CF48AE.root</span>\n",
       "│   ├── <span style=\"color: #008080; text-decoration-color: #008080\">root://dcache-cms-xrootd.desy.de:1094//store/data/Run2018C/SingleMuon/NANOAOD/UL2018_MiniAODv2_NanoAODv9_GT</span>\n",
       "│   │   <span style=\"color: #008080; text-decoration-color: #008080\">36-v1/2520000/BAAA6E00-7AC3-9947-9262-D9833D3A8B19.root</span>\n",
       "│   ├── <span style=\"color: #008080; text-decoration-color: #008080\">root://dcache-cms-xrootd.desy.de:1094//store/data/Run2018C/SingleMuon/NANOAOD/UL2018_MiniAODv2_NanoAODv9_GT</span>\n",
       "│   │   <span style=\"color: #008080; text-decoration-color: #008080\">36-v1/2520000/BCBF89A2-329C-744B-A38F-139EA8F94007.root</span>\n",
       "│   ├── <span style=\"color: #008080; text-decoration-color: #008080\">root://dcache-cms-xrootd.desy.de:1094//store/data/Run2018C/SingleMuon/NANOAOD/UL2018_MiniAODv2_NanoAODv9_GT</span>\n",
       "│   │   <span style=\"color: #008080; text-decoration-color: #008080\">36-v1/2520000/CBD43A1E-AE2F-0B4D-A642-29FB2E9EB33B.root</span>\n",
       "│   ├── <span style=\"color: #008080; text-decoration-color: #008080\">root://dcache-cms-xrootd.desy.de:1094//store/data/Run2018C/SingleMuon/NANOAOD/UL2018_MiniAODv2_NanoAODv9_GT</span>\n",
       "│   │   <span style=\"color: #008080; text-decoration-color: #008080\">36-v1/2520000/D40D1285-B075-D446-B1BF-86A463EF6993.root</span>\n",
       "│   ├── <span style=\"color: #008080; text-decoration-color: #008080\">root://dcache-cms-xrootd.desy.de:1094//store/data/Run2018C/SingleMuon/NANOAOD/UL2018_MiniAODv2_NanoAODv9_GT</span>\n",
       "│   │   <span style=\"color: #008080; text-decoration-color: #008080\">36-v1/2520000/DA47C0B6-BCAB-C54C-A6BF-B0A64E88E3D4.root</span>\n",
       "│   ├── <span style=\"color: #008080; text-decoration-color: #008080\">root://dcache-cms-xrootd.desy.de:1094//store/data/Run2018C/SingleMuon/NANOAOD/UL2018_MiniAODv2_NanoAODv9_GT</span>\n",
       "│   │   <span style=\"color: #008080; text-decoration-color: #008080\">36-v1/2520000/ECD4877E-707B-EA43-A38B-D1B700FBDE79.root</span>\n",
       "│   ├── <span style=\"color: #008080; text-decoration-color: #008080\">root://dcache-cms-xrootd.desy.de:1094//store/data/Run2018C/SingleMuon/NANOAOD/UL2018_MiniAODv2_NanoAODv9_GT</span>\n",
       "│   │   <span style=\"color: #008080; text-decoration-color: #008080\">36-v1/2520000/ED95384D-9D3D-AE45-8425-C4C080E691C5.root</span>\n",
       "│   └── <span style=\"color: #008080; text-decoration-color: #008080\">root://dcache-cms-xrootd.desy.de:1094//store/data/Run2018C/SingleMuon/NANOAOD/UL2018_MiniAODv2_NanoAODv9_GT</span>\n",
       "│       <span style=\"color: #008080; text-decoration-color: #008080\">36-v1/2520000/F1B3977A-E777-EC4D-8FC7-981FE4ED5E0C.root</span>\n",
       "├── <span style=\"color: #008000; text-decoration-color: #008000\">T1_DE_KIT_Disk</span>\n",
       "│   ├── <span style=\"color: #008080; text-decoration-color: #008080\">root://cmsxrootd-kit-disk.gridka.de:1094///store/data/Run2018C/SingleMuon/NANOAOD/UL2018_MiniAODv2_NanoAODv</span>\n",
       "│   │   <span style=\"color: #008080; text-decoration-color: #008080\">9_GT36-v1/2520000/365F32F6-F971-1B4D-8E9D-C0ACD74FFB03.root</span>\n",
       "│   ├── <span style=\"color: #008080; text-decoration-color: #008080\">root://cmsxrootd-kit-disk.gridka.de:1094///store/data/Run2018C/SingleMuon/NANOAOD/UL2018_MiniAODv2_NanoAODv</span>\n",
       "│   │   <span style=\"color: #008080; text-decoration-color: #008080\">9_GT36-v1/2520000/3FE5B677-9AB3-0245-A1CF-4B320592F18F.root</span>\n",
       "│   ├── <span style=\"color: #008080; text-decoration-color: #008080\">root://cmsxrootd-kit-disk.gridka.de:1094///store/data/Run2018C/SingleMuon/NANOAOD/UL2018_MiniAODv2_NanoAODv</span>\n",
       "│   │   <span style=\"color: #008080; text-decoration-color: #008080\">9_GT36-v1/2520000/6DDF448B-4605-5C41-9711-1C73EC5F01D3.root</span>\n",
       "│   ├── <span style=\"color: #008080; text-decoration-color: #008080\">root://cmsxrootd-kit-disk.gridka.de:1094///store/data/Run2018C/SingleMuon/NANOAOD/UL2018_MiniAODv2_NanoAODv</span>\n",
       "│   │   <span style=\"color: #008080; text-decoration-color: #008080\">9_GT36-v1/2520000/6EAA5EDB-0DB3-6E40-87DC-7AB582295D29.root</span>\n",
       "│   └── <span style=\"color: #008080; text-decoration-color: #008080\">root://cmsxrootd-kit-disk.gridka.de:1094///store/data/Run2018C/SingleMuon/NANOAOD/UL2018_MiniAODv2_NanoAODv</span>\n",
       "│       <span style=\"color: #008080; text-decoration-color: #008080\">9_GT36-v1/2520000/7DEA3718-B7BC-EE42-A8BE-11C62BB8536D.root</span>\n",
       "├── <span style=\"color: #008000; text-decoration-color: #008000\">T2_DE_RWTH</span>\n",
       "│   ├── <span style=\"color: #008080; text-decoration-color: #008080\">root://grid-cms-xrootd.physik.rwth-aachen.de:1094///store/data/Run2018C/SingleMuon/NANOAOD/UL2018_MiniAODv2</span>\n",
       "│   │   <span style=\"color: #008080; text-decoration-color: #008080\">_NanoAODv9_GT36-v1/2520000/59DA0585-BD57-CE49-A15E-CDBAC5473EDE.root</span>\n",
       "│   ├── <span style=\"color: #008080; text-decoration-color: #008080\">root://grid-cms-xrootd.physik.rwth-aachen.de:1094///store/data/Run2018C/SingleMuon/NANOAOD/UL2018_MiniAODv2</span>\n",
       "│   │   <span style=\"color: #008080; text-decoration-color: #008080\">_NanoAODv9_GT36-v1/2520000/A59D511A-A419-714F-8EE1-8B8BAFEC04D5.root</span>\n",
       "│   └── <span style=\"color: #008080; text-decoration-color: #008080\">root://grid-cms-xrootd.physik.rwth-aachen.de:1094///store/data/Run2018C/SingleMuon/NANOAOD/UL2018_MiniAODv2</span>\n",
       "│       <span style=\"color: #008080; text-decoration-color: #008080\">_NanoAODv9_GT36-v1/2520000/B9E9087C-255C-C24D-A733-FB9291DC7C3C.root</span>\n",
       "├── <span style=\"color: #008000; text-decoration-color: #008000\">T1_IT_CNAF_Disk</span>\n",
       "│   ├── <span style=\"color: #008080; text-decoration-color: #008080\">root://xrootd-cms.infn.it:1194///store/data/Run2018C/SingleMuon/NANOAOD/UL2018_MiniAODv2_NanoAODv9_GT36-v1/</span>\n",
       "│   │   <span style=\"color: #008080; text-decoration-color: #008080\">2520000/A74EFE57-BAD2-C143-B8DC-817CE4F96FD7.root</span>\n",
       "│   ├── <span style=\"color: #008080; text-decoration-color: #008080\">root://xrootd-cms.infn.it:1194///store/data/Run2018C/SingleMuon/NANOAOD/UL2018_MiniAODv2_NanoAODv9_GT36-v1/</span>\n",
       "│   │   <span style=\"color: #008080; text-decoration-color: #008080\">2520000/AB8DD69D-A522-D44C-BB9C-209623F7D41A.root</span>\n",
       "│   ├── <span style=\"color: #008080; text-decoration-color: #008080\">root://xrootd-cms.infn.it:1194///store/data/Run2018C/SingleMuon/NANOAOD/UL2018_MiniAODv2_NanoAODv9_GT36-v1/</span>\n",
       "│   │   <span style=\"color: #008080; text-decoration-color: #008080\">2520000/B3487FE0-B172-AD47-A13A-388C0A9BF93F.root</span>\n",
       "│   ├── <span style=\"color: #008080; text-decoration-color: #008080\">root://xrootd-cms.infn.it:1194///store/data/Run2018C/SingleMuon/NANOAOD/UL2018_MiniAODv2_NanoAODv9_GT36-v1/</span>\n",
       "│   │   <span style=\"color: #008080; text-decoration-color: #008080\">2520000/CDD2CDF9-72D0-4045-B28F-89002077FB89.root</span>\n",
       "│   ├── <span style=\"color: #008080; text-decoration-color: #008080\">root://xrootd-cms.infn.it:1194///store/data/Run2018C/SingleMuon/NANOAOD/UL2018_MiniAODv2_NanoAODv9_GT36-v1/</span>\n",
       "│   │   <span style=\"color: #008080; text-decoration-color: #008080\">2520000/D7875684-9F26-084E-9B2B-5E9BB5D353E8.root</span>\n",
       "│   └── <span style=\"color: #008080; text-decoration-color: #008080\">root://xrootd-cms.infn.it:1194///store/data/Run2018C/SingleMuon/NANOAOD/UL2018_MiniAODv2_NanoAODv9_GT36-v1/</span>\n",
       "│       <span style=\"color: #008080; text-decoration-color: #008080\">2520000/F09135D8-FCBE-AF40-BCE8-03A529C5C87F.root</span>\n",
       "└── <span style=\"color: #008000; text-decoration-color: #008000\">T2_UK_SGrid_RALPP</span>\n",
       "    ├── <span style=\"color: #008080; text-decoration-color: #008080\">root://mover.pp.rl.ac.uk:1094/pnfs/pp.rl.ac.uk/data/cms//store/data/Run2018C/SingleMuon/NANOAOD/UL2018_Mini</span>\n",
       "    │   <span style=\"color: #008080; text-decoration-color: #008080\">AODv2_NanoAODv9_GT36-v1/2520000/B1B449CE-5952-8347-A9A7-35FE231D0C72.root</span>\n",
       "    ├── <span style=\"color: #008080; text-decoration-color: #008080\">root://mover.pp.rl.ac.uk:1094/pnfs/pp.rl.ac.uk/data/cms//store/data/Run2018C/SingleMuon/NANOAOD/UL2018_Mini</span>\n",
       "    │   <span style=\"color: #008080; text-decoration-color: #008080\">AODv2_NanoAODv9_GT36-v1/2520000/BA02D468-A8CE-4F49-884F-F836BB481AD5.root</span>\n",
       "    └── <span style=\"color: #008080; text-decoration-color: #008080\">root://mover.pp.rl.ac.uk:1094/pnfs/pp.rl.ac.uk/data/cms//store/data/Run2018C/SingleMuon/NANOAOD/UL2018_Mini</span>\n",
       "        <span style=\"color: #008080; text-decoration-color: #008080\">AODv2_NanoAODv9_GT36-v1/2520000/F6E44EA5-F4C6-E746-AD43-7A263F1E316E.root</span>\n",
       "</pre>\n"
      ],
      "text/plain": [
       "Replicas for \u001b[32m/SingleMuon/Run2018C-UL2018_MiniAODv2_NanoAODv9_GT36-v1/NANOAOD\u001b[0m\n",
       "├── \u001b[32mT2_CH_CERN\u001b[0m\n",
       "│   ├── \u001b[36mroot://eoscms.cern.ch//eos/cms//store/data/Run2018C/SingleMuon/NANOAOD/UL2018_MiniAODv2_NanoAODv9_GT36-v1/2\u001b[0m\n",
       "│   │   \u001b[36m520000/0144EC47-BFA3-EA43-BF05-BD4248ED6031.root\u001b[0m\n",
       "│   ├── \u001b[36mroot://eoscms.cern.ch//eos/cms//store/data/Run2018C/SingleMuon/NANOAOD/UL2018_MiniAODv2_NanoAODv9_GT36-v1/2\u001b[0m\n",
       "│   │   \u001b[36m520000/1DD0FAC6-3087-E44E-ABCB-8AF812C1310D.root\u001b[0m\n",
       "│   ├── \u001b[36mroot://eoscms.cern.ch//eos/cms//store/data/Run2018C/SingleMuon/NANOAOD/UL2018_MiniAODv2_NanoAODv9_GT36-v1/2\u001b[0m\n",
       "│   │   \u001b[36m520000/2747DEFE-A247-1F42-B0EF-E7B7F1D3FCD6.root\u001b[0m\n",
       "│   ├── \u001b[36mroot://eoscms.cern.ch//eos/cms//store/data/Run2018C/SingleMuon/NANOAOD/UL2018_MiniAODv2_NanoAODv9_GT36-v1/2\u001b[0m\n",
       "│   │   \u001b[36m520000/2DA9130E-8423-304C-9902-1E42CD72E658.root\u001b[0m\n",
       "│   ├── \u001b[36mroot://eoscms.cern.ch//eos/cms//store/data/Run2018C/SingleMuon/NANOAOD/UL2018_MiniAODv2_NanoAODv9_GT36-v1/2\u001b[0m\n",
       "│   │   \u001b[36m520000/39D52C69-2035-A24B-A413-40976993651D.root\u001b[0m\n",
       "│   ├── \u001b[36mroot://eoscms.cern.ch//eos/cms//store/data/Run2018C/SingleMuon/NANOAOD/UL2018_MiniAODv2_NanoAODv9_GT36-v1/2\u001b[0m\n",
       "│   │   \u001b[36m520000/69ABD79C-C684-8244-9F0D-153C6B8C2D9C.root\u001b[0m\n",
       "│   ├── \u001b[36mroot://eoscms.cern.ch//eos/cms//store/data/Run2018C/SingleMuon/NANOAOD/UL2018_MiniAODv2_NanoAODv9_GT36-v1/2\u001b[0m\n",
       "│   │   \u001b[36m520000/7CCCB2C3-F210-2C42-85DF-AA00293FACFB.root\u001b[0m\n",
       "│   └── \u001b[36mroot://eoscms.cern.ch//eos/cms//store/data/Run2018C/SingleMuon/NANOAOD/UL2018_MiniAODv2_NanoAODv9_GT36-v1/2\u001b[0m\n",
       "│       \u001b[36m520000/F34F4F00-3370-EF4D-AF44-39E474E6530F.root\u001b[0m\n",
       "├── \u001b[32mT3_FR_IPNL\u001b[0m\n",
       "│   ├── \u001b[36mroot://lyogrid06.in2p3.fr//dpm/in2p3.fr/home/cms/data//store/data/Run2018C/SingleMuon/NANOAOD/UL2018_MiniAO\u001b[0m\n",
       "│   │   \u001b[36mDv2_NanoAODv9_GT36-v1/2520000/0C9615C1-7EE6-CD44-8FC0-04F63B2C16FD.root\u001b[0m\n",
       "│   ├── \u001b[36mroot://lyogrid06.in2p3.fr//dpm/in2p3.fr/home/cms/data//store/data/Run2018C/SingleMuon/NANOAOD/UL2018_MiniAO\u001b[0m\n",
       "│   │   \u001b[36mDv2_NanoAODv9_GT36-v1/2520000/30A3A1AB-2F27-C84E-9437-6BB3881F6856.root\u001b[0m\n",
       "│   ├── \u001b[36mroot://lyogrid06.in2p3.fr//dpm/in2p3.fr/home/cms/data//store/data/Run2018C/SingleMuon/NANOAOD/UL2018_MiniAO\u001b[0m\n",
       "│   │   \u001b[36mDv2_NanoAODv9_GT36-v1/2520000/410C32AB-DEB5-404F-BC6B-92E8F560563F.root\u001b[0m\n",
       "│   ├── \u001b[36mroot://lyogrid06.in2p3.fr//dpm/in2p3.fr/home/cms/data//store/data/Run2018C/SingleMuon/NANOAOD/UL2018_MiniAO\u001b[0m\n",
       "│   │   \u001b[36mDv2_NanoAODv9_GT36-v1/2520000/42DC0F42-82E8-BE47-B04D-544B67274829.root\u001b[0m\n",
       "│   ├── \u001b[36mroot://lyogrid06.in2p3.fr//dpm/in2p3.fr/home/cms/data//store/data/Run2018C/SingleMuon/NANOAOD/UL2018_MiniAO\u001b[0m\n",
       "│   │   \u001b[36mDv2_NanoAODv9_GT36-v1/2520000/62789325-3C0B-FC4D-B578-B41A396399E4.root\u001b[0m\n",
       "│   ├── \u001b[36mroot://lyogrid06.in2p3.fr//dpm/in2p3.fr/home/cms/data//store/data/Run2018C/SingleMuon/NANOAOD/UL2018_MiniAO\u001b[0m\n",
       "│   │   \u001b[36mDv2_NanoAODv9_GT36-v1/2520000/6809B5E3-6DE6-1541-AE4C-E1804C877EDE.root\u001b[0m\n",
       "│   ├── \u001b[36mroot://lyogrid06.in2p3.fr//dpm/in2p3.fr/home/cms/data//store/data/Run2018C/SingleMuon/NANOAOD/UL2018_MiniAO\u001b[0m\n",
       "│   │   \u001b[36mDv2_NanoAODv9_GT36-v1/2520000/78AC6A39-C303-EB44-9264-71819CC70FCC.root\u001b[0m\n",
       "│   ├── \u001b[36mroot://lyogrid06.in2p3.fr//dpm/in2p3.fr/home/cms/data//store/data/Run2018C/SingleMuon/NANOAOD/UL2018_MiniAO\u001b[0m\n",
       "│   │   \u001b[36mDv2_NanoAODv9_GT36-v1/2520000/A350E2E4-705C-2C4D-9B11-3436056EEBE7.root\u001b[0m\n",
       "│   ├── \u001b[36mroot://lyogrid06.in2p3.fr//dpm/in2p3.fr/home/cms/data//store/data/Run2018C/SingleMuon/NANOAOD/UL2018_MiniAO\u001b[0m\n",
       "│   │   \u001b[36mDv2_NanoAODv9_GT36-v1/2520000/FCAF4145-8E3F-2142-BDCB-5E276523B592.root\u001b[0m\n",
       "│   └── \u001b[36mroot://lyogrid06.in2p3.fr//dpm/in2p3.fr/home/cms/data//store/data/Run2018C/SingleMuon/NANOAOD/UL2018_MiniAO\u001b[0m\n",
       "│       \u001b[36mDv2_NanoAODv9_GT36-v1/2520000/FE3D79A6-27D4-8948-A89B-2F966C5B29D4.root\u001b[0m\n",
       "├── \u001b[32mT2_UK_London_IC\u001b[0m\n",
       "│   ├── \u001b[36mroot://gfe02.grid.hep.ph.ic.ac.uk:1094//pnfs/hep.ph.ic.ac.uk/data/cms//store/data/Run2018C/SingleMuon/NANOA\u001b[0m\n",
       "│   │   \u001b[36mOD/UL2018_MiniAODv2_NanoAODv9_GT36-v1/2520000/12FAE9F1-7139-924C-A8DE-9699A00FC994.root\u001b[0m\n",
       "│   ├── \u001b[36mroot://gfe02.grid.hep.ph.ic.ac.uk:1094//pnfs/hep.ph.ic.ac.uk/data/cms//store/data/Run2018C/SingleMuon/NANOA\u001b[0m\n",
       "│   │   \u001b[36mOD/UL2018_MiniAODv2_NanoAODv9_GT36-v1/2520000/63047CC0-38C6-F74C-9A00-0DF9050F7CF1.root\u001b[0m\n",
       "│   ├── \u001b[36mroot://gfe02.grid.hep.ph.ic.ac.uk:1094//pnfs/hep.ph.ic.ac.uk/data/cms//store/data/Run2018C/SingleMuon/NANOA\u001b[0m\n",
       "│   │   \u001b[36mOD/UL2018_MiniAODv2_NanoAODv9_GT36-v1/2520000/8369B0EA-E4CC-AC4D-BD3F-0679B3310E09.root\u001b[0m\n",
       "│   ├── \u001b[36mroot://gfe02.grid.hep.ph.ic.ac.uk:1094//pnfs/hep.ph.ic.ac.uk/data/cms//store/data/Run2018C/SingleMuon/NANOA\u001b[0m\n",
       "│   │   \u001b[36mOD/UL2018_MiniAODv2_NanoAODv9_GT36-v1/2520000/AE014F55-84BE-E84E-B447-0B614070CD17.root\u001b[0m\n",
       "│   ├── \u001b[36mroot://gfe02.grid.hep.ph.ic.ac.uk:1094//pnfs/hep.ph.ic.ac.uk/data/cms//store/data/Run2018C/SingleMuon/NANOA\u001b[0m\n",
       "│   │   \u001b[36mOD/UL2018_MiniAODv2_NanoAODv9_GT36-v1/2520000/F16A9138-7563-E540-B6AD-8A8A688B3830.root\u001b[0m\n",
       "│   └── \u001b[36mroot://gfe02.grid.hep.ph.ic.ac.uk:1094//pnfs/hep.ph.ic.ac.uk/data/cms//store/data/Run2018C/SingleMuon/NANOA\u001b[0m\n",
       "│       \u001b[36mOD/UL2018_MiniAODv2_NanoAODv9_GT36-v1/2520000/FAF0C67B-A8B4-8A4F-83B1-E43675CE9630.root\u001b[0m\n",
       "├── \u001b[32mT1_FR_CCIN2P3_Disk\u001b[0m\n",
       "│   ├── \u001b[36mroot://ccxrdcms.in2p3.fr:1094/pnfs/in2p3.fr/data/cms/disk/data//store/data/Run2018C/SingleMuon/NANOAOD/UL20\u001b[0m\n",
       "│   │   \u001b[36m18_MiniAODv2_NanoAODv9_GT36-v1/2520000/152C304A-97AD-1649-BCB6-3EA0CCD0DD33.root\u001b[0m\n",
       "│   ├── \u001b[36mroot://ccxrdcms.in2p3.fr:1094/pnfs/in2p3.fr/data/cms/disk/data//store/data/Run2018C/SingleMuon/NANOAOD/UL20\u001b[0m\n",
       "│   │   \u001b[36m18_MiniAODv2_NanoAODv9_GT36-v1/2520000/37312354-59AB-E44B-BC94-CF424D4B7DDB.root\u001b[0m\n",
       "│   ├── \u001b[36mroot://ccxrdcms.in2p3.fr:1094/pnfs/in2p3.fr/data/cms/disk/data//store/data/Run2018C/SingleMuon/NANOAOD/UL20\u001b[0m\n",
       "│   │   \u001b[36m18_MiniAODv2_NanoAODv9_GT36-v1/2520000/7B14228A-5331-DF4E-B677-7B8AA281D460.root\u001b[0m\n",
       "│   ├── \u001b[36mroot://ccxrdcms.in2p3.fr:1094/pnfs/in2p3.fr/data/cms/disk/data//store/data/Run2018C/SingleMuon/NANOAOD/UL20\u001b[0m\n",
       "│   │   \u001b[36m18_MiniAODv2_NanoAODv9_GT36-v1/2520000/7B181B92-AA2C-1E44-86FE-B074D359BBB3.root\u001b[0m\n",
       "│   ├── \u001b[36mroot://ccxrdcms.in2p3.fr:1094/pnfs/in2p3.fr/data/cms/disk/data//store/data/Run2018C/SingleMuon/NANOAOD/UL20\u001b[0m\n",
       "│   │   \u001b[36m18_MiniAODv2_NanoAODv9_GT36-v1/2520000/C4F476DA-3D00-334B-867C-7E12F94EE3AB.root\u001b[0m\n",
       "│   ├── \u001b[36mroot://ccxrdcms.in2p3.fr:1094/pnfs/in2p3.fr/data/cms/disk/data//store/data/Run2018C/SingleMuon/NANOAOD/UL20\u001b[0m\n",
       "│   │   \u001b[36m18_MiniAODv2_NanoAODv9_GT36-v1/2520000/D8D41BBC-D514-D342-A514-CCF48575D184.root\u001b[0m\n",
       "│   └── \u001b[36mroot://ccxrdcms.in2p3.fr:1094/pnfs/in2p3.fr/data/cms/disk/data//store/data/Run2018C/SingleMuon/NANOAOD/UL20\u001b[0m\n",
       "│       \u001b[36m18_MiniAODv2_NanoAODv9_GT36-v1/2520000/FE5EEFA5-C07A-5C44-B66D-5B31BE02C7D3.root\u001b[0m\n",
       "├── \u001b[32mT2_FR_IPHC\u001b[0m\n",
       "│   └── \u001b[36mroot://sbgdcache.in2p3.fr///store/data/Run2018C/SingleMuon/NANOAOD/UL2018_MiniAODv2_NanoAODv9_GT36-v1/25200\u001b[0m\n",
       "│       \u001b[36m00/1CEB718A-7DC1-C74A-A7BE-A3C8D9FA785A.root\u001b[0m\n",
       "├── \u001b[32mT2_DE_DESY\u001b[0m\n",
       "│   ├── \u001b[36mroot://dcache-cms-xrootd.desy.de:1094//store/data/Run2018C/SingleMuon/NANOAOD/UL2018_MiniAODv2_NanoAODv9_GT\u001b[0m\n",
       "│   │   \u001b[36m36-v1/2520000/26FC8C40-EA29-804C-B17D-84FB1C6BC505.root\u001b[0m\n",
       "│   ├── \u001b[36mroot://dcache-cms-xrootd.desy.de:1094//store/data/Run2018C/SingleMuon/NANOAOD/UL2018_MiniAODv2_NanoAODv9_GT\u001b[0m\n",
       "│   │   \u001b[36m36-v1/2520000/2D58C3FE-512A-1F48-9AEB-6F80379B8F4A.root\u001b[0m\n",
       "│   ├── \u001b[36mroot://dcache-cms-xrootd.desy.de:1094//store/data/Run2018C/SingleMuon/NANOAOD/UL2018_MiniAODv2_NanoAODv9_GT\u001b[0m\n",
       "│   │   \u001b[36m36-v1/2520000/459261DD-4441-6047-9FF2-1EDE468452C9.root\u001b[0m\n",
       "│   ├── \u001b[36mroot://dcache-cms-xrootd.desy.de:1094//store/data/Run2018C/SingleMuon/NANOAOD/UL2018_MiniAODv2_NanoAODv9_GT\u001b[0m\n",
       "│   │   \u001b[36m36-v1/2520000/51515E3C-C640-3A4C-A16C-DC267FD142BF.root\u001b[0m\n",
       "│   ├── \u001b[36mroot://dcache-cms-xrootd.desy.de:1094//store/data/Run2018C/SingleMuon/NANOAOD/UL2018_MiniAODv2_NanoAODv9_GT\u001b[0m\n",
       "│   │   \u001b[36m36-v1/2520000/648ECD9C-8AAA-BB46-8683-C8987CCC73B9.root\u001b[0m\n",
       "│   ├── \u001b[36mroot://dcache-cms-xrootd.desy.de:1094//store/data/Run2018C/SingleMuon/NANOAOD/UL2018_MiniAODv2_NanoAODv9_GT\u001b[0m\n",
       "│   │   \u001b[36m36-v1/2520000/74A75B73-E5B8-C942-BBC9-1DDDD7F752FB.root\u001b[0m\n",
       "│   ├── \u001b[36mroot://dcache-cms-xrootd.desy.de:1094//store/data/Run2018C/SingleMuon/NANOAOD/UL2018_MiniAODv2_NanoAODv9_GT\u001b[0m\n",
       "│   │   \u001b[36m36-v1/2520000/81CEA7BA-9E66-BC4F-A96F-32642D59B653.root\u001b[0m\n",
       "│   ├── \u001b[36mroot://dcache-cms-xrootd.desy.de:1094//store/data/Run2018C/SingleMuon/NANOAOD/UL2018_MiniAODv2_NanoAODv9_GT\u001b[0m\n",
       "│   │   \u001b[36m36-v1/2520000/8223C4A3-D4BD-6A4B-A513-54B6668C7122.root\u001b[0m\n",
       "│   ├── \u001b[36mroot://dcache-cms-xrootd.desy.de:1094//store/data/Run2018C/SingleMuon/NANOAOD/UL2018_MiniAODv2_NanoAODv9_GT\u001b[0m\n",
       "│   │   \u001b[36m36-v1/2520000/8C8690F8-4FEE-1047-85F4-29E414B3D12C.root\u001b[0m\n",
       "│   ├── \u001b[36mroot://dcache-cms-xrootd.desy.de:1094//store/data/Run2018C/SingleMuon/NANOAOD/UL2018_MiniAODv2_NanoAODv9_GT\u001b[0m\n",
       "│   │   \u001b[36m36-v1/2520000/B78A9B75-3B32-CF4E-A144-375189CF48AE.root\u001b[0m\n",
       "│   ├── \u001b[36mroot://dcache-cms-xrootd.desy.de:1094//store/data/Run2018C/SingleMuon/NANOAOD/UL2018_MiniAODv2_NanoAODv9_GT\u001b[0m\n",
       "│   │   \u001b[36m36-v1/2520000/BAAA6E00-7AC3-9947-9262-D9833D3A8B19.root\u001b[0m\n",
       "│   ├── \u001b[36mroot://dcache-cms-xrootd.desy.de:1094//store/data/Run2018C/SingleMuon/NANOAOD/UL2018_MiniAODv2_NanoAODv9_GT\u001b[0m\n",
       "│   │   \u001b[36m36-v1/2520000/BCBF89A2-329C-744B-A38F-139EA8F94007.root\u001b[0m\n",
       "│   ├── \u001b[36mroot://dcache-cms-xrootd.desy.de:1094//store/data/Run2018C/SingleMuon/NANOAOD/UL2018_MiniAODv2_NanoAODv9_GT\u001b[0m\n",
       "│   │   \u001b[36m36-v1/2520000/CBD43A1E-AE2F-0B4D-A642-29FB2E9EB33B.root\u001b[0m\n",
       "│   ├── \u001b[36mroot://dcache-cms-xrootd.desy.de:1094//store/data/Run2018C/SingleMuon/NANOAOD/UL2018_MiniAODv2_NanoAODv9_GT\u001b[0m\n",
       "│   │   \u001b[36m36-v1/2520000/D40D1285-B075-D446-B1BF-86A463EF6993.root\u001b[0m\n",
       "│   ├── \u001b[36mroot://dcache-cms-xrootd.desy.de:1094//store/data/Run2018C/SingleMuon/NANOAOD/UL2018_MiniAODv2_NanoAODv9_GT\u001b[0m\n",
       "│   │   \u001b[36m36-v1/2520000/DA47C0B6-BCAB-C54C-A6BF-B0A64E88E3D4.root\u001b[0m\n",
       "│   ├── \u001b[36mroot://dcache-cms-xrootd.desy.de:1094//store/data/Run2018C/SingleMuon/NANOAOD/UL2018_MiniAODv2_NanoAODv9_GT\u001b[0m\n",
       "│   │   \u001b[36m36-v1/2520000/ECD4877E-707B-EA43-A38B-D1B700FBDE79.root\u001b[0m\n",
       "│   ├── \u001b[36mroot://dcache-cms-xrootd.desy.de:1094//store/data/Run2018C/SingleMuon/NANOAOD/UL2018_MiniAODv2_NanoAODv9_GT\u001b[0m\n",
       "│   │   \u001b[36m36-v1/2520000/ED95384D-9D3D-AE45-8425-C4C080E691C5.root\u001b[0m\n",
       "│   └── \u001b[36mroot://dcache-cms-xrootd.desy.de:1094//store/data/Run2018C/SingleMuon/NANOAOD/UL2018_MiniAODv2_NanoAODv9_GT\u001b[0m\n",
       "│       \u001b[36m36-v1/2520000/F1B3977A-E777-EC4D-8FC7-981FE4ED5E0C.root\u001b[0m\n",
       "├── \u001b[32mT1_DE_KIT_Disk\u001b[0m\n",
       "│   ├── \u001b[36mroot://cmsxrootd-kit-disk.gridka.de:1094///store/data/Run2018C/SingleMuon/NANOAOD/UL2018_MiniAODv2_NanoAODv\u001b[0m\n",
       "│   │   \u001b[36m9_GT36-v1/2520000/365F32F6-F971-1B4D-8E9D-C0ACD74FFB03.root\u001b[0m\n",
       "│   ├── \u001b[36mroot://cmsxrootd-kit-disk.gridka.de:1094///store/data/Run2018C/SingleMuon/NANOAOD/UL2018_MiniAODv2_NanoAODv\u001b[0m\n",
       "│   │   \u001b[36m9_GT36-v1/2520000/3FE5B677-9AB3-0245-A1CF-4B320592F18F.root\u001b[0m\n",
       "│   ├── \u001b[36mroot://cmsxrootd-kit-disk.gridka.de:1094///store/data/Run2018C/SingleMuon/NANOAOD/UL2018_MiniAODv2_NanoAODv\u001b[0m\n",
       "│   │   \u001b[36m9_GT36-v1/2520000/6DDF448B-4605-5C41-9711-1C73EC5F01D3.root\u001b[0m\n",
       "│   ├── \u001b[36mroot://cmsxrootd-kit-disk.gridka.de:1094///store/data/Run2018C/SingleMuon/NANOAOD/UL2018_MiniAODv2_NanoAODv\u001b[0m\n",
       "│   │   \u001b[36m9_GT36-v1/2520000/6EAA5EDB-0DB3-6E40-87DC-7AB582295D29.root\u001b[0m\n",
       "│   └── \u001b[36mroot://cmsxrootd-kit-disk.gridka.de:1094///store/data/Run2018C/SingleMuon/NANOAOD/UL2018_MiniAODv2_NanoAODv\u001b[0m\n",
       "│       \u001b[36m9_GT36-v1/2520000/7DEA3718-B7BC-EE42-A8BE-11C62BB8536D.root\u001b[0m\n",
       "├── \u001b[32mT2_DE_RWTH\u001b[0m\n",
       "│   ├── \u001b[36mroot://grid-cms-xrootd.physik.rwth-aachen.de:1094///store/data/Run2018C/SingleMuon/NANOAOD/UL2018_MiniAODv2\u001b[0m\n",
       "│   │   \u001b[36m_NanoAODv9_GT36-v1/2520000/59DA0585-BD57-CE49-A15E-CDBAC5473EDE.root\u001b[0m\n",
       "│   ├── \u001b[36mroot://grid-cms-xrootd.physik.rwth-aachen.de:1094///store/data/Run2018C/SingleMuon/NANOAOD/UL2018_MiniAODv2\u001b[0m\n",
       "│   │   \u001b[36m_NanoAODv9_GT36-v1/2520000/A59D511A-A419-714F-8EE1-8B8BAFEC04D5.root\u001b[0m\n",
       "│   └── \u001b[36mroot://grid-cms-xrootd.physik.rwth-aachen.de:1094///store/data/Run2018C/SingleMuon/NANOAOD/UL2018_MiniAODv2\u001b[0m\n",
       "│       \u001b[36m_NanoAODv9_GT36-v1/2520000/B9E9087C-255C-C24D-A733-FB9291DC7C3C.root\u001b[0m\n",
       "├── \u001b[32mT1_IT_CNAF_Disk\u001b[0m\n",
       "│   ├── \u001b[36mroot://xrootd-cms.infn.it:1194///store/data/Run2018C/SingleMuon/NANOAOD/UL2018_MiniAODv2_NanoAODv9_GT36-v1/\u001b[0m\n",
       "│   │   \u001b[36m2520000/A74EFE57-BAD2-C143-B8DC-817CE4F96FD7.root\u001b[0m\n",
       "│   ├── \u001b[36mroot://xrootd-cms.infn.it:1194///store/data/Run2018C/SingleMuon/NANOAOD/UL2018_MiniAODv2_NanoAODv9_GT36-v1/\u001b[0m\n",
       "│   │   \u001b[36m2520000/AB8DD69D-A522-D44C-BB9C-209623F7D41A.root\u001b[0m\n",
       "│   ├── \u001b[36mroot://xrootd-cms.infn.it:1194///store/data/Run2018C/SingleMuon/NANOAOD/UL2018_MiniAODv2_NanoAODv9_GT36-v1/\u001b[0m\n",
       "│   │   \u001b[36m2520000/B3487FE0-B172-AD47-A13A-388C0A9BF93F.root\u001b[0m\n",
       "│   ├── \u001b[36mroot://xrootd-cms.infn.it:1194///store/data/Run2018C/SingleMuon/NANOAOD/UL2018_MiniAODv2_NanoAODv9_GT36-v1/\u001b[0m\n",
       "│   │   \u001b[36m2520000/CDD2CDF9-72D0-4045-B28F-89002077FB89.root\u001b[0m\n",
       "│   ├── \u001b[36mroot://xrootd-cms.infn.it:1194///store/data/Run2018C/SingleMuon/NANOAOD/UL2018_MiniAODv2_NanoAODv9_GT36-v1/\u001b[0m\n",
       "│   │   \u001b[36m2520000/D7875684-9F26-084E-9B2B-5E9BB5D353E8.root\u001b[0m\n",
       "│   └── \u001b[36mroot://xrootd-cms.infn.it:1194///store/data/Run2018C/SingleMuon/NANOAOD/UL2018_MiniAODv2_NanoAODv9_GT36-v1/\u001b[0m\n",
       "│       \u001b[36m2520000/F09135D8-FCBE-AF40-BCE8-03A529C5C87F.root\u001b[0m\n",
       "└── \u001b[32mT2_UK_SGrid_RALPP\u001b[0m\n",
       "    ├── \u001b[36mroot://mover.pp.rl.ac.uk:1094/pnfs/pp.rl.ac.uk/data/cms//store/data/Run2018C/SingleMuon/NANOAOD/UL2018_Mini\u001b[0m\n",
       "    │   \u001b[36mAODv2_NanoAODv9_GT36-v1/2520000/B1B449CE-5952-8347-A9A7-35FE231D0C72.root\u001b[0m\n",
       "    ├── \u001b[36mroot://mover.pp.rl.ac.uk:1094/pnfs/pp.rl.ac.uk/data/cms//store/data/Run2018C/SingleMuon/NANOAOD/UL2018_Mini\u001b[0m\n",
       "    │   \u001b[36mAODv2_NanoAODv9_GT36-v1/2520000/BA02D468-A8CE-4F49-884F-F836BB481AD5.root\u001b[0m\n",
       "    └── \u001b[36mroot://mover.pp.rl.ac.uk:1094/pnfs/pp.rl.ac.uk/data/cms//store/data/Run2018C/SingleMuon/NANOAOD/UL2018_Mini\u001b[0m\n",
       "        \u001b[36mAODv2_NanoAODv9_GT36-v1/2520000/F6E44EA5-F4C6-E746-AD43-7A263F1E316E.root\u001b[0m\n"
      ]
     },
     "metadata": {},
     "output_type": "display_data"
    },
    {
     "data": {
      "text/html": [
       "<pre style=\"white-space:pre;overflow-x:auto;line-height:normal;font-family:Menlo,'DejaVu Sans Mono',consolas,'Courier New',monospace\"><span style=\"color: #008080; text-decoration-color: #008080\">Selected datasets:</span>\n",
       "</pre>\n"
      ],
      "text/plain": [
       "\u001b[36mSelected datasets:\u001b[0m\n"
      ]
     },
     "metadata": {},
     "output_type": "display_data"
    },
    {
     "data": {
      "text/html": [
       "<pre style=\"white-space:pre;overflow-x:auto;line-height:normal;font-family:Menlo,'DejaVu Sans Mono',consolas,'Courier New',monospace\"><span style=\"font-style: italic\">                                                 Selected datasets                                                 </span>\n",
       "┏━━━┳━━━━━━━━━━━━━━━━━━━━━━━━━━━━━━━━━━━━━━━━━━━━━━━━━━━━━━━━━━━━━━━━━━━━━━━━━━━━━━━━━━━━━━━━━━━━━━━━━━━━━━━━━━━┳┳┓\n",
       "┃<span style=\"font-weight: bold\"> … </span>┃<span style=\"font-weight: bold\"> Dataset                                                                                                   </span>┃<span style=\"font-weight: bold\"></span>┃<span style=\"font-weight: bold\"></span>┃\n",
       "┡━━━╇━━━━━━━━━━━━━━━━━━━━━━━━━━━━━━━━━━━━━━━━━━━━━━━━━━━━━━━━━━━━━━━━━━━━━━━━━━━━━━━━━━━━━━━━━━━━━━━━━━━━━━━━━━━╇╇┩\n",
       "│<span style=\"color: #008080; text-decoration-color: #008080\"> 1 </span>│<span style=\"color: #800080; text-decoration-color: #800080\"> /DYJetsToLL_M-50_TuneCP5_13TeV-amcatnloFXFX-pythia8/RunIISummer20UL18NanoAODv9-106X_upgrade2018_realisti… </span>│││\n",
       "│<span style=\"color: #008080; text-decoration-color: #008080\"> 2 </span>│<span style=\"color: #800080; text-decoration-color: #800080\"> /SingleMuon/Run2018C-UL2018_MiniAODv2_NanoAODv9_GT36-v1/NANOAOD                                           </span>│││\n",
       "└───┴───────────────────────────────────────────────────────────────────────────────────────────────────────────┴┴┘\n",
       "</pre>\n"
      ],
      "text/plain": [
       "\u001b[3m                                                 Selected datasets                                                 \u001b[0m\n",
       "┏━━━┳━━━━━━━━━━━━━━━━━━━━━━━━━━━━━━━━━━━━━━━━━━━━━━━━━━━━━━━━━━━━━━━━━━━━━━━━━━━━━━━━━━━━━━━━━━━━━━━━━━━━━━━━━━━┳┳┓\n",
       "┃\u001b[1m \u001b[0m\u001b[1m…\u001b[0m\u001b[1m \u001b[0m┃\u001b[1m \u001b[0m\u001b[1mDataset                                                                                                  \u001b[0m\u001b[1m \u001b[0m┃┃┃\n",
       "┡━━━╇━━━━━━━━━━━━━━━━━━━━━━━━━━━━━━━━━━━━━━━━━━━━━━━━━━━━━━━━━━━━━━━━━━━━━━━━━━━━━━━━━━━━━━━━━━━━━━━━━━━━━━━━━━━╇╇┩\n",
       "│\u001b[36m \u001b[0m\u001b[36m1\u001b[0m\u001b[36m \u001b[0m│\u001b[35m \u001b[0m\u001b[35m/DYJetsToLL_M-50_TuneCP5_13TeV-amcatnloFXFX-pythia8/RunIISummer20UL18NanoAODv9-106X_upgrade2018_realisti…\u001b[0m\u001b[35m \u001b[0m│││\n",
       "│\u001b[36m \u001b[0m\u001b[36m2\u001b[0m\u001b[36m \u001b[0m│\u001b[35m \u001b[0m\u001b[35m/SingleMuon/Run2018C-UL2018_MiniAODv2_NanoAODv9_GT36-v1/NANOAOD                                          \u001b[0m\u001b[35m \u001b[0m│││\n",
       "└───┴───────────────────────────────────────────────────────────────────────────────────────────────────────────┴┴┘\n"
      ]
     },
     "metadata": {},
     "output_type": "display_data"
    }
   ],
   "source": [
    "ddc = DataDiscoveryCLI()\n",
    "ddc.do_regex_sites(r\"T[123]_(CH|IT|UK|FR|DE)_\\w+\")\n",
    "ddc.load_dataset_definition(dataset_definition, \n",
    "                           query_results_strategy=\"all\",\n",
    "                           replicas_strategy=\"round-robin\")"
   ]
  },
  {
   "cell_type": "code",
   "execution_count": 18,
   "id": "dd9ca4ea-039d-4ebb-bbf2-79092ba6e7d0",
   "metadata": {},
   "outputs": [
    {
     "data": {
      "text/html": [
       "<pre style=\"white-space:pre;overflow-x:auto;line-height:normal;font-family:Menlo,'DejaVu Sans Mono',consolas,'Courier New',monospace\"><span style=\"color: #008080; text-decoration-color: #008080\">Selected datasets:</span>\n",
       "</pre>\n"
      ],
      "text/plain": [
       "\u001b[36mSelected datasets:\u001b[0m\n"
      ]
     },
     "metadata": {},
     "output_type": "display_data"
    },
    {
     "data": {
      "text/html": [
       "<pre style=\"white-space:pre;overflow-x:auto;line-height:normal;font-family:Menlo,'DejaVu Sans Mono',consolas,'Courier New',monospace\"><span style=\"font-style: italic\">                                                 Selected datasets                                                 </span>\n",
       "┏━━━┳━━━━━━━━━━━━━━━━━━━━━━━━━━━━━━━━━━━━━━━━━━━━━━━━━━━━━━━━━━━━━━━━━━━━━━━━━━━━━━━━━━━━━━━━━━━━━━━━━━━━━━━━━━━┳┳┓\n",
       "┃<span style=\"font-weight: bold\"> … </span>┃<span style=\"font-weight: bold\"> Dataset                                                                                                   </span>┃<span style=\"font-weight: bold\"></span>┃<span style=\"font-weight: bold\"></span>┃\n",
       "┡━━━╇━━━━━━━━━━━━━━━━━━━━━━━━━━━━━━━━━━━━━━━━━━━━━━━━━━━━━━━━━━━━━━━━━━━━━━━━━━━━━━━━━━━━━━━━━━━━━━━━━━━━━━━━━━━╇╇┩\n",
       "│<span style=\"color: #008080; text-decoration-color: #008080\"> 1 </span>│<span style=\"color: #800080; text-decoration-color: #800080\"> /DYJetsToLL_M-50_TuneCP5_13TeV-amcatnloFXFX-pythia8/RunIISummer20UL18NanoAODv9-106X_upgrade2018_realisti… </span>│││\n",
       "│<span style=\"color: #008080; text-decoration-color: #008080\"> 2 </span>│<span style=\"color: #800080; text-decoration-color: #800080\"> /SingleMuon/Run2018C-UL2018_MiniAODv2_NanoAODv9_GT36-v1/NANOAOD                                           </span>│││\n",
       "└───┴───────────────────────────────────────────────────────────────────────────────────────────────────────────┴┴┘\n",
       "</pre>\n"
      ],
      "text/plain": [
       "\u001b[3m                                                 Selected datasets                                                 \u001b[0m\n",
       "┏━━━┳━━━━━━━━━━━━━━━━━━━━━━━━━━━━━━━━━━━━━━━━━━━━━━━━━━━━━━━━━━━━━━━━━━━━━━━━━━━━━━━━━━━━━━━━━━━━━━━━━━━━━━━━━━━┳┳┓\n",
       "┃\u001b[1m \u001b[0m\u001b[1m…\u001b[0m\u001b[1m \u001b[0m┃\u001b[1m \u001b[0m\u001b[1mDataset                                                                                                  \u001b[0m\u001b[1m \u001b[0m┃┃┃\n",
       "┡━━━╇━━━━━━━━━━━━━━━━━━━━━━━━━━━━━━━━━━━━━━━━━━━━━━━━━━━━━━━━━━━━━━━━━━━━━━━━━━━━━━━━━━━━━━━━━━━━━━━━━━━━━━━━━━━╇╇┩\n",
       "│\u001b[36m \u001b[0m\u001b[36m1\u001b[0m\u001b[36m \u001b[0m│\u001b[35m \u001b[0m\u001b[35m/DYJetsToLL_M-50_TuneCP5_13TeV-amcatnloFXFX-pythia8/RunIISummer20UL18NanoAODv9-106X_upgrade2018_realisti…\u001b[0m\u001b[35m \u001b[0m│││\n",
       "│\u001b[36m \u001b[0m\u001b[36m2\u001b[0m\u001b[36m \u001b[0m│\u001b[35m \u001b[0m\u001b[35m/SingleMuon/Run2018C-UL2018_MiniAODv2_NanoAODv9_GT36-v1/NANOAOD                                          \u001b[0m\u001b[35m \u001b[0m│││\n",
       "└───┴───────────────────────────────────────────────────────────────────────────────────────────────────────────┴┴┘\n"
      ]
     },
     "metadata": {},
     "output_type": "display_data"
    }
   ],
   "source": [
    "ddc.do_list_selected()"
   ]
  },
  {
   "cell_type": "markdown",
   "id": "a6ffbefb-8276-4733-aedb-cc12898f4ed8",
   "metadata": {},
   "source": [
    "### Save the replicas metadata"
   ]
  },
  {
   "cell_type": "code",
   "execution_count": 20,
   "id": "b0e3e4b8-34d4-4558-988a-edacd1df9b37",
   "metadata": {},
   "outputs": [
    {
     "data": {
      "text/html": [
       "<pre style=\"white-space:pre;overflow-x:auto;line-height:normal;font-family:Menlo,'DejaVu Sans Mono',consolas,'Courier New',monospace\"><span style=\"color: #008000; text-decoration-color: #008000\">File replicas_info.json saved!</span>\n",
       "</pre>\n"
      ],
      "text/plain": [
       "\u001b[32mFile replicas_info.json saved!\u001b[0m\n"
      ]
     },
     "metadata": {},
     "output_type": "display_data"
    }
   ],
   "source": [
    "ddc.do_save(\"replicas_info.json\")"
   ]
  },
  {
   "cell_type": "markdown",
   "id": "f9f6a70b-0194-4b00-ab79-4fdb0b4fa0cf",
   "metadata": {},
   "source": [
    "## DataDiscoveryCLI from shell"
   ]
  },
  {
   "cell_type": "markdown",
   "id": "7237fc9e-50b8-4cc4-9c51-9674fbf4358a",
   "metadata": {},
   "source": [
    "The DataDiscoveryCLI can be used directly from CLI"
   ]
  },
  {
   "cell_type": "code",
   "execution_count": 35,
   "id": "2c075f2e-a06e-4c97-b5b6-6a6806571a9a",
   "metadata": {},
   "outputs": [
    {
     "name": "stdout",
     "output_type": "stream",
     "text": [
      "usage: dataset_query.py [-h] [--cli] [-d DATASET_DEFINITION] [-o OUTPUT]\n",
      "                        [-fo FILESET_OUTPUT] [-p] [--step-size STEP_SIZE]\n",
      "                        [--dask-cluster DASK_CLUSTER]\n",
      "                        [-as ALLOW_SITES [ALLOW_SITES ...]]\n",
      "                        [-bs BLOCK_SITES [BLOCK_SITES ...]] [-rs REGEX_SITES]\n",
      "                        [--query-results-strategy QUERY_RESULTS_STRATEGY]\n",
      "                        [--replicas-strategy REPLICAS_STRATEGY]\n",
      "\n",
      "options:\n",
      "  -h, --help            show this help message and exit\n",
      "  --cli                 Start the dataset discovery CLI\n",
      "  -d DATASET_DEFINITION, --dataset-definition DATASET_DEFINITION\n",
      "                        Dataset definition file\n",
      "  -o OUTPUT, --output OUTPUT\n",
      "                        Output name for dataset discovery output (no fileset\n",
      "                        preprocessing)\n",
      "  -fo FILESET_OUTPUT, --fileset-output FILESET_OUTPUT\n",
      "                        Output name for fileset\n",
      "  -p, --preprocess      Preprocess with dask\n",
      "  --step-size STEP_SIZE\n",
      "                        Step size for preprocessing\n",
      "  --dask-cluster DASK_CLUSTER\n",
      "                        Dask cluster url\n",
      "  -as ALLOW_SITES [ALLOW_SITES ...], --allow-sites ALLOW_SITES [ALLOW_SITES ...]\n",
      "                        List of sites to be allowlisted\n",
      "  -bs BLOCK_SITES [BLOCK_SITES ...], --block-sites BLOCK_SITES [BLOCK_SITES ...]\n",
      "                        List of sites to be blocklisted\n",
      "  -rs REGEX_SITES, --regex-sites REGEX_SITES\n",
      "                        Regex string to be used to filter the sites\n",
      "  --query-results-strategy QUERY_RESULTS_STRATEGY\n",
      "                        Mode for query results selection: [all|manual]\n",
      "  --replicas-strategy REPLICAS_STRATEGY\n",
      "                        Mode for selecting replicas for datasets:\n",
      "                        [manual|round-robin|choose]\n"
     ]
    }
   ],
   "source": [
    "!python -m coffea.dataset_tools.dataset_query --help"
   ]
  },
  {
   "cell_type": "code",
   "execution_count": null,
   "id": "e93cb24c-44ed-43f1-8aae-0f6b03c88de0",
   "metadata": {},
   "outputs": [],
   "source": [
    "!python -m coffea.dataset_tools.dataset_query --cli  -d dataset_definition.json"
   ]
  },
  {
   "cell_type": "markdown",
   "id": "f7d52663-c5e3-4abe-9c2f-4bf8f08d8919",
   "metadata": {},
   "source": [
    "## Preprocess the fileset with dask"
   ]
  },
  {
   "cell_type": "markdown",
   "id": "046a0c99-6500-41b5-9954-fa7b78061800",
   "metadata": {},
   "source": [
    "The replicas metadata contain the file location in the CMS grid. \n",
    "This info can be **preprocessed** with uproot and dask-awkward to extract the **fileset**. Practically a fileset is a collection of metadata about the file location, file name, chunks splitting, that can be used directly to configure the uproot reading. \n",
    "\n",
    "This step replaces the preprocessing step in coffea 0.7.x. The output of the preprocessing can be used directly to start an analysis with dask-awkward.\n",
    "\n",
    "The preprocessing is performed locally with multiple processes if `dask_cluster==None`, but a pre-existing dask cluster url can be passed."
   ]
  },
  {
   "cell_type": "code",
   "execution_count": 22,
   "id": "04a2aeca-9c9f-4baf-b33b-b4f1b5ba4d4a",
   "metadata": {},
   "outputs": [
    {
     "data": {
      "text/html": [
       "<pre style=\"white-space:pre;overflow-x:auto;line-height:normal;font-family:Menlo,'DejaVu Sans Mono',consolas,'Courier New',monospace\"><span style=\"color: #008000; text-decoration-color: #008000\">⠙</span> <span style=\"color: #800000; text-decoration-color: #800000\"> Preprocessing files to extract available chunks with dask</span>\n",
       "</pre>\n"
      ],
      "text/plain": [
       "\u001b[32m⠙\u001b[0m \u001b[31m Preprocessing files to extract available chunks with dask\u001b[0m\n"
      ]
     },
     "metadata": {},
     "output_type": "display_data"
    },
    {
     "data": {
      "text/html": [
       "<pre style=\"white-space:pre;overflow-x:auto;line-height:normal;font-family:Menlo,'DejaVu Sans Mono',consolas,'Courier New',monospace\"></pre>\n"
      ],
      "text/plain": []
     },
     "metadata": {},
     "output_type": "display_data"
    },
    {
     "data": {
      "text/html": [
       "<pre style=\"white-space:pre;overflow-x:auto;line-height:normal;font-family:Menlo,'DejaVu Sans Mono',consolas,'Courier New',monospace\">Saved available fileset chunks to fileset_available.json.gz\n",
       "</pre>\n"
      ],
      "text/plain": [
       "Saved available fileset chunks to fileset_available.json.gz\n"
      ]
     },
     "metadata": {},
     "output_type": "display_data"
    },
    {
     "data": {
      "text/html": [
       "<pre style=\"white-space:pre;overflow-x:auto;line-height:normal;font-family:Menlo,'DejaVu Sans Mono',consolas,'Courier New',monospace\">Saved all fileset chunks to fileset_all.json.gz\n",
       "</pre>\n"
      ],
      "text/plain": [
       "Saved all fileset chunks to fileset_all.json.gz\n"
      ]
     },
     "metadata": {},
     "output_type": "display_data"
    }
   ],
   "source": [
    "fileset_total = ddc.do_preprocess(output_file=\"fileset\",  \n",
    "                  step_size=10000,  #chunk size for files splitting\n",
    "                  align_to_clusters=False,\n",
    "                 dask_cluster=None)"
   ]
  },
  {
   "cell_type": "code",
   "execution_count": 24,
   "id": "d1206bce-b726-43cc-b217-d74fd5516147",
   "metadata": {},
   "outputs": [],
   "source": [
    "import gzip\n",
    "import json\n",
    "with gzip.open(\"fileset_available.json.gz\", \"rt\") as file:\n",
    "    fileset_available = json.load(file)"
   ]
  },
  {
   "cell_type": "code",
   "execution_count": 32,
   "id": "957ea9c6-783a-4932-960f-cbec5f2f0656",
   "metadata": {},
   "outputs": [
    {
     "name": "stdout",
     "output_type": "stream",
     "text": [
      "root://cmsxrd.ts.infn.it:1094///store/mc/RunIISummer20UL18NanoAODv9/DYJetsToLL_M-50_TuneCP5_13TeV-amcatnloFXFX-pythia8/NANOAODSIM/106X_upgrade2018_realistic_v16_L1v1-v2/100000/13D0AD97-6B32-CB4C-BA87-5E37BA4CF20E.root {'object_path': 'Events', 'steps': [[0, 10000], [10000, 20000], [20000, 30000], [30000, 40000], [40000, 50000], [50000, 59081]], 'uuid': 'fbe50b00-1f7e-11ec-97b8-2bbee183beef'}\n",
      "root://cmsxrd.ts.infn.it:1094///store/mc/RunIISummer20UL18NanoAODv9/DYJetsToLL_M-50_TuneCP5_13TeV-amcatnloFXFX-pythia8/NANOAODSIM/106X_upgrade2018_realistic_v16_L1v1-v2/230000/00C9792D-ACD2-2547-BB04-097F0C4E47E3.root {'object_path': 'Events', 'steps': [[0, 10000], [10000, 20000], [20000, 30000], [30000, 40000], [40000, 50000], [50000, 60000], [60000, 70000], [70000, 80000], [80000, 90000], [90000, 100000], [100000, 110000], [110000, 120000], [120000, 130000], [130000, 138192]], 'uuid': '938a4fe2-1d77-11ec-bddf-59319e86beef'}\n",
      "root://dcache-cms-xrootd.desy.de:1094//store/mc/RunIISummer20UL18NanoAODv9/DYJetsToLL_M-50_TuneCP5_13TeV-amcatnloFXFX-pythia8/NANOAODSIM/106X_upgrade2018_realistic_v16_L1v1-v2/230000/00EA9563-5449-D24E-9566-98AE8E2A61AE.root {'object_path': 'Events', 'steps': [[0, 10000], [10000, 20000], [20000, 30000], [30000, 40000], [40000, 50000], [50000, 60000], [60000, 70000], [70000, 80000], [80000, 90000], [90000, 100000], [100000, 110000], [110000, 120000], [120000, 130000], [130000, 140000], [140000, 150000], [150000, 160000], [160000, 170000], [170000, 180000], [180000, 190000], [190000, 200000], [200000, 210000], [210000, 220000], [220000, 230000], [230000, 240000], [240000, 250000], [250000, 260000], [260000, 270000], [270000, 280000], [280000, 290000], [290000, 300000], [300000, 310000], [310000, 320000], [320000, 330000], [330000, 340000], [340000, 350000], [350000, 360000], [360000, 370000], [370000, 380000], [380000, 390000], [390000, 400000], [400000, 410000], [410000, 420000], [420000, 430000], [430000, 440000], [440000, 450000], [450000, 460000], [460000, 470000], [470000, 480000], [480000, 490000], [490000, 500000], [500000, 510000], [510000, 520000], [520000, 530000], [530000, 540000], [540000, 550000], [550000, 560000], [560000, 570000], [570000, 580000], [580000, 590000], [590000, 600000], [600000, 610000], [610000, 620000], [620000, 630000], [630000, 640000], [640000, 650000], [650000, 660000], [660000, 670000], [670000, 680000], [680000, 690000], [690000, 700000], [700000, 710000], [710000, 720000], [720000, 730000], [730000, 740000], [740000, 750000], [750000, 760000], [760000, 770000], [770000, 780000], [780000, 790000], [790000, 800000], [800000, 810000], [810000, 820000], [820000, 830000], [830000, 840000], [840000, 850000], [850000, 860000], [860000, 870000], [870000, 880000], [880000, 890000], [890000, 900000], [900000, 910000], [910000, 920000], [920000, 930000], [930000, 940000], [940000, 950000], [950000, 960000], [960000, 970000], [970000, 980000], [980000, 990000], [990000, 1000000], [1000000, 1010000], [1010000, 1020000], [1020000, 1030000], [1030000, 1040000], [1040000, 1050000], [1050000, 1060000], [1060000, 1070000], [1070000, 1080000], [1080000, 1090000], [1090000, 1100000], [1100000, 1110000], [1110000, 1120000], [1120000, 1130000], [1130000, 1140000], [1140000, 1150000], [1150000, 1160000], [1160000, 1170000], [1170000, 1180000], [1180000, 1190000], [1190000, 1200000], [1200000, 1210000], [1210000, 1220000], [1220000, 1230000], [1230000, 1240000], [1240000, 1250000], [1250000, 1260000], [1260000, 1270000], [1270000, 1280000], [1280000, 1290000], [1290000, 1300000], [1300000, 1310000], [1310000, 1320000], [1320000, 1330000], [1330000, 1340000], [1340000, 1350000], [1350000, 1360000], [1360000, 1370000], [1370000, 1380000], [1380000, 1390000], [1390000, 1400000], [1400000, 1410000], [1410000, 1420000], [1420000, 1430000], [1430000, 1440000], [1440000, 1450000], [1450000, 1460000], [1460000, 1470000], [1470000, 1480000], [1480000, 1490000], [1490000, 1500000], [1500000, 1510000], [1510000, 1520000], [1520000, 1530000], [1530000, 1540000], [1540000, 1550000], [1550000, 1551326]], 'uuid': 'ced110a0-1b0f-11ec-b2e9-09c08e80beef'}\n",
      "root://grid-cms-xrootd.physik.rwth-aachen.de:1094///store/mc/RunIISummer20UL18NanoAODv9/DYJetsToLL_M-50_TuneCP5_13TeV-amcatnloFXFX-pythia8/NANOAODSIM/106X_upgrade2018_realistic_v16_L1v1-v2/230000/068B0797-DEF5-9341-BBBE-EDBE50EBC6A1.root {'object_path': 'Events', 'steps': [[0, 10000], [10000, 20000], [20000, 30000], [30000, 40000], [40000, 50000], [50000, 60000], [60000, 70000], [70000, 80000], [80000, 90000], [90000, 100000], [100000, 110000], [110000, 120000], [120000, 130000], [130000, 140000], [140000, 150000], [150000, 160000], [160000, 170000], [170000, 180000], [180000, 190000], [190000, 200000], [200000, 210000], [210000, 220000], [220000, 230000], [230000, 240000], [240000, 250000], [250000, 260000], [260000, 270000], [270000, 280000], [280000, 290000], [290000, 300000], [300000, 310000], [310000, 320000], [320000, 330000], [330000, 340000], [340000, 350000], [350000, 360000], [360000, 370000], [370000, 380000], [380000, 390000], [390000, 400000], [400000, 410000], [410000, 420000], [420000, 430000], [430000, 440000], [440000, 450000], [450000, 460000], [460000, 470000], [470000, 480000], [480000, 490000], [490000, 500000], [500000, 510000], [510000, 520000], [520000, 530000], [530000, 540000], [540000, 550000], [550000, 560000], [560000, 570000], [570000, 580000], [580000, 590000], [590000, 600000], [600000, 610000], [610000, 620000], [620000, 630000], [630000, 640000], [640000, 650000], [650000, 660000], [660000, 670000], [670000, 680000], [680000, 690000], [690000, 700000], [700000, 710000], [710000, 720000], [720000, 730000], [730000, 740000], [740000, 750000], [750000, 760000], [760000, 770000], [770000, 780000], [780000, 790000], [790000, 800000], [800000, 810000], [810000, 820000], [820000, 830000], [830000, 840000], [840000, 850000], [850000, 860000], [860000, 870000], [870000, 880000], [880000, 890000], [890000, 900000], [900000, 910000], [910000, 920000], [920000, 930000], [930000, 940000], [940000, 950000], [950000, 960000], [960000, 970000], [970000, 980000], [980000, 990000], [990000, 1000000], [1000000, 1010000], [1010000, 1020000], [1020000, 1030000], [1030000, 1040000], [1040000, 1050000], [1050000, 1060000], [1060000, 1070000], [1070000, 1080000], [1080000, 1090000], [1090000, 1100000], [1100000, 1110000], [1110000, 1120000], [1120000, 1130000], [1130000, 1138724]], 'uuid': 'd86ab2e2-1b28-11ec-8504-738a8e80beef'}\n",
      "root://cmsxrd.ts.infn.it:1094///store/mc/RunIISummer20UL18NanoAODv9/DYJetsToLL_M-50_TuneCP5_13TeV-amcatnloFXFX-pythia8/NANOAODSIM/106X_upgrade2018_realistic_v16_L1v1-v2/230000/0CFD79EF-41AB-4B4A-8F62-06393273EEDE.root {'object_path': 'Events', 'steps': [[0, 10000], [10000, 20000], [20000, 30000], [30000, 40000], [40000, 50000], [50000, 60000], [60000, 70000], [70000, 80000], [80000, 90000], [90000, 100000], [100000, 110000], [110000, 120000], [120000, 130000], [130000, 140000], [140000, 150000], [150000, 160000], [160000, 170000], [170000, 180000], [180000, 190000], [190000, 200000], [200000, 210000], [210000, 220000], [220000, 230000], [230000, 240000], [240000, 250000], [250000, 260000], [260000, 270000], [270000, 280000], [280000, 290000], [290000, 300000], [300000, 310000], [310000, 320000], [320000, 330000], [330000, 340000], [340000, 350000], [350000, 360000], [360000, 370000], [370000, 380000], [380000, 390000], [390000, 400000], [400000, 410000], [410000, 420000], [420000, 430000], [430000, 440000], [440000, 450000], [450000, 460000], [460000, 470000], [470000, 480000], [480000, 490000], [490000, 500000], [500000, 510000], [510000, 520000], [520000, 530000], [530000, 540000], [540000, 550000], [550000, 560000], [560000, 570000], [570000, 580000], [580000, 590000], [590000, 600000], [600000, 610000], [610000, 620000], [620000, 630000], [630000, 640000], [640000, 650000], [650000, 660000], [660000, 670000], [670000, 680000], [680000, 690000], [690000, 700000], [700000, 710000], [710000, 720000], [720000, 730000], [730000, 740000], [740000, 750000], [750000, 760000], [760000, 770000], [770000, 780000], [780000, 790000], [790000, 800000], [800000, 810000], [810000, 820000], [820000, 830000], [830000, 840000], [840000, 850000], [850000, 860000], [860000, 870000], [870000, 880000], [880000, 890000], [890000, 900000], [900000, 910000], [910000, 911868]], 'uuid': '9d799986-1ad9-11ec-9257-fc1b1e0abeef'}\n"
     ]
    }
   ],
   "source": [
    "dataset = '/DYJetsToLL_M-50_TuneCP5_13TeV-amcatnloFXFX-pythia8/RunIISummer20UL18NanoAODv9-106X_upgrade2018_realistic_v16_L1v1-v2/NANOAODSIM'\n",
    "for i, (file, meta) in enumerate(fileset_available[dataset][\"files\"].items()):\n",
    "    print(file, meta)    \n",
    "    if i>3: break"
   ]
  },
  {
   "cell_type": "code",
   "execution_count": null,
   "id": "f23bae95-8a2e-46a9-a884-714474a8ff12",
   "metadata": {},
   "outputs": [],
   "source": []
  }
 ],
 "metadata": {
  "kernelspec": {
   "display_name": "Python 3 (ipykernel)",
   "language": "python",
   "name": "python3"
  },
  "language_info": {
   "codemirror_mode": {
    "name": "ipython",
    "version": 3
   },
   "file_extension": ".py",
   "mimetype": "text/x-python",
   "name": "python",
   "nbconvert_exporter": "python",
   "pygments_lexer": "ipython3",
   "version": "3.10.13"
  }
 },
 "nbformat": 4,
 "nbformat_minor": 5
}
