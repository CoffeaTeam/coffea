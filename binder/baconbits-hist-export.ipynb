{
 "cells": [
  {
   "cell_type": "code",
   "execution_count": 1,
   "metadata": {},
   "outputs": [],
   "source": [
    "import uproot\n",
    "import os\n",
    "from collections import OrderedDict\n",
    "from fnal_column_analysis_tools import hist"
   ]
  },
  {
   "cell_type": "code",
   "execution_count": 2,
   "metadata": {},
   "outputs": [],
   "source": [
    "import pickle, gzip\n",
    "\n",
    "# moving numpy arrays through pickle between python 2 \n",
    "# and python 3 can get a bit messed up, the following\n",
    "# seems to work in most cases\n",
    "import six\n",
    "with gzip.open(\"final.pkl.gz\", \"rb\") as fin:\n",
    "    if six.PY2:\n",
    "        final = pickle.load(fin)\n",
    "    else:\n",
    "        final = pickle.load(fin, encoding='latin1')"
   ]
  },
  {
   "cell_type": "code",
   "execution_count": 3,
   "metadata": {},
   "outputs": [],
   "source": [
    "process = hist.Cat(\"process\", \"Process\", sorting='placement')\n",
    "process_cats = (\"dataset\", \"gencat\")\n",
    "process_map = OrderedDict()\n",
    "process_map[\"QCDinV\"] = (\"*\", 0)\n",
    "process_map[\"Zqq\"] = (\"ZJetsToQQ_HT*\", 1)\n",
    "process_map[\"Zcc\"] = (\"ZJetsToQQ_HT*\", 2)\n",
    "process_map[\"Zbb\"] = (\"ZJetsToQQ_HT*\", 3)\n",
    "process_map[\"Wqq\"] = (\"WJetsToQQ_HT*\", 1)\n",
    "process_map[\"Wcs\"] = (\"WJetsToQQ_HT*\", 2)\n",
    "\n",
    "final_mapped = final.group(process, process_cats, process_map)"
   ]
  },
  {
   "cell_type": "code",
   "execution_count": 4,
   "metadata": {},
   "outputs": [
    {
     "data": {
      "text/plain": [
       "['QCDinV', 'Zqq', 'Zcc', 'Zbb', 'Wqq', 'Wcs']"
      ]
     },
     "metadata": {},
     "output_type": "display_data"
    },
    {
     "data": {
      "text/plain": [
       "[<Interval ([450, 500)) instance at 0x11edf8e80>,\n",
       " <Interval ([500, 550)) instance at 0x11edf8eb8>,\n",
       " <Interval ([550, 600)) instance at 0x11edf8ef0>,\n",
       " <Interval ([600, 675)) instance at 0x11edf8f28>,\n",
       " <Interval ([675, 800)) instance at 0x11edf8f60>,\n",
       " <Interval ([800, 1000)) instance at 0x11edf8f98>]"
      ]
     },
     "metadata": {},
     "output_type": "display_data"
    }
   ],
   "source": [
    "templates = final_mapped[:,0.8:,:,:].sum(\"doubleB\")\n",
    "processes = templates.identifiers(\"process\")\n",
    "display(processes)\n",
    "ptjbins = templates.identifiers(\"ptj\")\n",
    "display(ptjbins)"
   ]
  },
  {
   "cell_type": "code",
   "execution_count": 5,
   "metadata": {},
   "outputs": [
    {
     "name": "stdout",
     "output_type": "stream",
     "text": [
      "process-QCDinV_ptj-450to500\n",
      "process-QCDinV_ptj-500to550\n",
      "process-QCDinV_ptj-550to600\n",
      "process-QCDinV_ptj-600to675\n",
      "process-QCDinV_ptj-675to800\n",
      "process-QCDinV_ptj-800to1000\n",
      "process-Zqq_ptj-450to500\n",
      "process-Zqq_ptj-500to550\n",
      "process-Zqq_ptj-550to600\n",
      "process-Zqq_ptj-600to675\n",
      "process-Zqq_ptj-675to800\n",
      "process-Zqq_ptj-800to1000\n",
      "process-Zcc_ptj-450to500\n",
      "process-Zcc_ptj-500to550\n",
      "process-Zcc_ptj-550to600\n",
      "process-Zcc_ptj-600to675\n",
      "process-Zcc_ptj-675to800\n",
      "process-Zcc_ptj-800to1000\n",
      "process-Zbb_ptj-450to500\n",
      "process-Zbb_ptj-500to550\n",
      "process-Zbb_ptj-550to600\n",
      "process-Zbb_ptj-600to675\n",
      "process-Zbb_ptj-675to800\n",
      "process-Zbb_ptj-800to1000\n",
      "process-Wqq_ptj-450to500\n",
      "process-Wqq_ptj-500to550\n",
      "process-Wqq_ptj-550to600\n",
      "process-Wqq_ptj-600to675\n",
      "process-Wqq_ptj-675to800\n",
      "process-Wqq_ptj-800to1000\n",
      "process-Wcs_ptj-450to500\n",
      "process-Wcs_ptj-500to550\n",
      "process-Wcs_ptj-550to600\n",
      "process-Wcs_ptj-600to675\n",
      "process-Wcs_ptj-675to800\n",
      "process-Wcs_ptj-800to1000\n"
     ]
    }
   ],
   "source": [
    "if os.path.exists(\"test.root\"):\n",
    "    os.remove(\"test.root\")\n",
    "fout = uproot.create(\"test.root\")\n",
    "for pname in processes:\n",
    "    for b in ptjbins:\n",
    "        bname = \"process-%s_ptj-%.0fto%.0f\" % (pname, b.lo, b.hi)\n",
    "        print(bname)\n",
    "        # put overflow in last ptj bin\n",
    "        ovf = 'over' if b.hi == 1000. else 'none'\n",
    "        fout[bname] = hist.export1d(templates.project(\"process\", pname).project(\"ptj\", b, overflow=ovf), axis=\"msd\")\n",
    "fout.close()"
   ]
  },
  {
   "cell_type": "code",
   "execution_count": null,
   "metadata": {},
   "outputs": [],
   "source": []
  }
 ],
 "metadata": {
  "kernelspec": {
   "display_name": "Python 3",
   "language": "python",
   "name": "python3"
  },
  "language_info": {
   "codemirror_mode": {
    "name": "ipython",
    "version": 3
   },
   "file_extension": ".py",
   "mimetype": "text/x-python",
   "name": "python",
   "nbconvert_exporter": "python",
   "pygments_lexer": "ipython3",
   "version": "3.7.1"
  }
 },
 "nbformat": 4,
 "nbformat_minor": 2
}
